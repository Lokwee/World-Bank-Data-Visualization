{
 "cells": [
  {
   "cell_type": "code",
   "execution_count": 1,
   "id": "flush-bachelor",
   "metadata": {},
   "outputs": [],
   "source": [
    "import pandas as pd\n",
    "import numpy as np\n",
    "import matplotlib.pyplot as plt\n",
    "import seaborn as sns"
   ]
  },
  {
   "cell_type": "code",
   "execution_count": 2,
   "id": "specific-watts",
   "metadata": {},
   "outputs": [],
   "source": [
    "# Read dataset\n",
    "df = pd.read_csv('World_bank_data.csv')"
   ]
  },
  {
   "cell_type": "code",
   "execution_count": 3,
   "id": "removed-liberty",
   "metadata": {},
   "outputs": [
    {
     "data": {
      "text/html": [
       "<div>\n",
       "<style scoped>\n",
       "    .dataframe tbody tr th:only-of-type {\n",
       "        vertical-align: middle;\n",
       "    }\n",
       "\n",
       "    .dataframe tbody tr th {\n",
       "        vertical-align: top;\n",
       "    }\n",
       "\n",
       "    .dataframe thead th {\n",
       "        text-align: right;\n",
       "    }\n",
       "</style>\n",
       "<table border=\"1\" class=\"dataframe\">\n",
       "  <thead>\n",
       "    <tr style=\"text-align: right;\">\n",
       "      <th></th>\n",
       "      <th>Unnamed: 0</th>\n",
       "      <th>country</th>\n",
       "      <th>date</th>\n",
       "      <th>Population</th>\n",
       "      <th>GDP</th>\n",
       "      <th>Population_Growth</th>\n",
       "      <th>Physicians_per1000</th>\n",
       "      <th>HIV_Incidence</th>\n",
       "      <th>Land_area</th>\n",
       "      <th>Literacy_rate</th>\n",
       "      <th>...</th>\n",
       "      <th>Fertility_rate</th>\n",
       "      <th>Female_Population</th>\n",
       "      <th>Male_Population</th>\n",
       "      <th>Population_65+</th>\n",
       "      <th>Population_age_0to14</th>\n",
       "      <th>Population_15to64</th>\n",
       "      <th>Death_per1000</th>\n",
       "      <th>Income_level</th>\n",
       "      <th>Region</th>\n",
       "      <th>Codes</th>\n",
       "    </tr>\n",
       "  </thead>\n",
       "  <tbody>\n",
       "    <tr>\n",
       "      <th>0</th>\n",
       "      <td>0</td>\n",
       "      <td>Afghanistan</td>\n",
       "      <td>2016</td>\n",
       "      <td>35383128.0</td>\n",
       "      <td>509.218661</td>\n",
       "      <td>2.778317</td>\n",
       "      <td>0.2782</td>\n",
       "      <td>0.07</td>\n",
       "      <td>652860.0</td>\n",
       "      <td>NaN</td>\n",
       "      <td>...</td>\n",
       "      <td>4.800</td>\n",
       "      <td>48.599668</td>\n",
       "      <td>51.400332</td>\n",
       "      <td>891627.0</td>\n",
       "      <td>15664859.0</td>\n",
       "      <td>18826642.0</td>\n",
       "      <td>6.742</td>\n",
       "      <td>LIC</td>\n",
       "      <td>South Asia</td>\n",
       "      <td>AFG</td>\n",
       "    </tr>\n",
       "    <tr>\n",
       "      <th>1</th>\n",
       "      <td>2</td>\n",
       "      <td>Albania</td>\n",
       "      <td>2016</td>\n",
       "      <td>2876101.0</td>\n",
       "      <td>4124.055726</td>\n",
       "      <td>-0.159880</td>\n",
       "      <td>1.2164</td>\n",
       "      <td>0.06</td>\n",
       "      <td>27400.0</td>\n",
       "      <td>NaN</td>\n",
       "      <td>...</td>\n",
       "      <td>1.659</td>\n",
       "      <td>49.052999</td>\n",
       "      <td>50.947001</td>\n",
       "      <td>372634.0</td>\n",
       "      <td>528734.0</td>\n",
       "      <td>1974734.0</td>\n",
       "      <td>7.534</td>\n",
       "      <td>LMY</td>\n",
       "      <td>Europe and Central Asia</td>\n",
       "      <td>ALB</td>\n",
       "    </tr>\n",
       "    <tr>\n",
       "      <th>2</th>\n",
       "      <td>4</td>\n",
       "      <td>Algeria</td>\n",
       "      <td>2016</td>\n",
       "      <td>40551404.0</td>\n",
       "      <td>3945.482081</td>\n",
       "      <td>2.051355</td>\n",
       "      <td>1.8325</td>\n",
       "      <td>0.08</td>\n",
       "      <td>2381741.0</td>\n",
       "      <td>NaN</td>\n",
       "      <td>...</td>\n",
       "      <td>3.052</td>\n",
       "      <td>49.491505</td>\n",
       "      <td>50.508495</td>\n",
       "      <td>2436321.0</td>\n",
       "      <td>11814429.0</td>\n",
       "      <td>26300654.0</td>\n",
       "      <td>4.717</td>\n",
       "      <td>LMC</td>\n",
       "      <td>Middle East and North Africa</td>\n",
       "      <td>DZA</td>\n",
       "    </tr>\n",
       "    <tr>\n",
       "      <th>3</th>\n",
       "      <td>6</td>\n",
       "      <td>American Samoa</td>\n",
       "      <td>2016</td>\n",
       "      <td>55741.0</td>\n",
       "      <td>11696.955562</td>\n",
       "      <td>-0.127294</td>\n",
       "      <td>NaN</td>\n",
       "      <td>NaN</td>\n",
       "      <td>200.0</td>\n",
       "      <td>NaN</td>\n",
       "      <td>...</td>\n",
       "      <td>NaN</td>\n",
       "      <td>NaN</td>\n",
       "      <td>NaN</td>\n",
       "      <td>NaN</td>\n",
       "      <td>NaN</td>\n",
       "      <td>NaN</td>\n",
       "      <td>NaN</td>\n",
       "      <td>LMY</td>\n",
       "      <td>East Asia and Pacific</td>\n",
       "      <td>ASM</td>\n",
       "    </tr>\n",
       "    <tr>\n",
       "      <th>4</th>\n",
       "      <td>8</td>\n",
       "      <td>Andorra</td>\n",
       "      <td>2016</td>\n",
       "      <td>77297.0</td>\n",
       "      <td>37474.665406</td>\n",
       "      <td>-0.919470</td>\n",
       "      <td>NaN</td>\n",
       "      <td>NaN</td>\n",
       "      <td>470.0</td>\n",
       "      <td>NaN</td>\n",
       "      <td>...</td>\n",
       "      <td>NaN</td>\n",
       "      <td>NaN</td>\n",
       "      <td>NaN</td>\n",
       "      <td>NaN</td>\n",
       "      <td>NaN</td>\n",
       "      <td>NaN</td>\n",
       "      <td>4.300</td>\n",
       "      <td>HIC</td>\n",
       "      <td>Europe and Central Asia</td>\n",
       "      <td>AND</td>\n",
       "    </tr>\n",
       "  </tbody>\n",
       "</table>\n",
       "<p>5 rows × 28 columns</p>\n",
       "</div>"
      ],
      "text/plain": [
       "   Unnamed: 0         country  date  Population           GDP  \\\n",
       "0           0     Afghanistan  2016  35383128.0    509.218661   \n",
       "1           2         Albania  2016   2876101.0   4124.055726   \n",
       "2           4         Algeria  2016  40551404.0   3945.482081   \n",
       "3           6  American Samoa  2016     55741.0  11696.955562   \n",
       "4           8         Andorra  2016     77297.0  37474.665406   \n",
       "\n",
       "   Population_Growth  Physicians_per1000  HIV_Incidence  Land_area  \\\n",
       "0           2.778317              0.2782           0.07   652860.0   \n",
       "1          -0.159880              1.2164           0.06    27400.0   \n",
       "2           2.051355              1.8325           0.08  2381741.0   \n",
       "3          -0.127294                 NaN            NaN      200.0   \n",
       "4          -0.919470                 NaN            NaN      470.0   \n",
       "\n",
       "   Literacy_rate  ...  Fertility_rate  Female_Population  Male_Population  \\\n",
       "0            NaN  ...           4.800          48.599668        51.400332   \n",
       "1            NaN  ...           1.659          49.052999        50.947001   \n",
       "2            NaN  ...           3.052          49.491505        50.508495   \n",
       "3            NaN  ...             NaN                NaN              NaN   \n",
       "4            NaN  ...             NaN                NaN              NaN   \n",
       "\n",
       "   Population_65+  Population_age_0to14  Population_15to64  Death_per1000  \\\n",
       "0        891627.0            15664859.0         18826642.0          6.742   \n",
       "1        372634.0              528734.0          1974734.0          7.534   \n",
       "2       2436321.0            11814429.0         26300654.0          4.717   \n",
       "3             NaN                   NaN                NaN            NaN   \n",
       "4             NaN                   NaN                NaN          4.300   \n",
       "\n",
       "   Income_level                        Region  Codes  \n",
       "0           LIC                    South Asia    AFG  \n",
       "1           LMY       Europe and Central Asia    ALB  \n",
       "2           LMC  Middle East and North Africa    DZA  \n",
       "3           LMY         East Asia and Pacific    ASM  \n",
       "4           HIC       Europe and Central Asia    AND  \n",
       "\n",
       "[5 rows x 28 columns]"
      ]
     },
     "execution_count": 3,
     "metadata": {},
     "output_type": "execute_result"
    }
   ],
   "source": [
    "# Data exploration\n",
    "df.head()"
   ]
  },
  {
   "cell_type": "code",
   "execution_count": 4,
   "id": "approved-enforcement",
   "metadata": {},
   "outputs": [
    {
     "data": {
      "text/plain": [
       "(264, 28)"
      ]
     },
     "execution_count": 4,
     "metadata": {},
     "output_type": "execute_result"
    }
   ],
   "source": [
    "df.shape"
   ]
  },
  {
   "cell_type": "code",
   "execution_count": 5,
   "id": "cheap-tooth",
   "metadata": {},
   "outputs": [
    {
     "data": {
      "text/html": [
       "<div>\n",
       "<style scoped>\n",
       "    .dataframe tbody tr th:only-of-type {\n",
       "        vertical-align: middle;\n",
       "    }\n",
       "\n",
       "    .dataframe tbody tr th {\n",
       "        vertical-align: top;\n",
       "    }\n",
       "\n",
       "    .dataframe thead th {\n",
       "        text-align: right;\n",
       "    }\n",
       "</style>\n",
       "<table border=\"1\" class=\"dataframe\">\n",
       "  <thead>\n",
       "    <tr style=\"text-align: right;\">\n",
       "      <th></th>\n",
       "      <th>Unnamed: 0</th>\n",
       "      <th>date</th>\n",
       "      <th>Population</th>\n",
       "      <th>GDP</th>\n",
       "      <th>Population_Growth</th>\n",
       "      <th>Physicians_per1000</th>\n",
       "      <th>HIV_Incidence</th>\n",
       "      <th>Land_area</th>\n",
       "      <th>Literacy_rate</th>\n",
       "      <th>Hospital_beds_per1000</th>\n",
       "      <th>...</th>\n",
       "      <th>Life_expectancy</th>\n",
       "      <th>Adult_obesity</th>\n",
       "      <th>HIV_Prevalence</th>\n",
       "      <th>Fertility_rate</th>\n",
       "      <th>Female_Population</th>\n",
       "      <th>Male_Population</th>\n",
       "      <th>Population_65+</th>\n",
       "      <th>Population_age_0to14</th>\n",
       "      <th>Population_15to64</th>\n",
       "      <th>Death_per1000</th>\n",
       "    </tr>\n",
       "  </thead>\n",
       "  <tbody>\n",
       "    <tr>\n",
       "      <th>count</th>\n",
       "      <td>264.000000</td>\n",
       "      <td>264.0</td>\n",
       "      <td>2.620000e+02</td>\n",
       "      <td>252.000000</td>\n",
       "      <td>262.000000</td>\n",
       "      <td>113.000000</td>\n",
       "      <td>137.000000</td>\n",
       "      <td>2.630000e+02</td>\n",
       "      <td>74.000000</td>\n",
       "      <td>134.000000</td>\n",
       "      <td>...</td>\n",
       "      <td>247.000000</td>\n",
       "      <td>229.000000</td>\n",
       "      <td>145.000000</td>\n",
       "      <td>246.000000</td>\n",
       "      <td>239.000000</td>\n",
       "      <td>239.000000</td>\n",
       "      <td>2.390000e+02</td>\n",
       "      <td>2.390000e+02</td>\n",
       "      <td>2.390000e+02</td>\n",
       "      <td>253.000000</td>\n",
       "    </tr>\n",
       "    <tr>\n",
       "      <th>mean</th>\n",
       "      <td>263.000000</td>\n",
       "      <td>2016.0</td>\n",
       "      <td>3.006724e+08</td>\n",
       "      <td>15571.885761</td>\n",
       "      <td>1.292543</td>\n",
       "      <td>1.950816</td>\n",
       "      <td>1.273457</td>\n",
       "      <td>5.121065e+06</td>\n",
       "      <td>85.572629</td>\n",
       "      <td>3.175994</td>\n",
       "      <td>...</td>\n",
       "      <td>72.094956</td>\n",
       "      <td>48.057032</td>\n",
       "      <td>2.131114</td>\n",
       "      <td>2.735341</td>\n",
       "      <td>49.922136</td>\n",
       "      <td>50.077864</td>\n",
       "      <td>2.538331e+07</td>\n",
       "      <td>8.980453e+07</td>\n",
       "      <td>2.143051e+08</td>\n",
       "      <td>7.656120</td>\n",
       "    </tr>\n",
       "    <tr>\n",
       "      <th>std</th>\n",
       "      <td>152.708873</td>\n",
       "      <td>0.0</td>\n",
       "      <td>9.489739e+08</td>\n",
       "      <td>23557.571391</td>\n",
       "      <td>1.169523</td>\n",
       "      <td>1.625529</td>\n",
       "      <td>2.657377</td>\n",
       "      <td>1.515501e+07</td>\n",
       "      <td>14.552017</td>\n",
       "      <td>2.272238</td>\n",
       "      <td>...</td>\n",
       "      <td>7.496799</td>\n",
       "      <td>16.466229</td>\n",
       "      <td>4.453020</td>\n",
       "      <td>1.271946</td>\n",
       "      <td>2.991683</td>\n",
       "      <td>2.991683</td>\n",
       "      <td>7.668549e+07</td>\n",
       "      <td>2.659627e+08</td>\n",
       "      <td>6.531976e+08</td>\n",
       "      <td>2.483512</td>\n",
       "    </tr>\n",
       "    <tr>\n",
       "      <th>min</th>\n",
       "      <td>0.000000</td>\n",
       "      <td>2016.0</td>\n",
       "      <td>1.122500e+04</td>\n",
       "      <td>282.193130</td>\n",
       "      <td>-3.066274</td>\n",
       "      <td>0.012800</td>\n",
       "      <td>0.010000</td>\n",
       "      <td>2.027000e+00</td>\n",
       "      <td>22.311550</td>\n",
       "      <td>0.260000</td>\n",
       "      <td>...</td>\n",
       "      <td>51.593000</td>\n",
       "      <td>18.300000</td>\n",
       "      <td>0.100000</td>\n",
       "      <td>1.172000</td>\n",
       "      <td>24.166067</td>\n",
       "      <td>45.568206</td>\n",
       "      <td>3.991000e+03</td>\n",
       "      <td>1.914700e+04</td>\n",
       "      <td>5.855200e+04</td>\n",
       "      <td>1.146000</td>\n",
       "    </tr>\n",
       "    <tr>\n",
       "      <th>25%</th>\n",
       "      <td>131.500000</td>\n",
       "      <td>2016.0</td>\n",
       "      <td>1.513732e+06</td>\n",
       "      <td>2158.894865</td>\n",
       "      <td>0.525395</td>\n",
       "      <td>0.445000</td>\n",
       "      <td>0.120000</td>\n",
       "      <td>1.921100e+04</td>\n",
       "      <td>77.183151</td>\n",
       "      <td>1.466115</td>\n",
       "      <td>...</td>\n",
       "      <td>67.323000</td>\n",
       "      <td>31.009501</td>\n",
       "      <td>0.200000</td>\n",
       "      <td>1.748250</td>\n",
       "      <td>49.525654</td>\n",
       "      <td>49.103405</td>\n",
       "      <td>1.829955e+05</td>\n",
       "      <td>7.261090e+05</td>\n",
       "      <td>2.137696e+06</td>\n",
       "      <td>6.051000</td>\n",
       "    </tr>\n",
       "    <tr>\n",
       "      <th>50%</th>\n",
       "      <td>263.000000</td>\n",
       "      <td>2016.0</td>\n",
       "      <td>1.012427e+07</td>\n",
       "      <td>6027.162402</td>\n",
       "      <td>1.167565</td>\n",
       "      <td>1.864700</td>\n",
       "      <td>0.310000</td>\n",
       "      <td>1.918000e+05</td>\n",
       "      <td>92.976871</td>\n",
       "      <td>2.600000</td>\n",
       "      <td>...</td>\n",
       "      <td>73.395958</td>\n",
       "      <td>54.400000</td>\n",
       "      <td>0.515549</td>\n",
       "      <td>2.292500</td>\n",
       "      <td>50.170297</td>\n",
       "      <td>49.829703</td>\n",
       "      <td>7.676790e+05</td>\n",
       "      <td>3.696328e+06</td>\n",
       "      <td>7.267363e+06</td>\n",
       "      <td>7.373157</td>\n",
       "    </tr>\n",
       "    <tr>\n",
       "      <th>75%</th>\n",
       "      <td>394.500000</td>\n",
       "      <td>2016.0</td>\n",
       "      <td>5.541843e+07</td>\n",
       "      <td>18471.747622</td>\n",
       "      <td>2.152790</td>\n",
       "      <td>3.188500</td>\n",
       "      <td>1.110000</td>\n",
       "      <td>1.216640e+06</td>\n",
       "      <td>95.812641</td>\n",
       "      <td>4.460000</td>\n",
       "      <td>...</td>\n",
       "      <td>77.484000</td>\n",
       "      <td>59.600000</td>\n",
       "      <td>1.800000</td>\n",
       "      <td>3.631500</td>\n",
       "      <td>50.896595</td>\n",
       "      <td>50.474346</td>\n",
       "      <td>6.628528e+06</td>\n",
       "      <td>1.901162e+07</td>\n",
       "      <td>5.119583e+07</td>\n",
       "      <td>9.032000</td>\n",
       "    </tr>\n",
       "    <tr>\n",
       "      <th>max</th>\n",
       "      <td>526.000000</td>\n",
       "      <td>2016.0</td>\n",
       "      <td>7.424311e+09</td>\n",
       "      <td>170028.655718</td>\n",
       "      <td>4.845614</td>\n",
       "      <td>7.954100</td>\n",
       "      <td>19.030000</td>\n",
       "      <td>1.299566e+08</td>\n",
       "      <td>99.986572</td>\n",
       "      <td>13.110000</td>\n",
       "      <td>...</td>\n",
       "      <td>84.226829</td>\n",
       "      <td>88.500000</td>\n",
       "      <td>28.800000</td>\n",
       "      <td>7.087000</td>\n",
       "      <td>54.431794</td>\n",
       "      <td>75.833933</td>\n",
       "      <td>6.253955e+08</td>\n",
       "      <td>1.935095e+09</td>\n",
       "      <td>4.861031e+09</td>\n",
       "      <td>15.157000</td>\n",
       "    </tr>\n",
       "  </tbody>\n",
       "</table>\n",
       "<p>8 rows × 24 columns</p>\n",
       "</div>"
      ],
      "text/plain": [
       "       Unnamed: 0    date    Population            GDP  Population_Growth  \\\n",
       "count  264.000000   264.0  2.620000e+02     252.000000         262.000000   \n",
       "mean   263.000000  2016.0  3.006724e+08   15571.885761           1.292543   \n",
       "std    152.708873     0.0  9.489739e+08   23557.571391           1.169523   \n",
       "min      0.000000  2016.0  1.122500e+04     282.193130          -3.066274   \n",
       "25%    131.500000  2016.0  1.513732e+06    2158.894865           0.525395   \n",
       "50%    263.000000  2016.0  1.012427e+07    6027.162402           1.167565   \n",
       "75%    394.500000  2016.0  5.541843e+07   18471.747622           2.152790   \n",
       "max    526.000000  2016.0  7.424311e+09  170028.655718           4.845614   \n",
       "\n",
       "       Physicians_per1000  HIV_Incidence     Land_area  Literacy_rate  \\\n",
       "count          113.000000     137.000000  2.630000e+02      74.000000   \n",
       "mean             1.950816       1.273457  5.121065e+06      85.572629   \n",
       "std              1.625529       2.657377  1.515501e+07      14.552017   \n",
       "min              0.012800       0.010000  2.027000e+00      22.311550   \n",
       "25%              0.445000       0.120000  1.921100e+04      77.183151   \n",
       "50%              1.864700       0.310000  1.918000e+05      92.976871   \n",
       "75%              3.188500       1.110000  1.216640e+06      95.812641   \n",
       "max              7.954100      19.030000  1.299566e+08      99.986572   \n",
       "\n",
       "       Hospital_beds_per1000  ...  Life_expectancy  Adult_obesity  \\\n",
       "count             134.000000  ...       247.000000     229.000000   \n",
       "mean                3.175994  ...        72.094956      48.057032   \n",
       "std                 2.272238  ...         7.496799      16.466229   \n",
       "min                 0.260000  ...        51.593000      18.300000   \n",
       "25%                 1.466115  ...        67.323000      31.009501   \n",
       "50%                 2.600000  ...        73.395958      54.400000   \n",
       "75%                 4.460000  ...        77.484000      59.600000   \n",
       "max                13.110000  ...        84.226829      88.500000   \n",
       "\n",
       "       HIV_Prevalence  Fertility_rate  Female_Population  Male_Population  \\\n",
       "count      145.000000      246.000000         239.000000       239.000000   \n",
       "mean         2.131114        2.735341          49.922136        50.077864   \n",
       "std          4.453020        1.271946           2.991683         2.991683   \n",
       "min          0.100000        1.172000          24.166067        45.568206   \n",
       "25%          0.200000        1.748250          49.525654        49.103405   \n",
       "50%          0.515549        2.292500          50.170297        49.829703   \n",
       "75%          1.800000        3.631500          50.896595        50.474346   \n",
       "max         28.800000        7.087000          54.431794        75.833933   \n",
       "\n",
       "       Population_65+  Population_age_0to14  Population_15to64  Death_per1000  \n",
       "count    2.390000e+02          2.390000e+02       2.390000e+02     253.000000  \n",
       "mean     2.538331e+07          8.980453e+07       2.143051e+08       7.656120  \n",
       "std      7.668549e+07          2.659627e+08       6.531976e+08       2.483512  \n",
       "min      3.991000e+03          1.914700e+04       5.855200e+04       1.146000  \n",
       "25%      1.829955e+05          7.261090e+05       2.137696e+06       6.051000  \n",
       "50%      7.676790e+05          3.696328e+06       7.267363e+06       7.373157  \n",
       "75%      6.628528e+06          1.901162e+07       5.119583e+07       9.032000  \n",
       "max      6.253955e+08          1.935095e+09       4.861031e+09      15.157000  \n",
       "\n",
       "[8 rows x 24 columns]"
      ]
     },
     "execution_count": 5,
     "metadata": {},
     "output_type": "execute_result"
    }
   ],
   "source": [
    "# Describe data\n",
    "df.describe()"
   ]
  },
  {
   "cell_type": "code",
   "execution_count": 6,
   "id": "passing-details",
   "metadata": {},
   "outputs": [
    {
     "name": "stdout",
     "output_type": "stream",
     "text": [
      "<class 'pandas.core.frame.DataFrame'>\n",
      "RangeIndex: 264 entries, 0 to 263\n",
      "Data columns (total 28 columns):\n",
      " #   Column                         Non-Null Count  Dtype  \n",
      "---  ------                         --------------  -----  \n",
      " 0   Unnamed: 0                     264 non-null    int64  \n",
      " 1   country                        264 non-null    object \n",
      " 2   date                           264 non-null    int64  \n",
      " 3   Population                     262 non-null    float64\n",
      " 4   GDP                            252 non-null    float64\n",
      " 5   Population_Growth              262 non-null    float64\n",
      " 6   Physicians_per1000             113 non-null    float64\n",
      " 7   HIV_Incidence                  137 non-null    float64\n",
      " 8   Land_area                      263 non-null    float64\n",
      " 9   Literacy_rate                  74 non-null     float64\n",
      " 10  Hospital_beds_per1000          134 non-null    float64\n",
      " 11  Government_health_expenditure  231 non-null    float64\n",
      " 12  Prevalence_underweight_under5  45 non-null     float64\n",
      " 13  Infant_mortality_per1000       239 non-null    float64\n",
      " 14  Maternal_mortality_per100000   231 non-null    float64\n",
      " 15  Life_expectancy                247 non-null    float64\n",
      " 16  Adult_obesity                  229 non-null    float64\n",
      " 17  HIV_Prevalence                 145 non-null    float64\n",
      " 18  Fertility_rate                 246 non-null    float64\n",
      " 19  Female_Population              239 non-null    float64\n",
      " 20  Male_Population                239 non-null    float64\n",
      " 21  Population_65+                 239 non-null    float64\n",
      " 22  Population_age_0to14           239 non-null    float64\n",
      " 23  Population_15to64              239 non-null    float64\n",
      " 24  Death_per1000                  253 non-null    float64\n",
      " 25  Income_level                   264 non-null    object \n",
      " 26  Region                         264 non-null    object \n",
      " 27  Codes                          264 non-null    object \n",
      "dtypes: float64(22), int64(2), object(4)\n",
      "memory usage: 57.9+ KB\n"
     ]
    }
   ],
   "source": [
    "# Check for null\n",
    "# Literacy_rate and Prevalence_underweight_under5 have the most null values\n",
    "df.info()"
   ]
  },
  {
   "cell_type": "code",
   "execution_count": 7,
   "id": "desirable-headline",
   "metadata": {},
   "outputs": [
    {
     "data": {
      "text/plain": [
       "<AxesSubplot:xlabel='Income_level', ylabel='count'>"
      ]
     },
     "execution_count": 7,
     "metadata": {},
     "output_type": "execute_result"
    },
    {
     "data": {
      "image/png": "[encoded data removed]",
      "text/plain": [
       "<Figure size 432x288 with 1 Axes>"
      ]
     },
     "metadata": {
      "needs_background": "light"
     },
     "output_type": "display_data"
    }
   ],
   "source": [
    "# Visualize income_levels\n",
    "# Approximately 45 countries have undefined income levels\n",
    "sns.countplot(x = 'Income_level', data = df)"
   ]
  },
  {
   "cell_type": "code",
   "execution_count": 8,
   "id": "actual-alaska",
   "metadata": {},
   "outputs": [
    {
     "data": {
      "text/plain": [
       "Unnamed: 0                         0\n",
       "country                            0\n",
       "date                               0\n",
       "Population                         2\n",
       "GDP                               12\n",
       "Population_Growth                  2\n",
       "Physicians_per1000               151\n",
       "HIV_Incidence                    127\n",
       "Land_area                          1\n",
       "Literacy_rate                    190\n",
       "Hospital_beds_per1000            130\n",
       "Government_health_expenditure     33\n",
       "Prevalence_underweight_under5    219\n",
       "Infant_mortality_per1000          25\n",
       "Maternal_mortality_per100000      33\n",
       "Life_expectancy                   17\n",
       "Adult_obesity                     35\n",
       "HIV_Prevalence                   119\n",
       "Fertility_rate                    18\n",
       "Female_Population                 25\n",
       "Male_Population                   25\n",
       "Population_65+                    25\n",
       "Population_age_0to14              25\n",
       "Population_15to64                 25\n",
       "Death_per1000                     11\n",
       "Income_level                       0\n",
       "Region                             0\n",
       "Codes                              0\n",
       "dtype: int64"
      ]
     },
     "execution_count": 8,
     "metadata": {},
     "output_type": "execute_result"
    }
   ],
   "source": [
    "# Count empty values\n",
    "# Too many null values in Physicians_per1000, HIV_Incidence, Literacy_rate, Hospital_beds_per1000, \n",
    "# Prevalence_underweight_under5, HIV_Prevalence\n",
    "df.isna().sum()"
   ]
  },
  {
   "cell_type": "code",
   "execution_count": 9,
   "id": "marine-proxy",
   "metadata": {},
   "outputs": [],
   "source": [
    "# Drop Physicians_per1000, HIV_Incidence, Literacy_rate, Hospital_beds_per1000, \n",
    "# Prevalence_underweight_under5, HIV_Prevalence\n",
    "df.drop(['Prevalence_underweight_under5', 'HIV_Prevalence', 'Literacy_rate', 'Hospital_beds_per1000'], \n",
    "        axis=1, inplace=True)"
   ]
  },
  {
   "cell_type": "code",
   "execution_count": 10,
   "id": "loved-qatar",
   "metadata": {},
   "outputs": [],
   "source": [
    "df.drop(['Physicians_per1000', 'HIV_Incidence'], axis=1, inplace=True)"
   ]
  },
  {
   "cell_type": "code",
   "execution_count": 11,
   "id": "eight-armenia",
   "metadata": {},
   "outputs": [
    {
     "data": {
      "text/plain": [
       "Index(['Unnamed: 0', 'country', 'date', 'Population', 'GDP',\n",
       "       'Population_Growth', 'Land_area', 'Government_health_expenditure',\n",
       "       'Infant_mortality_per1000', 'Maternal_mortality_per100000',\n",
       "       'Life_expectancy', 'Adult_obesity', 'Fertility_rate',\n",
       "       'Female_Population', 'Male_Population', 'Population_65+',\n",
       "       'Population_age_0to14', 'Population_15to64', 'Death_per1000',\n",
       "       'Income_level', 'Region', 'Codes'],\n",
       "      dtype='object')"
      ]
     },
     "execution_count": 11,
     "metadata": {},
     "output_type": "execute_result"
    }
   ],
   "source": [
    "df.columns"
   ]
  },
  {
   "cell_type": "code",
   "execution_count": 12,
   "id": "ready-buying",
   "metadata": {},
   "outputs": [],
   "source": [
    "# Drop remaining null values to check how much data we lose\n",
    "# Lost 50 data values, we can work with taht\n",
    "df = df.dropna()"
   ]
  },
  {
   "cell_type": "code",
   "execution_count": 13,
   "id": "valued-artist",
   "metadata": {},
   "outputs": [
    {
     "data": {
      "text/html": [
       "<div>\n",
       "<style scoped>\n",
       "    .dataframe tbody tr th:only-of-type {\n",
       "        vertical-align: middle;\n",
       "    }\n",
       "\n",
       "    .dataframe tbody tr th {\n",
       "        vertical-align: top;\n",
       "    }\n",
       "\n",
       "    .dataframe thead th {\n",
       "        text-align: right;\n",
       "    }\n",
       "</style>\n",
       "<table border=\"1\" class=\"dataframe\">\n",
       "  <thead>\n",
       "    <tr style=\"text-align: right;\">\n",
       "      <th></th>\n",
       "      <th>Unnamed: 0</th>\n",
       "      <th>country</th>\n",
       "      <th>date</th>\n",
       "      <th>Population</th>\n",
       "      <th>GDP</th>\n",
       "      <th>Population_Growth</th>\n",
       "      <th>Land_area</th>\n",
       "      <th>Government_health_expenditure</th>\n",
       "      <th>Infant_mortality_per1000</th>\n",
       "      <th>Maternal_mortality_per100000</th>\n",
       "      <th>...</th>\n",
       "      <th>Fertility_rate</th>\n",
       "      <th>Female_Population</th>\n",
       "      <th>Male_Population</th>\n",
       "      <th>Population_65+</th>\n",
       "      <th>Population_age_0to14</th>\n",
       "      <th>Population_15to64</th>\n",
       "      <th>Death_per1000</th>\n",
       "      <th>Income_level</th>\n",
       "      <th>Region</th>\n",
       "      <th>Codes</th>\n",
       "    </tr>\n",
       "  </thead>\n",
       "  <tbody>\n",
       "    <tr>\n",
       "      <th>0</th>\n",
       "      <td>0</td>\n",
       "      <td>Afghanistan</td>\n",
       "      <td>2016</td>\n",
       "      <td>35383128.0</td>\n",
       "      <td>509.218661</td>\n",
       "      <td>2.778317</td>\n",
       "      <td>652860.0</td>\n",
       "      <td>10.962000</td>\n",
       "      <td>51.3</td>\n",
       "      <td>673.0</td>\n",
       "      <td>...</td>\n",
       "      <td>4.800</td>\n",
       "      <td>48.599668</td>\n",
       "      <td>51.400332</td>\n",
       "      <td>891627.0</td>\n",
       "      <td>15664859.0</td>\n",
       "      <td>18826642.0</td>\n",
       "      <td>6.742</td>\n",
       "      <td>LIC</td>\n",
       "      <td>South Asia</td>\n",
       "      <td>AFG</td>\n",
       "    </tr>\n",
       "    <tr>\n",
       "      <th>1</th>\n",
       "      <td>2</td>\n",
       "      <td>Albania</td>\n",
       "      <td>2016</td>\n",
       "      <td>2876101.0</td>\n",
       "      <td>4124.055726</td>\n",
       "      <td>-0.159880</td>\n",
       "      <td>27400.0</td>\n",
       "      <td>4.916020</td>\n",
       "      <td>8.4</td>\n",
       "      <td>16.0</td>\n",
       "      <td>...</td>\n",
       "      <td>1.659</td>\n",
       "      <td>49.052999</td>\n",
       "      <td>50.947001</td>\n",
       "      <td>372634.0</td>\n",
       "      <td>528734.0</td>\n",
       "      <td>1974734.0</td>\n",
       "      <td>7.534</td>\n",
       "      <td>LMY</td>\n",
       "      <td>Europe and Central Asia</td>\n",
       "      <td>ALB</td>\n",
       "    </tr>\n",
       "    <tr>\n",
       "      <th>2</th>\n",
       "      <td>4</td>\n",
       "      <td>Algeria</td>\n",
       "      <td>2016</td>\n",
       "      <td>40551404.0</td>\n",
       "      <td>3945.482081</td>\n",
       "      <td>2.051355</td>\n",
       "      <td>2381741.0</td>\n",
       "      <td>6.607782</td>\n",
       "      <td>21.3</td>\n",
       "      <td>113.0</td>\n",
       "      <td>...</td>\n",
       "      <td>3.052</td>\n",
       "      <td>49.491505</td>\n",
       "      <td>50.508495</td>\n",
       "      <td>2436321.0</td>\n",
       "      <td>11814429.0</td>\n",
       "      <td>26300654.0</td>\n",
       "      <td>4.717</td>\n",
       "      <td>LMC</td>\n",
       "      <td>Middle East and North Africa</td>\n",
       "      <td>DZA</td>\n",
       "    </tr>\n",
       "    <tr>\n",
       "      <th>5</th>\n",
       "      <td>10</td>\n",
       "      <td>Angola</td>\n",
       "      <td>2016</td>\n",
       "      <td>28842484.0</td>\n",
       "      <td>3506.072885</td>\n",
       "      <td>3.378273</td>\n",
       "      <td>1246700.0</td>\n",
       "      <td>2.713150</td>\n",
       "      <td>55.6</td>\n",
       "      <td>246.0</td>\n",
       "      <td>...</td>\n",
       "      <td>5.686</td>\n",
       "      <td>50.537006</td>\n",
       "      <td>49.462994</td>\n",
       "      <td>652134.0</td>\n",
       "      <td>13571356.0</td>\n",
       "      <td>14618994.0</td>\n",
       "      <td>8.716</td>\n",
       "      <td>LMC</td>\n",
       "      <td>Sub-saharan Africa</td>\n",
       "      <td>AGO</td>\n",
       "    </tr>\n",
       "    <tr>\n",
       "      <th>6</th>\n",
       "      <td>12</td>\n",
       "      <td>Antigua and Barbuda</td>\n",
       "      <td>2016</td>\n",
       "      <td>94527.0</td>\n",
       "      <td>15197.617455</td>\n",
       "      <td>1.021844</td>\n",
       "      <td>440.0</td>\n",
       "      <td>5.121902</td>\n",
       "      <td>6.5</td>\n",
       "      <td>43.0</td>\n",
       "      <td>...</td>\n",
       "      <td>2.003</td>\n",
       "      <td>51.842996</td>\n",
       "      <td>48.157004</td>\n",
       "      <td>7903.0</td>\n",
       "      <td>21181.0</td>\n",
       "      <td>65443.0</td>\n",
       "      <td>6.270</td>\n",
       "      <td>HIC</td>\n",
       "      <td>Latin America and Caribbean</td>\n",
       "      <td>ATG</td>\n",
       "    </tr>\n",
       "  </tbody>\n",
       "</table>\n",
       "<p>5 rows × 22 columns</p>\n",
       "</div>"
      ],
      "text/plain": [
       "   Unnamed: 0              country  date  Population           GDP  \\\n",
       "0           0          Afghanistan  2016  35383128.0    509.218661   \n",
       "1           2              Albania  2016   2876101.0   4124.055726   \n",
       "2           4              Algeria  2016  40551404.0   3945.482081   \n",
       "5          10               Angola  2016  28842484.0   3506.072885   \n",
       "6          12  Antigua and Barbuda  2016     94527.0  15197.617455   \n",
       "\n",
       "   Population_Growth  Land_area  Government_health_expenditure  \\\n",
       "0           2.778317   652860.0                      10.962000   \n",
       "1          -0.159880    27400.0                       4.916020   \n",
       "2           2.051355  2381741.0                       6.607782   \n",
       "5           3.378273  1246700.0                       2.713150   \n",
       "6           1.021844      440.0                       5.121902   \n",
       "\n",
       "   Infant_mortality_per1000  Maternal_mortality_per100000  ...  \\\n",
       "0                      51.3                         673.0  ...   \n",
       "1                       8.4                          16.0  ...   \n",
       "2                      21.3                         113.0  ...   \n",
       "5                      55.6                         246.0  ...   \n",
       "6                       6.5                          43.0  ...   \n",
       "\n",
       "   Fertility_rate  Female_Population  Male_Population  Population_65+  \\\n",
       "0           4.800          48.599668        51.400332        891627.0   \n",
       "1           1.659          49.052999        50.947001        372634.0   \n",
       "2           3.052          49.491505        50.508495       2436321.0   \n",
       "5           5.686          50.537006        49.462994        652134.0   \n",
       "6           2.003          51.842996        48.157004          7903.0   \n",
       "\n",
       "   Population_age_0to14  Population_15to64  Death_per1000  Income_level  \\\n",
       "0            15664859.0         18826642.0          6.742           LIC   \n",
       "1              528734.0          1974734.0          7.534           LMY   \n",
       "2            11814429.0         26300654.0          4.717           LMC   \n",
       "5            13571356.0         14618994.0          8.716           LMC   \n",
       "6               21181.0            65443.0          6.270           HIC   \n",
       "\n",
       "                         Region Codes  \n",
       "0                    South Asia   AFG  \n",
       "1       Europe and Central Asia   ALB  \n",
       "2  Middle East and North Africa   DZA  \n",
       "5            Sub-saharan Africa   AGO  \n",
       "6   Latin America and Caribbean   ATG  \n",
       "\n",
       "[5 rows x 22 columns]"
      ]
     },
     "execution_count": 13,
     "metadata": {},
     "output_type": "execute_result"
    }
   ],
   "source": [
    "df.head()"
   ]
  },
  {
   "cell_type": "code",
   "execution_count": 14,
   "id": "raising-plastic",
   "metadata": {},
   "outputs": [
    {
     "data": {
      "text/html": [
       "<div>\n",
       "<style scoped>\n",
       "    .dataframe tbody tr th:only-of-type {\n",
       "        vertical-align: middle;\n",
       "    }\n",
       "\n",
       "    .dataframe tbody tr th {\n",
       "        vertical-align: top;\n",
       "    }\n",
       "\n",
       "    .dataframe thead th {\n",
       "        text-align: right;\n",
       "    }\n",
       "</style>\n",
       "<table border=\"1\" class=\"dataframe\">\n",
       "  <thead>\n",
       "    <tr style=\"text-align: right;\">\n",
       "      <th></th>\n",
       "      <th>Unnamed: 0</th>\n",
       "      <th>country</th>\n",
       "      <th>date</th>\n",
       "      <th>Population</th>\n",
       "      <th>GDP</th>\n",
       "      <th>Population_Growth</th>\n",
       "      <th>Land_area</th>\n",
       "      <th>Government_health_expenditure</th>\n",
       "      <th>Infant_mortality_per1000</th>\n",
       "      <th>Maternal_mortality_per100000</th>\n",
       "      <th>...</th>\n",
       "      <th>Fertility_rate</th>\n",
       "      <th>Female_Population</th>\n",
       "      <th>Male_Population</th>\n",
       "      <th>Population_65+</th>\n",
       "      <th>Population_age_0to14</th>\n",
       "      <th>Population_15to64</th>\n",
       "      <th>Death_per1000</th>\n",
       "      <th>Income_level</th>\n",
       "      <th>Region</th>\n",
       "      <th>Codes</th>\n",
       "    </tr>\n",
       "  </thead>\n",
       "  <tbody>\n",
       "    <tr>\n",
       "      <th>250</th>\n",
       "      <td>500</td>\n",
       "      <td>United Kingdom</td>\n",
       "      <td>2016</td>\n",
       "      <td>6.561159e+07</td>\n",
       "      <td>41064.133432</td>\n",
       "      <td>0.757874</td>\n",
       "      <td>2.419300e+05</td>\n",
       "      <td>9.866712</td>\n",
       "      <td>3.8</td>\n",
       "      <td>7.0</td>\n",
       "      <td>...</td>\n",
       "      <td>1.790000</td>\n",
       "      <td>50.684101</td>\n",
       "      <td>49.315899</td>\n",
       "      <td>11913999.0</td>\n",
       "      <td>1.154088e+07</td>\n",
       "      <td>4.215671e+07</td>\n",
       "      <td>9.100000</td>\n",
       "      <td>HIC</td>\n",
       "      <td>Europe and Central Asia</td>\n",
       "      <td>GBR</td>\n",
       "    </tr>\n",
       "    <tr>\n",
       "      <th>251</th>\n",
       "      <td>502</td>\n",
       "      <td>United States</td>\n",
       "      <td>2016</td>\n",
       "      <td>3.229413e+08</td>\n",
       "      <td>57951.584082</td>\n",
       "      <td>0.716669</td>\n",
       "      <td>9.147420e+06</td>\n",
       "      <td>17.048983</td>\n",
       "      <td>5.8</td>\n",
       "      <td>19.0</td>\n",
       "      <td>...</td>\n",
       "      <td>1.820500</td>\n",
       "      <td>50.529313</td>\n",
       "      <td>49.470687</td>\n",
       "      <td>48549959.0</td>\n",
       "      <td>6.143423e+07</td>\n",
       "      <td>2.129571e+08</td>\n",
       "      <td>8.493000</td>\n",
       "      <td>HIC</td>\n",
       "      <td>North America</td>\n",
       "      <td>USA</td>\n",
       "    </tr>\n",
       "    <tr>\n",
       "      <th>252</th>\n",
       "      <td>504</td>\n",
       "      <td>Upper middle income</td>\n",
       "      <td>2016</td>\n",
       "      <td>2.795839e+09</td>\n",
       "      <td>7632.381923</td>\n",
       "      <td>0.799867</td>\n",
       "      <td>5.765352e+07</td>\n",
       "      <td>5.581760</td>\n",
       "      <td>12.9</td>\n",
       "      <td>59.0</td>\n",
       "      <td>...</td>\n",
       "      <td>1.910589</td>\n",
       "      <td>49.699350</td>\n",
       "      <td>50.300650</td>\n",
       "      <td>247793357.0</td>\n",
       "      <td>5.978998e+08</td>\n",
       "      <td>1.948173e+09</td>\n",
       "      <td>7.154122</td>\n",
       "      <td>INX</td>\n",
       "      <td>Upper middle income</td>\n",
       "      <td>Upper middle income</td>\n",
       "    </tr>\n",
       "    <tr>\n",
       "      <th>253</th>\n",
       "      <td>506</td>\n",
       "      <td>Uruguay</td>\n",
       "      <td>2016</td>\n",
       "      <td>3.424132e+06</td>\n",
       "      <td>15387.144030</td>\n",
       "      <td>0.354674</td>\n",
       "      <td>1.750200e+05</td>\n",
       "      <td>9.424388</td>\n",
       "      <td>7.2</td>\n",
       "      <td>18.0</td>\n",
       "      <td>...</td>\n",
       "      <td>1.991000</td>\n",
       "      <td>51.754207</td>\n",
       "      <td>48.245793</td>\n",
       "      <td>499626.0</td>\n",
       "      <td>7.170740e+05</td>\n",
       "      <td>2.207432e+06</td>\n",
       "      <td>9.452000</td>\n",
       "      <td>HIC</td>\n",
       "      <td>Latin America and Caribbean</td>\n",
       "      <td>URY</td>\n",
       "    </tr>\n",
       "    <tr>\n",
       "      <th>254</th>\n",
       "      <td>508</td>\n",
       "      <td>Uzbekistan</td>\n",
       "      <td>2016</td>\n",
       "      <td>3.184790e+07</td>\n",
       "      <td>2567.799207</td>\n",
       "      <td>1.738849</td>\n",
       "      <td>4.405880e+05</td>\n",
       "      <td>4.966384</td>\n",
       "      <td>18.8</td>\n",
       "      <td>29.0</td>\n",
       "      <td>...</td>\n",
       "      <td>2.455000</td>\n",
       "      <td>50.170297</td>\n",
       "      <td>49.829703</td>\n",
       "      <td>1319021.0</td>\n",
       "      <td>9.041157e+06</td>\n",
       "      <td>2.148772e+07</td>\n",
       "      <td>4.900000</td>\n",
       "      <td>LMC</td>\n",
       "      <td>Europe and Central Asia</td>\n",
       "      <td>UZB</td>\n",
       "    </tr>\n",
       "    <tr>\n",
       "      <th>255</th>\n",
       "      <td>510</td>\n",
       "      <td>Vanuatu</td>\n",
       "      <td>2016</td>\n",
       "      <td>2.783300e+05</td>\n",
       "      <td>2889.853036</td>\n",
       "      <td>2.620905</td>\n",
       "      <td>1.219000e+04</td>\n",
       "      <td>2.845865</td>\n",
       "      <td>23.5</td>\n",
       "      <td>74.0</td>\n",
       "      <td>...</td>\n",
       "      <td>3.859000</td>\n",
       "      <td>49.266328</td>\n",
       "      <td>50.733672</td>\n",
       "      <td>10311.0</td>\n",
       "      <td>1.082590e+05</td>\n",
       "      <td>1.597600e+05</td>\n",
       "      <td>5.396000</td>\n",
       "      <td>LMC</td>\n",
       "      <td>East Asia and Pacific</td>\n",
       "      <td>VUT</td>\n",
       "    </tr>\n",
       "    <tr>\n",
       "      <th>257</th>\n",
       "      <td>514</td>\n",
       "      <td>Vietnam</td>\n",
       "      <td>2016</td>\n",
       "      <td>9.363872e+07</td>\n",
       "      <td>2192.214539</td>\n",
       "      <td>1.032287</td>\n",
       "      <td>3.100700e+05</td>\n",
       "      <td>5.659194</td>\n",
       "      <td>16.9</td>\n",
       "      <td>44.0</td>\n",
       "      <td>...</td>\n",
       "      <td>2.030000</td>\n",
       "      <td>50.132363</td>\n",
       "      <td>49.867637</td>\n",
       "      <td>6390554.0</td>\n",
       "      <td>2.157152e+07</td>\n",
       "      <td>6.567665e+07</td>\n",
       "      <td>6.190000</td>\n",
       "      <td>LMC</td>\n",
       "      <td>East Asia and Pacific</td>\n",
       "      <td>VNM</td>\n",
       "    </tr>\n",
       "    <tr>\n",
       "      <th>260</th>\n",
       "      <td>520</td>\n",
       "      <td>World</td>\n",
       "      <td>2016</td>\n",
       "      <td>7.424311e+09</td>\n",
       "      <td>10286.341644</td>\n",
       "      <td>1.162728</td>\n",
       "      <td>1.299566e+08</td>\n",
       "      <td>9.946625</td>\n",
       "      <td>30.7</td>\n",
       "      <td>214.0</td>\n",
       "      <td>...</td>\n",
       "      <td>2.445619</td>\n",
       "      <td>49.585682</td>\n",
       "      <td>50.414318</td>\n",
       "      <td>625395500.0</td>\n",
       "      <td>1.935095e+09</td>\n",
       "      <td>4.861031e+09</td>\n",
       "      <td>7.569849</td>\n",
       "      <td>INX</td>\n",
       "      <td>World</td>\n",
       "      <td>World</td>\n",
       "    </tr>\n",
       "    <tr>\n",
       "      <th>262</th>\n",
       "      <td>524</td>\n",
       "      <td>Zambia</td>\n",
       "      <td>2016</td>\n",
       "      <td>1.636351e+07</td>\n",
       "      <td>1280.578447</td>\n",
       "      <td>3.003346</td>\n",
       "      <td>7.433900e+05</td>\n",
       "      <td>4.477207</td>\n",
       "      <td>45.8</td>\n",
       "      <td>222.0</td>\n",
       "      <td>...</td>\n",
       "      <td>4.814000</td>\n",
       "      <td>50.506993</td>\n",
       "      <td>49.493007</td>\n",
       "      <td>338840.0</td>\n",
       "      <td>7.500757e+06</td>\n",
       "      <td>8.523910e+06</td>\n",
       "      <td>6.864000</td>\n",
       "      <td>LMC</td>\n",
       "      <td>Sub-saharan Africa</td>\n",
       "      <td>ZMB</td>\n",
       "    </tr>\n",
       "    <tr>\n",
       "      <th>263</th>\n",
       "      <td>526</td>\n",
       "      <td>Zimbabwe</td>\n",
       "      <td>2016</td>\n",
       "      <td>1.403039e+07</td>\n",
       "      <td>1464.583529</td>\n",
       "      <td>1.549759</td>\n",
       "      <td>3.868500e+05</td>\n",
       "      <td>7.647620</td>\n",
       "      <td>41.4</td>\n",
       "      <td>468.0</td>\n",
       "      <td>...</td>\n",
       "      <td>3.804000</td>\n",
       "      <td>52.430184</td>\n",
       "      <td>47.569816</td>\n",
       "      <td>401519.0</td>\n",
       "      <td>5.986078e+06</td>\n",
       "      <td>7.642793e+06</td>\n",
       "      <td>8.286000</td>\n",
       "      <td>LMC</td>\n",
       "      <td>Sub-saharan Africa</td>\n",
       "      <td>ZWE</td>\n",
       "    </tr>\n",
       "  </tbody>\n",
       "</table>\n",
       "<p>10 rows × 22 columns</p>\n",
       "</div>"
      ],
      "text/plain": [
       "     Unnamed: 0              country  date    Population           GDP  \\\n",
       "250         500       United Kingdom  2016  6.561159e+07  41064.133432   \n",
       "251         502        United States  2016  3.229413e+08  57951.584082   \n",
       "252         504  Upper middle income  2016  2.795839e+09   7632.381923   \n",
       "253         506              Uruguay  2016  3.424132e+06  15387.144030   \n",
       "254         508           Uzbekistan  2016  3.184790e+07   2567.799207   \n",
       "255         510              Vanuatu  2016  2.783300e+05   2889.853036   \n",
       "257         514              Vietnam  2016  9.363872e+07   2192.214539   \n",
       "260         520                World  2016  7.424311e+09  10286.341644   \n",
       "262         524               Zambia  2016  1.636351e+07   1280.578447   \n",
       "263         526             Zimbabwe  2016  1.403039e+07   1464.583529   \n",
       "\n",
       "     Population_Growth     Land_area  Government_health_expenditure  \\\n",
       "250           0.757874  2.419300e+05                       9.866712   \n",
       "251           0.716669  9.147420e+06                      17.048983   \n",
       "252           0.799867  5.765352e+07                       5.581760   \n",
       "253           0.354674  1.750200e+05                       9.424388   \n",
       "254           1.738849  4.405880e+05                       4.966384   \n",
       "255           2.620905  1.219000e+04                       2.845865   \n",
       "257           1.032287  3.100700e+05                       5.659194   \n",
       "260           1.162728  1.299566e+08                       9.946625   \n",
       "262           3.003346  7.433900e+05                       4.477207   \n",
       "263           1.549759  3.868500e+05                       7.647620   \n",
       "\n",
       "     Infant_mortality_per1000  Maternal_mortality_per100000  ...  \\\n",
       "250                       3.8                           7.0  ...   \n",
       "251                       5.8                          19.0  ...   \n",
       "252                      12.9                          59.0  ...   \n",
       "253                       7.2                          18.0  ...   \n",
       "254                      18.8                          29.0  ...   \n",
       "255                      23.5                          74.0  ...   \n",
       "257                      16.9                          44.0  ...   \n",
       "260                      30.7                         214.0  ...   \n",
       "262                      45.8                         222.0  ...   \n",
       "263                      41.4                         468.0  ...   \n",
       "\n",
       "     Fertility_rate  Female_Population  Male_Population  Population_65+  \\\n",
       "250        1.790000          50.684101        49.315899      11913999.0   \n",
       "251        1.820500          50.529313        49.470687      48549959.0   \n",
       "252        1.910589          49.699350        50.300650     247793357.0   \n",
       "253        1.991000          51.754207        48.245793        499626.0   \n",
       "254        2.455000          50.170297        49.829703       1319021.0   \n",
       "255        3.859000          49.266328        50.733672         10311.0   \n",
       "257        2.030000          50.132363        49.867637       6390554.0   \n",
       "260        2.445619          49.585682        50.414318     625395500.0   \n",
       "262        4.814000          50.506993        49.493007        338840.0   \n",
       "263        3.804000          52.430184        47.569816        401519.0   \n",
       "\n",
       "     Population_age_0to14  Population_15to64  Death_per1000  Income_level  \\\n",
       "250          1.154088e+07       4.215671e+07       9.100000           HIC   \n",
       "251          6.143423e+07       2.129571e+08       8.493000           HIC   \n",
       "252          5.978998e+08       1.948173e+09       7.154122           INX   \n",
       "253          7.170740e+05       2.207432e+06       9.452000           HIC   \n",
       "254          9.041157e+06       2.148772e+07       4.900000           LMC   \n",
       "255          1.082590e+05       1.597600e+05       5.396000           LMC   \n",
       "257          2.157152e+07       6.567665e+07       6.190000           LMC   \n",
       "260          1.935095e+09       4.861031e+09       7.569849           INX   \n",
       "262          7.500757e+06       8.523910e+06       6.864000           LMC   \n",
       "263          5.986078e+06       7.642793e+06       8.286000           LMC   \n",
       "\n",
       "                          Region                Codes  \n",
       "250      Europe and Central Asia                  GBR  \n",
       "251                North America                  USA  \n",
       "252          Upper middle income  Upper middle income  \n",
       "253  Latin America and Caribbean                  URY  \n",
       "254      Europe and Central Asia                  UZB  \n",
       "255        East Asia and Pacific                  VUT  \n",
       "257        East Asia and Pacific                  VNM  \n",
       "260                        World                World  \n",
       "262           Sub-saharan Africa                  ZMB  \n",
       "263           Sub-saharan Africa                  ZWE  \n",
       "\n",
       "[10 rows x 22 columns]"
      ]
     },
     "execution_count": 14,
     "metadata": {},
     "output_type": "execute_result"
    }
   ],
   "source": [
    "df.tail(10)"
   ]
  },
  {
   "cell_type": "code",
   "execution_count": 15,
   "id": "pregnant-rogers",
   "metadata": {},
   "outputs": [
    {
     "data": {
      "text/plain": [
       "(214, 22)"
      ]
     },
     "execution_count": 15,
     "metadata": {},
     "output_type": "execute_result"
    }
   ],
   "source": [
    "df.shape"
   ]
  },
  {
   "cell_type": "code",
   "execution_count": 16,
   "id": "supposed-south",
   "metadata": {},
   "outputs": [],
   "source": [
    "income_levels = df.groupby('Income_level')['GDP'].mean()"
   ]
  },
  {
   "cell_type": "code",
   "execution_count": 17,
   "id": "superior-studio",
   "metadata": {},
   "outputs": [
    {
     "data": {
      "text/plain": [
       "Income_level\n",
       "HIC    33125.373980\n",
       "INX    11016.274651\n",
       "LIC      623.115640\n",
       "LMC     2225.572069\n",
       "LMY     6594.689920\n",
       "Name: GDP, dtype: float64"
      ]
     },
     "execution_count": 17,
     "metadata": {},
     "output_type": "execute_result"
    }
   ],
   "source": [
    "income_levels"
   ]
  },
  {
   "cell_type": "code",
   "execution_count": 21,
   "id": "protective-earth",
   "metadata": {},
   "outputs": [
    {
     "data": {
      "image/png": "[encoded data removed]",
      "text/plain": [
       "<Figure size 720x576 with 1 Axes>"
      ]
     },
     "metadata": {},
     "output_type": "display_data"
    }
   ],
   "source": [
    "# Maternal mortality rate by region\n",
    "figure = (10, 8)\n",
    "fig, ax = plt.subplots(figsize=figure)\n",
    "sns.set_style(\"darkgrid\", {\"axes.facecolor\": \".9\"})\n",
    "x_Values = ['East Asia and Pacific', 'Europe and Central Asia', 'Latin America and Caribbean', \n",
    "            'Middle East and North Africa', 'North America', 'South Asia', 'Sub-saharan Africa']\n",
    "result_df = df[df['Region'].isin(x_Values)]\n",
    "ax = sns.boxplot(y='Region', x=\"Maternal_mortality_per100000\", palette='plasma_r', data=result_df, orient='h')"
   ]
  },
  {
   "cell_type": "code",
   "execution_count": 22,
   "id": "reverse-polish",
   "metadata": {},
   "outputs": [
    {
     "data": {
      "text/html": [
       "<div>\n",
       "<style scoped>\n",
       "    .dataframe tbody tr th:only-of-type {\n",
       "        vertical-align: middle;\n",
       "    }\n",
       "\n",
       "    .dataframe tbody tr th {\n",
       "        vertical-align: top;\n",
       "    }\n",
       "\n",
       "    .dataframe thead th {\n",
       "        text-align: right;\n",
       "    }\n",
       "</style>\n",
       "<table border=\"1\" class=\"dataframe\">\n",
       "  <thead>\n",
       "    <tr style=\"text-align: right;\">\n",
       "      <th></th>\n",
       "      <th>Unnamed: 0</th>\n",
       "      <th>country</th>\n",
       "      <th>date</th>\n",
       "      <th>Population</th>\n",
       "      <th>GDP</th>\n",
       "      <th>Population_Growth</th>\n",
       "      <th>Land_area</th>\n",
       "      <th>Government_health_expenditure</th>\n",
       "      <th>Infant_mortality_per1000</th>\n",
       "      <th>Maternal_mortality_per100000</th>\n",
       "      <th>...</th>\n",
       "      <th>Fertility_rate</th>\n",
       "      <th>Female_Population</th>\n",
       "      <th>Male_Population</th>\n",
       "      <th>Population_65+</th>\n",
       "      <th>Population_age_0to14</th>\n",
       "      <th>Population_15to64</th>\n",
       "      <th>Death_per1000</th>\n",
       "      <th>Income_level</th>\n",
       "      <th>Region</th>\n",
       "      <th>Codes</th>\n",
       "    </tr>\n",
       "  </thead>\n",
       "  <tbody>\n",
       "    <tr>\n",
       "      <th>116</th>\n",
       "      <td>232</td>\n",
       "      <td>Italy</td>\n",
       "      <td>2016</td>\n",
       "      <td>60627498.0</td>\n",
       "      <td>30939.714246</td>\n",
       "      <td>-0.169884</td>\n",
       "      <td>294140.00</td>\n",
       "      <td>8.725330</td>\n",
       "      <td>2.9</td>\n",
       "      <td>2.0</td>\n",
       "      <td>...</td>\n",
       "      <td>1.340</td>\n",
       "      <td>51.442853</td>\n",
       "      <td>48.557147</td>\n",
       "      <td>13480440.0</td>\n",
       "      <td>8248168.0</td>\n",
       "      <td>38898890.0</td>\n",
       "      <td>10.100</td>\n",
       "      <td>HIC</td>\n",
       "      <td>Europe and Central Asia</td>\n",
       "      <td>ITA</td>\n",
       "    </tr>\n",
       "    <tr>\n",
       "      <th>193</th>\n",
       "      <td>386</td>\n",
       "      <td>Poland</td>\n",
       "      <td>2016</td>\n",
       "      <td>37970087.0</td>\n",
       "      <td>12447.439591</td>\n",
       "      <td>-0.042985</td>\n",
       "      <td>306190.00</td>\n",
       "      <td>6.542951</td>\n",
       "      <td>4.0</td>\n",
       "      <td>2.0</td>\n",
       "      <td>...</td>\n",
       "      <td>1.390</td>\n",
       "      <td>51.522442</td>\n",
       "      <td>48.477558</td>\n",
       "      <td>6203438.0</td>\n",
       "      <td>5613942.0</td>\n",
       "      <td>26152707.0</td>\n",
       "      <td>10.200</td>\n",
       "      <td>HIC</td>\n",
       "      <td>Europe and Central Asia</td>\n",
       "      <td>POL</td>\n",
       "    </tr>\n",
       "    <tr>\n",
       "      <th>18</th>\n",
       "      <td>36</td>\n",
       "      <td>Belarus</td>\n",
       "      <td>2016</td>\n",
       "      <td>9501534.0</td>\n",
       "      <td>5022.626643</td>\n",
       "      <td>0.125511</td>\n",
       "      <td>202988.00</td>\n",
       "      <td>5.910542</td>\n",
       "      <td>2.9</td>\n",
       "      <td>3.0</td>\n",
       "      <td>...</td>\n",
       "      <td>1.733</td>\n",
       "      <td>53.460539</td>\n",
       "      <td>46.539461</td>\n",
       "      <td>1369717.0</td>\n",
       "      <td>1569097.0</td>\n",
       "      <td>6562720.0</td>\n",
       "      <td>12.600</td>\n",
       "      <td>LMY</td>\n",
       "      <td>Europe and Central Asia</td>\n",
       "      <td>BLR</td>\n",
       "    </tr>\n",
       "    <tr>\n",
       "      <th>79</th>\n",
       "      <td>158</td>\n",
       "      <td>Finland</td>\n",
       "      <td>2016</td>\n",
       "      <td>5495303.0</td>\n",
       "      <td>43784.283962</td>\n",
       "      <td>0.287421</td>\n",
       "      <td>303910.00</td>\n",
       "      <td>9.377960</td>\n",
       "      <td>2.0</td>\n",
       "      <td>3.0</td>\n",
       "      <td>...</td>\n",
       "      <td>1.570</td>\n",
       "      <td>50.760552</td>\n",
       "      <td>49.239448</td>\n",
       "      <td>1142526.0</td>\n",
       "      <td>897595.0</td>\n",
       "      <td>3455182.0</td>\n",
       "      <td>9.800</td>\n",
       "      <td>HIC</td>\n",
       "      <td>Europe and Central Asia</td>\n",
       "      <td>FIN</td>\n",
       "    </tr>\n",
       "    <tr>\n",
       "      <th>89</th>\n",
       "      <td>178</td>\n",
       "      <td>Greece</td>\n",
       "      <td>2016</td>\n",
       "      <td>10775971.0</td>\n",
       "      <td>18116.459653</td>\n",
       "      <td>-0.415913</td>\n",
       "      <td>128900.00</td>\n",
       "      <td>8.214966</td>\n",
       "      <td>3.9</td>\n",
       "      <td>3.0</td>\n",
       "      <td>...</td>\n",
       "      <td>1.380</td>\n",
       "      <td>50.910201</td>\n",
       "      <td>49.089799</td>\n",
       "      <td>2276958.0</td>\n",
       "      <td>1546920.0</td>\n",
       "      <td>6952093.0</td>\n",
       "      <td>11.000</td>\n",
       "      <td>HIC</td>\n",
       "      <td>Europe and Central Asia</td>\n",
       "      <td>GRC</td>\n",
       "    </tr>\n",
       "    <tr>\n",
       "      <th>115</th>\n",
       "      <td>230</td>\n",
       "      <td>Israel</td>\n",
       "      <td>2016</td>\n",
       "      <td>8546000.0</td>\n",
       "      <td>37321.624040</td>\n",
       "      <td>1.960349</td>\n",
       "      <td>21640.00</td>\n",
       "      <td>7.152613</td>\n",
       "      <td>3.1</td>\n",
       "      <td>3.0</td>\n",
       "      <td>...</td>\n",
       "      <td>3.110</td>\n",
       "      <td>50.372574</td>\n",
       "      <td>49.627426</td>\n",
       "      <td>980274.0</td>\n",
       "      <td>2386758.0</td>\n",
       "      <td>5178968.0</td>\n",
       "      <td>5.200</td>\n",
       "      <td>HIC</td>\n",
       "      <td>Middle East and North Africa</td>\n",
       "      <td>ISR</td>\n",
       "    </tr>\n",
       "    <tr>\n",
       "      <th>180</th>\n",
       "      <td>360</td>\n",
       "      <td>Norway</td>\n",
       "      <td>2016</td>\n",
       "      <td>5234519.0</td>\n",
       "      <td>70459.182504</td>\n",
       "      <td>0.880970</td>\n",
       "      <td>365145.73</td>\n",
       "      <td>10.591295</td>\n",
       "      <td>2.1</td>\n",
       "      <td>3.0</td>\n",
       "      <td>...</td>\n",
       "      <td>1.710</td>\n",
       "      <td>49.604205</td>\n",
       "      <td>50.395795</td>\n",
       "      <td>868628.0</td>\n",
       "      <td>931839.0</td>\n",
       "      <td>3434052.0</td>\n",
       "      <td>7.800</td>\n",
       "      <td>HIC</td>\n",
       "      <td>Europe and Central Asia</td>\n",
       "      <td>NOR</td>\n",
       "    </tr>\n",
       "    <tr>\n",
       "      <th>249</th>\n",
       "      <td>498</td>\n",
       "      <td>United Arab Emirates</td>\n",
       "      <td>2016</td>\n",
       "      <td>9360980.0</td>\n",
       "      <td>38141.846759</td>\n",
       "      <td>1.053281</td>\n",
       "      <td>71020.00</td>\n",
       "      <td>3.403421</td>\n",
       "      <td>6.6</td>\n",
       "      <td>3.0</td>\n",
       "      <td>...</td>\n",
       "      <td>1.491</td>\n",
       "      <td>30.158621</td>\n",
       "      <td>69.841379</td>\n",
       "      <td>92392.0</td>\n",
       "      <td>1346625.0</td>\n",
       "      <td>7921963.0</td>\n",
       "      <td>1.398</td>\n",
       "      <td>HIC</td>\n",
       "      <td>Middle East and North Africa</td>\n",
       "      <td>ARE</td>\n",
       "    </tr>\n",
       "    <tr>\n",
       "      <th>55</th>\n",
       "      <td>110</td>\n",
       "      <td>Czech Republic</td>\n",
       "      <td>2016</td>\n",
       "      <td>10566332.0</td>\n",
       "      <td>18575.232027</td>\n",
       "      <td>0.192048</td>\n",
       "      <td>77220.00</td>\n",
       "      <td>7.149599</td>\n",
       "      <td>2.5</td>\n",
       "      <td>4.0</td>\n",
       "      <td>...</td>\n",
       "      <td>1.630</td>\n",
       "      <td>50.851268</td>\n",
       "      <td>49.148732</td>\n",
       "      <td>1957049.0</td>\n",
       "      <td>1606738.0</td>\n",
       "      <td>7002546.0</td>\n",
       "      <td>10.200</td>\n",
       "      <td>HIC</td>\n",
       "      <td>Europe and Central Asia</td>\n",
       "      <td>CZE</td>\n",
       "    </tr>\n",
       "    <tr>\n",
       "      <th>56</th>\n",
       "      <td>112</td>\n",
       "      <td>Denmark</td>\n",
       "      <td>2016</td>\n",
       "      <td>5728010.0</td>\n",
       "      <td>54663.998372</td>\n",
       "      <td>0.780393</td>\n",
       "      <td>40000.00</td>\n",
       "      <td>10.144562</td>\n",
       "      <td>3.5</td>\n",
       "      <td>4.0</td>\n",
       "      <td>...</td>\n",
       "      <td>1.790</td>\n",
       "      <td>50.267398</td>\n",
       "      <td>49.732602</td>\n",
       "      <td>1112520.0</td>\n",
       "      <td>950693.0</td>\n",
       "      <td>3664797.0</td>\n",
       "      <td>9.200</td>\n",
       "      <td>HIC</td>\n",
       "      <td>Europe and Central Asia</td>\n",
       "      <td>DNK</td>\n",
       "    </tr>\n",
       "  </tbody>\n",
       "</table>\n",
       "<p>10 rows × 22 columns</p>\n",
       "</div>"
      ],
      "text/plain": [
       "     Unnamed: 0               country  date  Population           GDP  \\\n",
       "116         232                 Italy  2016  60627498.0  30939.714246   \n",
       "193         386                Poland  2016  37970087.0  12447.439591   \n",
       "18           36               Belarus  2016   9501534.0   5022.626643   \n",
       "79          158               Finland  2016   5495303.0  43784.283962   \n",
       "89          178                Greece  2016  10775971.0  18116.459653   \n",
       "115         230                Israel  2016   8546000.0  37321.624040   \n",
       "180         360                Norway  2016   5234519.0  70459.182504   \n",
       "249         498  United Arab Emirates  2016   9360980.0  38141.846759   \n",
       "55          110        Czech Republic  2016  10566332.0  18575.232027   \n",
       "56          112               Denmark  2016   5728010.0  54663.998372   \n",
       "\n",
       "     Population_Growth  Land_area  Government_health_expenditure  \\\n",
       "116          -0.169884  294140.00                       8.725330   \n",
       "193          -0.042985  306190.00                       6.542951   \n",
       "18            0.125511  202988.00                       5.910542   \n",
       "79            0.287421  303910.00                       9.377960   \n",
       "89           -0.415913  128900.00                       8.214966   \n",
       "115           1.960349   21640.00                       7.152613   \n",
       "180           0.880970  365145.73                      10.591295   \n",
       "249           1.053281   71020.00                       3.403421   \n",
       "55            0.192048   77220.00                       7.149599   \n",
       "56            0.780393   40000.00                      10.144562   \n",
       "\n",
       "     Infant_mortality_per1000  Maternal_mortality_per100000  ...  \\\n",
       "116                       2.9                           2.0  ...   \n",
       "193                       4.0                           2.0  ...   \n",
       "18                        2.9                           3.0  ...   \n",
       "79                        2.0                           3.0  ...   \n",
       "89                        3.9                           3.0  ...   \n",
       "115                       3.1                           3.0  ...   \n",
       "180                       2.1                           3.0  ...   \n",
       "249                       6.6                           3.0  ...   \n",
       "55                        2.5                           4.0  ...   \n",
       "56                        3.5                           4.0  ...   \n",
       "\n",
       "     Fertility_rate  Female_Population  Male_Population  Population_65+  \\\n",
       "116           1.340          51.442853        48.557147      13480440.0   \n",
       "193           1.390          51.522442        48.477558       6203438.0   \n",
       "18            1.733          53.460539        46.539461       1369717.0   \n",
       "79            1.570          50.760552        49.239448       1142526.0   \n",
       "89            1.380          50.910201        49.089799       2276958.0   \n",
       "115           3.110          50.372574        49.627426        980274.0   \n",
       "180           1.710          49.604205        50.395795        868628.0   \n",
       "249           1.491          30.158621        69.841379         92392.0   \n",
       "55            1.630          50.851268        49.148732       1957049.0   \n",
       "56            1.790          50.267398        49.732602       1112520.0   \n",
       "\n",
       "     Population_age_0to14  Population_15to64  Death_per1000  Income_level  \\\n",
       "116             8248168.0         38898890.0         10.100           HIC   \n",
       "193             5613942.0         26152707.0         10.200           HIC   \n",
       "18              1569097.0          6562720.0         12.600           LMY   \n",
       "79               897595.0          3455182.0          9.800           HIC   \n",
       "89              1546920.0          6952093.0         11.000           HIC   \n",
       "115             2386758.0          5178968.0          5.200           HIC   \n",
       "180              931839.0          3434052.0          7.800           HIC   \n",
       "249             1346625.0          7921963.0          1.398           HIC   \n",
       "55              1606738.0          7002546.0         10.200           HIC   \n",
       "56               950693.0          3664797.0          9.200           HIC   \n",
       "\n",
       "                           Region Codes  \n",
       "116       Europe and Central Asia   ITA  \n",
       "193       Europe and Central Asia   POL  \n",
       "18        Europe and Central Asia   BLR  \n",
       "79        Europe and Central Asia   FIN  \n",
       "89        Europe and Central Asia   GRC  \n",
       "115  Middle East and North Africa   ISR  \n",
       "180       Europe and Central Asia   NOR  \n",
       "249  Middle East and North Africa   ARE  \n",
       "55        Europe and Central Asia   CZE  \n",
       "56        Europe and Central Asia   DNK  \n",
       "\n",
       "[10 rows x 22 columns]"
      ]
     },
     "execution_count": 22,
     "metadata": {},
     "output_type": "execute_result"
    }
   ],
   "source": [
    "df.nsmallest(10, 'Maternal_mortality_per100000')"
   ]
  },
  {
   "cell_type": "code",
   "execution_count": 25,
   "id": "understanding-oracle",
   "metadata": {},
   "outputs": [
    {
     "data": {
      "image/png": "[encoded data removed]",
      "text/plain": [
       "<Figure size 936x432 with 1 Axes>"
      ]
     },
     "metadata": {},
     "output_type": "display_data"
    }
   ],
   "source": [
    "figure = (13, 6)\n",
    "fig, ax = plt.subplots(figsize=figure)\n",
    "ax = sns.barplot(y=\"country\", x=\"Maternal_mortality_per100000\", data=df.nlargest(10, 'Maternal_mortality_per100000'), \n",
    "                palette='magma', hue='Region', orient='h')"
   ]
  },
  {
   "cell_type": "code",
   "execution_count": 26,
   "id": "silver-prior",
   "metadata": {},
   "outputs": [
    {
     "data": {
      "image/png": "[encoded data removed]",
      "text/plain": [
       "<Figure size 936x432 with 1 Axes>"
      ]
     },
     "metadata": {},
     "output_type": "display_data"
    }
   ],
   "source": [
    "figure = (13, 6)\n",
    "fig, ax = plt.subplots(figsize=figure)\n",
    "ax = sns.barplot(y=\"country\", x=\"Maternal_mortality_per100000\", data=df.nsmallest(10, 'Maternal_mortality_per100000'), \n",
    "                palette='magma', hue='Region', orient='h')"
   ]
  },
  {
   "cell_type": "code",
   "execution_count": 27,
   "id": "voluntary-carpet",
   "metadata": {},
   "outputs": [
    {
     "data": {
      "image/png": "[encoded data removed]",
      "text/plain": [
       "<Figure size 936x432 with 1 Axes>"
      ]
     },
     "metadata": {},
     "output_type": "display_data"
    }
   ],
   "source": [
    "# Infant mortality by region\n",
    "figure = (13, 6)\n",
    "fig, ax = plt.subplots(figsize=figure)\n",
    "ax = sns.boxplot(x='Region', y=\"Infant_mortality_per1000\", palette='plasma', data=result_df)"
   ]
  },
  {
   "cell_type": "code",
   "execution_count": 28,
   "id": "signed-century",
   "metadata": {},
   "outputs": [
    {
     "data": {
      "image/png": "[encoded data removed]",
      "text/plain": [
       "<Figure size 936x432 with 1 Axes>"
      ]
     },
     "metadata": {},
     "output_type": "display_data"
    }
   ],
   "source": [
    "# Top ten countries with high infant mortality\n",
    "figure = (13, 6)\n",
    "fig, ax = plt.subplots(figsize=figure)\n",
    "ax = sns.barplot(x=\"country\", y=\"Infant_mortality_per1000\", data=df.nlargest(10, 'Infant_mortality_per1000'), \n",
    "                palette='Greens', hue='Region')"
   ]
  },
  {
   "cell_type": "code",
   "execution_count": 29,
   "id": "excellent-adams",
   "metadata": {},
   "outputs": [
    {
     "data": {
      "image/png": "[encoded data removed]",
      "text/plain": [
       "<Figure size 936x432 with 1 Axes>"
      ]
     },
     "metadata": {},
     "output_type": "display_data"
    }
   ],
   "source": [
    "# lowest ten infant mortalities by country\n",
    "figure = (13, 6)\n",
    "fig, ax = plt.subplots(figsize=figure)\n",
    "ax = sns.barplot(x=\"country\", y=\"Infant_mortality_per1000\", data=df.nsmallest(10, 'Infant_mortality_per1000'), \n",
    "                palette='Greens', hue='Region')"
   ]
  },
  {
   "cell_type": "code",
   "execution_count": 30,
   "id": "exclusive-toddler",
   "metadata": {},
   "outputs": [
    {
     "data": {
      "image/png": "[encoded data removed]",
      "text/plain": [
       "<Figure size 936x432 with 1 Axes>"
      ]
     },
     "metadata": {},
     "output_type": "display_data"
    }
   ],
   "source": [
    "# Life expectancy \n",
    "figure = (13, 6)\n",
    "fig, ax = plt.subplots(figsize=figure)\n",
    "ax = sns.boxplot(x='Region', y=\"Life_expectancy\", palette='rocket', data=result_df)"
   ]
  },
  {
   "cell_type": "code",
   "execution_count": 31,
   "id": "incorporate-front",
   "metadata": {},
   "outputs": [
    {
     "data": {
      "image/png": "[encoded data removed]",
      "text/plain": [
       "<Figure size 936x432 with 1 Axes>"
      ]
     },
     "metadata": {},
     "output_type": "display_data"
    }
   ],
   "source": [
    "# Top ten countries with high life expectancy\n",
    "figure = (13, 6)\n",
    "fig, ax = plt.subplots(figsize=figure)\n",
    "ax = sns.barplot(x=\"country\", y=\"Life_expectancy\", data=df.nlargest(10, 'Life_expectancy'), \n",
    "                palette='spring', hue='Region')"
   ]
  },
  {
   "cell_type": "code",
   "execution_count": 32,
   "id": "proper-incentive",
   "metadata": {},
   "outputs": [
    {
     "data": {
      "image/png": "[encoded data removed]",
      "text/plain": [
       "<Figure size 936x432 with 1 Axes>"
      ]
     },
     "metadata": {},
     "output_type": "display_data"
    }
   ],
   "source": [
    "# Lowest life expectancies by country\n",
    "figure = (13, 6)\n",
    "fig, ax = plt.subplots(figsize=figure)\n",
    "ax = sns.barplot(x=\"country\", y=\"Life_expectancy\", data=df.nsmallest(10, 'Life_expectancy'), \n",
    "                palette='spring', hue='Region')"
   ]
  },
  {
   "cell_type": "code",
   "execution_count": 33,
   "id": "usual-organization",
   "metadata": {},
   "outputs": [
    {
     "data": {
      "image/png": "[encoded data removed]",
      "text/plain": [
       "<Figure size 936x432 with 1 Axes>"
      ]
     },
     "metadata": {},
     "output_type": "display_data"
    }
   ],
   "source": [
    "# Population growth rate by region\n",
    "figure = (13, 6)\n",
    "fig, ax = plt.subplots(figsize=figure)\n",
    "ax = sns.boxplot(x='Region', y=\"Population_Growth\", palette='PuBu', data=result_df)"
   ]
  },
  {
   "cell_type": "code",
   "execution_count": 34,
   "id": "hungarian-simon",
   "metadata": {},
   "outputs": [
    {
     "data": {
      "image/png": "[encoded data removed]",
      "text/plain": [
       "<Figure size 936x432 with 1 Axes>"
      ]
     },
     "metadata": {},
     "output_type": "display_data"
    }
   ],
   "source": [
    "# Top ten countries with high population growth\n",
    "figure = (13, 6)\n",
    "fig, ax = plt.subplots(figsize=figure)\n",
    "ax = sns.barplot(x=\"country\", y=\"Population_Growth\", data=df.nlargest(10, 'Population_Growth'), \n",
    "                palette='Reds', hue='Region')"
   ]
  },
  {
   "cell_type": "code",
   "execution_count": 35,
   "id": "criminal-richards",
   "metadata": {},
   "outputs": [
    {
     "data": {
      "image/png": "[encoded data removed]",
      "text/plain": [
       "<Figure size 936x432 with 1 Axes>"
      ]
     },
     "metadata": {},
     "output_type": "display_data"
    }
   ],
   "source": [
    "# Lowest population growth\n",
    "figure = (13, 6)\n",
    "fig, ax = plt.subplots(figsize=figure)\n",
    "ax = sns.barplot(x=\"country\", y=\"Population_Growth\", data=df.nsmallest(10, 'Population_Growth'), \n",
    "                palette='Reds', hue='Region')"
   ]
  },
  {
   "cell_type": "code",
   "execution_count": 36,
   "id": "mighty-continent",
   "metadata": {},
   "outputs": [
    {
     "data": {
      "image/png": "[encoded data removed]",
      "text/plain": [
       "<Figure size 936x432 with 1 Axes>"
      ]
     },
     "metadata": {},
     "output_type": "display_data"
    }
   ],
   "source": [
    "# Fertility rate by region\n",
    "figure = (13, 6)\n",
    "fig, ax = plt.subplots(figsize=figure)\n",
    "ax = sns.boxplot(x='Region', y=\"Fertility_rate\", palette='Set1', data=result_df)"
   ]
  },
  {
   "cell_type": "code",
   "execution_count": 37,
   "id": "cultural-parks",
   "metadata": {},
   "outputs": [
    {
     "data": {
      "image/png": "[encoded data removed]",
      "text/plain": [
       "<Figure size 936x432 with 1 Axes>"
      ]
     },
     "metadata": {},
     "output_type": "display_data"
    }
   ],
   "source": [
    "# Top ten countries with high fertility rate\n",
    "figure = (13, 6)\n",
    "fig, ax = plt.subplots(figsize=figure)\n",
    "ax = sns.barplot(x=\"country\", y=\"Fertility_rate\", data=df.nlargest(10, 'Fertility_rate'), \n",
    "                palette='Set1_r', hue='Region')"
   ]
  },
  {
   "cell_type": "code",
   "execution_count": 38,
   "id": "stainless-setup",
   "metadata": {},
   "outputs": [
    {
     "data": {
      "image/png": "[encoded data removed]",
      "text/plain": [
       "<Figure size 936x432 with 1 Axes>"
      ]
     },
     "metadata": {},
     "output_type": "display_data"
    }
   ],
   "source": [
    "# Lowest fertility rates by country\n",
    "figure = (13, 6)\n",
    "fig, ax = plt.subplots(figsize=figure)\n",
    "ax = sns.barplot(x=\"country\", y=\"Fertility_rate\", data=df.nsmallest(10, 'Fertility_rate'), \n",
    "                palette='Set1_r', hue='Region')"
   ]
  },
  {
   "cell_type": "code",
   "execution_count": 85,
   "id": "quiet-assistant",
   "metadata": {},
   "outputs": [],
   "source": [
    "import plotly.express as px\n",
    "import plotly\n",
    "import plotly.graph_objects as go\n",
    "from plotly.offline import download_plotlyjs, init_notebook_mode, plot, iplot\n",
    "import chart_studio.plotly as py\n",
    "import chart_studio"
   ]
  },
  {
   "cell_type": "code",
   "execution_count": 49,
   "id": "governmental-alcohol",
   "metadata": {},
   "outputs": [],
   "source": [
    "data_mortality = dict(type = 'choropleth',\n",
    "            locations = df['Codes'],\n",
    "            z = df['Death_per1000'],\n",
    "            text = df['country'],\n",
    "            colorbar = {'title': 'Mortality Rate'},\n",
    "           colorscale='Reds')"
   ]
  },
  {
   "cell_type": "code",
   "execution_count": 50,
   "id": "surprising-customer",
   "metadata": {},
   "outputs": [],
   "source": [
    "layout_mortality = dict(title = '2016 Mortality Rate',\n",
    "             geo = dict(showframe = False,\n",
    "                       projection = {'type':'natural earth'}))"
   ]
  },
  {
   "cell_type": "code",
   "execution_count": 51,
   "id": "distributed-sperm",
   "metadata": {},
   "outputs": [],
   "source": [
    "choromap_mortality = go.Figure(data = [data_mortality], layout = layout_mortality)"
   ]
  },
  {
   "cell_type": "code",
   "execution_count": 52,
   "id": "compressed-animal",
   "metadata": {
    "scrolled": true
   },
   "outputs": [
    {
     "data": {
      "application/vnd.plotly.v1+json": {
       "config": {
        "linkText": "Export to plotly.com",
        "plotlyServerURL": "https://plotly.com",
        "showLink": false
       },
       "data": [
        {
         "colorbar": {
          "title": {
           "text": "Mortality Rate"
          }
         },
         "colorscale": [
          [
           0,
           "rgb(255,245,240)"
          ],
          [
           0.125,
           "rgb(254,224,210)"
          ],
          [
           0.25,
           "rgb(252,187,161)"
          ],
          [
           0.375,
           "rgb(252,146,114)"
          ],
          [
           0.5,
           "rgb(251,106,74)"
          ],
          [
           0.625,
           "rgb(239,59,44)"
          ],
          [
           0.75,
           "rgb(203,24,29)"
          ],
          [
           0.875,
           "rgb(165,15,21)"
          ],
          [
           1,
           "rgb(103,0,13)"
          ]
         ],
         "locations": [
          "AFG",
          "ALB",
          "DZA",
          "AGO",
          "ATG",
          "Arab World",
          "ARG",
          "ARM",
          "AUS",
          "AUT",
          "AZE",
          "BHM",
          "BHR",
          "BGD",
          "BRB",
          "BLR",
          "BEL",
          "BLZ",
          "BEN",
          "BTN",
          "BOL",
          "BIH",
          "BWA",
          "BRA",
          "BRN",
          "BGR",
          "BFA",
          "BDI",
          "CPV",
          "KHM",
          "CMR",
          "CAN",
          "Caribbean small states",
          "CAF",
          "Central Europe and the Baltics",
          "TCD",
          "CHL",
          "CHN",
          "COL",
          "COM",
          "COD",
          "COG",
          "CRI",
          "CIV",
          "HRV",
          "CUB",
          "CYP",
          "CZE",
          "DNK",
          "DJI",
          "DOM",
          "Early-demographic dividend",
          "East Asia & Pacific",
          "East Asia & Pacific (IDA & IBRD countries)",
          "East Asia & Pacific (excluding high income)",
          "ECU",
          "EGY",
          "SLV",
          "GNQ",
          "EST",
          "SWZ",
          "ETH",
          "Euro area",
          "Europe & Central Asia",
          "Europe & Central Asia (IDA & IBRD countries)",
          "Europe & Central Asia (excluding high income)",
          "European Union",
          "FJI",
          "FIN",
          "Fragile and conflict affected situations",
          "FRA",
          "GAB",
          "GMB",
          "GEO",
          "DEU",
          "GHA",
          "GRC",
          "GRD",
          "GTM",
          "GIN",
          "GNB",
          "GUY",
          "HTI",
          "Heavily indebted poor countries (HIPC)",
          "High income",
          "HND",
          "HUN",
          "ISL",
          "IND",
          "IDN",
          "IRN",
          "IRQ",
          "IRL",
          "ISR",
          "ITA",
          "JAM",
          "JPN",
          "JOR",
          "KAZ",
          "KEN",
          "KIR",
          "PRK",
          "KWT",
          "KGZ",
          "LAO",
          "Late-demographic dividend",
          "Latin America & Caribbean",
          "Latin America & Caribbean (excluding high income)",
          "Latin America & the Caribbean (IDA & IBRD countries)",
          "LVA",
          "Least developed countries: UN classification",
          "LBN",
          "LSO",
          "LBR",
          "LTU",
          "Low & middle income",
          "Low income",
          "Lower middle income",
          "LUX",
          "MDG",
          "MWI",
          "MYS",
          "MDV",
          "MLI",
          "MLT",
          "MRT",
          "MUS",
          "MEX",
          "FSM",
          "Middle East & North Africa",
          "Middle East & North Africa (IDA & IBRD countries)",
          "Middle East & North Africa (excluding high income)",
          "Middle income",
          "MDA",
          "MNG",
          "MAR",
          "MOZ",
          "MMR",
          "NAM",
          "NPL",
          "NLD",
          "NZL",
          "NIC",
          "NER",
          "NGA",
          "North America",
          "MKD",
          "NOR",
          "OECD members",
          "OMN",
          "Other small states",
          "Pacific island small states",
          "PAK",
          "PAN",
          "PNG",
          "PRY",
          "PER",
          "PHL",
          "POL",
          "PRT",
          "Post-demographic dividend",
          "Pre-demographic dividend",
          "QAT",
          "ROU",
          "RUS",
          "RWA",
          "WSM",
          "STP",
          "SAU",
          "SEN",
          "SRB",
          "SYC",
          "SLE",
          "SGP",
          "SVK",
          "SVN",
          "Small states",
          "SLB",
          "ZAF",
          "South Asia",
          "South Asia (IDA & IBRD)",
          "ESP",
          "LKA",
          "LCA",
          "VCT",
          "Sub-Saharan Africa",
          "Sub-Saharan Africa (IDA & IBRD countries)",
          "Sub-Saharan Africa (excluding high income)",
          "SUR",
          "SWE",
          "CHE",
          "TJK",
          "TZA",
          "THA",
          "TLS",
          "TGO",
          "TON",
          "TTO",
          "TUN",
          "TUR",
          "TKM",
          "UGA",
          "UKR",
          "ARE",
          "GBR",
          "USA",
          "Upper middle income",
          "URY",
          "UZB",
          "VUT",
          "VNM",
          "World",
          "ZMB",
          "ZWE"
         ],
         "text": [
          "Afghanistan",
          "Albania",
          "Algeria",
          "Angola",
          "Antigua and Barbuda",
          "Arab World",
          "Argentina",
          "Armenia",
          "Australia",
          "Austria",
          "Azerbaijan",
          "Bahamas, The",
          "Bahrain",
          "Bangladesh",
          "Barbados",
          "Belarus",
          "Belgium",
          "Belize",
          "Benin",
          "Bhutan",
          "Bolivia",
          "Bosnia and Herzegovina",
          "Botswana",
          "Brazil",
          "Brunei Darussalam",
          "Bulgaria",
          "Burkina Faso",
          "Burundi",
          "Cabo Verde",
          "Cambodia",
          "Cameroon",
          "Canada",
          "Caribbean small states",
          "Central African Republic",
          "Central Europe and the Baltics",
          "Chad",
          "Chile",
          "China",
          "Colombia",
          "Comoros",
          "Congo, Dem. Rep.",
          "Congo, Rep.",
          "Costa Rica",
          "Cote d'Ivoire",
          "Croatia",
          "Cuba",
          "Cyprus",
          "Czech Republic",
          "Denmark",
          "Djibouti",
          "Dominican Republic",
          "Early-demographic dividend",
          "East Asia & Pacific",
          "East Asia & Pacific (IDA & IBRD countries)",
          "East Asia & Pacific (excluding high income)",
          "Ecuador",
          "Egypt, Arab Rep.",
          "El Salvador",
          "Equatorial Guinea",
          "Estonia",
          "Eswatini",
          "Ethiopia",
          "Euro area",
          "Europe & Central Asia",
          "Europe & Central Asia (IDA & IBRD countries)",
          "Europe & Central Asia (excluding high income)",
          "European Union",
          "Fiji",
          "Finland",
          "Fragile and conflict affected situations",
          "France",
          "Gabon",
          "Gambia, The",
          "Georgia",
          "Germany",
          "Ghana",
          "Greece",
          "Grenada",
          "Guatemala",
          "Guinea",
          "Guinea-Bissau",
          "Guyana",
          "Haiti",
          "Heavily indebted poor countries (HIPC)",
          "High income",
          "Honduras",
          "Hungary",
          "Iceland",
          "India",
          "Indonesia",
          "Iran, Islamic Rep.",
          "Iraq",
          "Ireland",
          "Israel",
          "Italy",
          "Jamaica",
          "Japan",
          "Jordan",
          "Kazakhstan",
          "Kenya",
          "Kiribati",
          "Korea, Rep.",
          "Kuwait",
          "Kyrgyz Republic",
          "Lao PDR",
          "Late-demographic dividend",
          "Latin America & Caribbean",
          "Latin America & Caribbean (excluding high income)",
          "Latin America & the Caribbean (IDA & IBRD countries)",
          "Latvia",
          "Least developed countries: UN classification",
          "Lebanon",
          "Lesotho",
          "Liberia",
          "Lithuania",
          "Low & middle income",
          "Low income",
          "Lower middle income",
          "Luxembourg",
          "Madagascar",
          "Malawi",
          "Malaysia",
          "Maldives",
          "Mali",
          "Malta",
          "Mauritania",
          "Mauritius",
          "Mexico",
          "Micronesia, Fed. Sts.",
          "Middle East & North Africa",
          "Middle East & North Africa (IDA & IBRD countries)",
          "Middle East & North Africa (excluding high income)",
          "Middle income",
          "Moldova",
          "Mongolia",
          "Morocco",
          "Mozambique",
          "Myanmar",
          "Namibia",
          "Nepal",
          "Netherlands",
          "New Zealand",
          "Nicaragua",
          "Niger",
          "Nigeria",
          "North America",
          "North Macedonia",
          "Norway",
          "OECD members",
          "Oman",
          "Other small states",
          "Pacific island small states",
          "Pakistan",
          "Panama",
          "Papua New Guinea",
          "Paraguay",
          "Peru",
          "Philippines",
          "Poland",
          "Portugal",
          "Post-demographic dividend",
          "Pre-demographic dividend",
          "Qatar",
          "Romania",
          "Russian Federation",
          "Rwanda",
          "Samoa",
          "Sao Tome and Principe",
          "Saudi Arabia",
          "Senegal",
          "Serbia",
          "Seychelles",
          "Sierra Leone",
          "Singapore",
          "Slovak Republic",
          "Slovenia",
          "Small states",
          "Solomon Islands",
          "South Africa",
          "South Asia",
          "South Asia (IDA & IBRD)",
          "Spain",
          "Sri Lanka",
          "St. Lucia",
          "St. Vincent and the Grenadines",
          "Sub-Saharan Africa",
          "Sub-Saharan Africa (IDA & IBRD countries)",
          "Sub-Saharan Africa (excluding high income)",
          "Suriname",
          "Sweden",
          "Switzerland",
          "Tajikistan",
          "Tanzania",
          "Thailand",
          "Timor-Leste",
          "Togo",
          "Tonga",
          "Trinidad and Tobago",
          "Tunisia",
          "Turkey",
          "Turkmenistan",
          "Uganda",
          "Ukraine",
          "United Arab Emirates",
          "United Kingdom",
          "United States",
          "Upper middle income",
          "Uruguay",
          "Uzbekistan",
          "Vanuatu",
          "Vietnam",
          "World",
          "Zambia",
          "Zimbabwe"
         ],
         "type": "choropleth",
         "z": [
          6.742,
          7.534,
          4.717,
          8.716,
          6.27,
          5.45121782486498,
          7.626,
          9.849,
          6.6,
          9.2,
          5.8,
          6.689,
          2.355,
          5.539,
          8.865,
          12.6,
          9.5,
          4.65,
          9.18,
          6.248,
          6.834,
          10.427,
          6,
          6.311,
          4.251,
          15.1,
          8.571,
          8.3,
          5.744,
          6.051,
          9.762,
          7.4,
          7.51322269331355,
          13.119,
          11.6171630592915,
          12.527,
          5.993,
          7.09,
          5.453,
          7.389,
          9.919,
          6.987,
          4.933,
          10.5,
          12.3,
          8.665,
          6.89,
          10.2,
          9.2,
          7.545,
          6.097,
          6.63556997399468,
          7.07858228084358,
          6.89676504139603,
          6.92089124141649,
          5.098,
          5.915,
          6.984,
          9.768,
          11.7,
          10.462,
          6.844,
          9.84171851591119,
          10.17727899724,
          10.629778496789,
          10.5296887070116,
          10.1790541853714,
          8.17,
          9.8,
          9.21127885948417,
          8.9,
          7.201,
          8.191,
          12.992,
          11.1,
          7.533,
          11,
          9.538,
          4.791,
          9.013,
          10.014,
          7.283,
          8.759,
          8.08279458119411,
          8.71900885918081,
          4.423,
          13,
          6.9,
          7.195,
          6.418,
          4.821,
          4.889,
          6.4,
          5.2,
          10.1,
          7.542,
          10.5,
          3.826,
          7.37,
          5.734,
          6.481,
          5.5,
          2.518,
          5.5,
          6.593,
          7.45448074921089,
          6.20957830300126,
          6.18346287958723,
          6.14696063505438,
          14.6,
          7.57101947622315,
          4.181,
          15.157,
          7.957,
          14.3,
          7.34413766677372,
          8.11811840483923,
          7.3628810302962,
          6.8,
          6.324,
          7.074,
          4.942,
          2.965,
          10.307,
          7.3,
          7.468,
          8.1,
          5.851,
          6.526,
          4.9450757736433,
          5.27298338005405,
          5.25181311619752,
          7.25840620259387,
          11.452,
          6.286,
          5.093,
          9.463,
          8.238,
          8.423,
          6.451,
          8.7,
          6.61,
          5.039,
          8.82,
          12.39,
          8.38300889493301,
          9.88,
          7.8,
          8.37587166070453,
          2.498,
          7.55400445521914,
          6.37757448733858,
          7.048,
          5.024,
          7.632,
          5.44,
          5.386,
          5.815,
          10.2,
          10.7,
          9.31972005381043,
          9.06070394304178,
          1.146,
          13.1,
          14.2,
          5.435,
          5.372,
          5.002,
          3.426,
          5.985,
          14.3,
          7.9,
          12.294,
          4.8,
          9.6,
          9.5,
          7.47701988904529,
          4.326,
          9.599,
          6.99955924611655,
          6.99955924611655,
          8.8,
          6.459,
          7.123,
          9.032,
          9.00274147317103,
          9.00274147317103,
          9.00396065393703,
          7.219,
          9.2,
          7.8,
          5.078,
          6.868,
          7.467,
          6.109,
          8.695,
          7.223,
          8.159,
          6.287,
          5.39,
          7.076,
          7.031,
          14.7,
          1.398,
          9.1,
          8.493,
          7.15412183935428,
          9.452,
          4.9,
          5.396,
          6.19,
          7.56984852006735,
          6.864,
          8.286
         ]
        }
       ],
       "layout": {
        "geo": {
         "projection": {
          "type": "natural earth"
         },
         "showframe": false
        },
        "template": {
         "data": {
          "bar": [
           {
            "error_x": {
             "color": "#2a3f5f"
            },
            "error_y": {
             "color": "#2a3f5f"
            },
            "marker": {
             "line": {
              "color": "#E5ECF6",
              "width": 0.5
             }
            },
            "type": "bar"
           }
          ],
          "barpolar": [
           {
            "marker": {
             "line": {
              "color": "#E5ECF6",
              "width": 0.5
             }
            },
            "type": "barpolar"
           }
          ],
          "carpet": [
           {
            "aaxis": {
             "endlinecolor": "#2a3f5f",
             "gridcolor": "white",
             "linecolor": "white",
             "minorgridcolor": "white",
             "startlinecolor": "#2a3f5f"
            },
            "baxis": {
             "endlinecolor": "#2a3f5f",
             "gridcolor": "white",
             "linecolor": "white",
             "minorgridcolor": "white",
             "startlinecolor": "#2a3f5f"
            },
            "type": "carpet"
           }
          ],
          "choropleth": [
           {
            "colorbar": {
             "outlinewidth": 0,
             "ticks": ""
            },
            "type": "choropleth"
           }
          ],
          "contour": [
           {
            "colorbar": {
             "outlinewidth": 0,
             "ticks": ""
            },
            "colorscale": [
             [
              0,
              "#0d0887"
             ],
             [
              0.1111111111111111,
              "#46039f"
             ],
             [
              0.2222222222222222,
              "#7201a8"
             ],
             [
              0.3333333333333333,
              "#9c179e"
             ],
             [
              0.4444444444444444,
              "#bd3786"
             ],
             [
              0.5555555555555556,
              "#d8576b"
             ],
             [
              0.6666666666666666,
              "#ed7953"
             ],
             [
              0.7777777777777778,
              "#fb9f3a"
             ],
             [
              0.8888888888888888,
              "#fdca26"
             ],
             [
              1,
              "#f0f921"
             ]
            ],
            "type": "contour"
           }
          ],
          "contourcarpet": [
           {
            "colorbar": {
             "outlinewidth": 0,
             "ticks": ""
            },
            "type": "contourcarpet"
           }
          ],
          "heatmap": [
           {
            "colorbar": {
             "outlinewidth": 0,
             "ticks": ""
            },
            "colorscale": [
             [
              0,
              "#0d0887"
             ],
             [
              0.1111111111111111,
              "#46039f"
             ],
             [
              0.2222222222222222,
              "#7201a8"
             ],
             [
              0.3333333333333333,
              "#9c179e"
             ],
             [
              0.4444444444444444,
              "#bd3786"
             ],
             [
              0.5555555555555556,
              "#d8576b"
             ],
             [
              0.6666666666666666,
              "#ed7953"
             ],
             [
              0.7777777777777778,
              "#fb9f3a"
             ],
             [
              0.8888888888888888,
              "#fdca26"
             ],
             [
              1,
              "#f0f921"
             ]
            ],
            "type": "heatmap"
           }
          ],
          "heatmapgl": [
           {
            "colorbar": {
             "outlinewidth": 0,
             "ticks": ""
            },
            "colorscale": [
             [
              0,
              "#0d0887"
             ],
             [
              0.1111111111111111,
              "#46039f"
             ],
             [
              0.2222222222222222,
              "#7201a8"
             ],
             [
              0.3333333333333333,
              "#9c179e"
             ],
             [
              0.4444444444444444,
              "#bd3786"
             ],
             [
              0.5555555555555556,
              "#d8576b"
             ],
             [
              0.6666666666666666,
              "#ed7953"
             ],
             [
              0.7777777777777778,
              "#fb9f3a"
             ],
             [
              0.8888888888888888,
              "#fdca26"
             ],
             [
              1,
              "#f0f921"
             ]
            ],
            "type": "heatmapgl"
           }
          ],
          "histogram": [
           {
            "marker": {
             "colorbar": {
              "outlinewidth": 0,
              "ticks": ""
             }
            },
            "type": "histogram"
           }
          ],
          "histogram2d": [
           {
            "colorbar": {
             "outlinewidth": 0,
             "ticks": ""
            },
            "colorscale": [
             [
              0,
              "#0d0887"
             ],
             [
              0.1111111111111111,
              "#46039f"
             ],
             [
              0.2222222222222222,
              "#7201a8"
             ],
             [
              0.3333333333333333,
              "#9c179e"
             ],
             [
              0.4444444444444444,
              "#bd3786"
             ],
             [
              0.5555555555555556,
              "#d8576b"
             ],
             [
              0.6666666666666666,
              "#ed7953"
             ],
             [
              0.7777777777777778,
              "#fb9f3a"
             ],
             [
              0.8888888888888888,
              "#fdca26"
             ],
             [
              1,
              "#f0f921"
             ]
            ],
            "type": "histogram2d"
           }
          ],
          "histogram2dcontour": [
           {
            "colorbar": {
             "outlinewidth": 0,
             "ticks": ""
            },
            "colorscale": [
             [
              0,
              "#0d0887"
             ],
             [
              0.1111111111111111,
              "#46039f"
             ],
             [
              0.2222222222222222,
              "#7201a8"
             ],
             [
              0.3333333333333333,
              "#9c179e"
             ],
             [
              0.4444444444444444,
              "#bd3786"
             ],
             [
              0.5555555555555556,
              "#d8576b"
             ],
             [
              0.6666666666666666,
              "#ed7953"
             ],
             [
              0.7777777777777778,
              "#fb9f3a"
             ],
             [
              0.8888888888888888,
              "#fdca26"
             ],
             [
              1,
              "#f0f921"
             ]
            ],
            "type": "histogram2dcontour"
           }
          ],
          "mesh3d": [
           {
            "colorbar": {
             "outlinewidth": 0,
             "ticks": ""
            },
            "type": "mesh3d"
           }
          ],
          "parcoords": [
           {
            "line": {
             "colorbar": {
              "outlinewidth": 0,
              "ticks": ""
             }
            },
            "type": "parcoords"
           }
          ],
          "pie": [
           {
            "automargin": true,
            "type": "pie"
           }
          ],
          "scatter": [
           {
            "marker": {
             "colorbar": {
              "outlinewidth": 0,
              "ticks": ""
             }
            },
            "type": "scatter"
           }
          ],
          "scatter3d": [
           {
            "line": {
             "colorbar": {
              "outlinewidth": 0,
              "ticks": ""
             }
            },
            "marker": {
             "colorbar": {
              "outlinewidth": 0,
              "ticks": ""
             }
            },
            "type": "scatter3d"
           }
          ],
          "scattercarpet": [
           {
            "marker": {
             "colorbar": {
              "outlinewidth": 0,
              "ticks": ""
             }
            },
            "type": "scattercarpet"
           }
          ],
          "scattergeo": [
           {
            "marker": {
             "colorbar": {
              "outlinewidth": 0,
              "ticks": ""
             }
            },
            "type": "scattergeo"
           }
          ],
          "scattergl": [
           {
            "marker": {
             "colorbar": {
              "outlinewidth": 0,
              "ticks": ""
             }
            },
            "type": "scattergl"
           }
          ],
          "scattermapbox": [
           {
            "marker": {
             "colorbar": {
              "outlinewidth": 0,
              "ticks": ""
             }
            },
            "type": "scattermapbox"
           }
          ],
          "scatterpolar": [
           {
            "marker": {
             "colorbar": {
              "outlinewidth": 0,
              "ticks": ""
             }
            },
            "type": "scatterpolar"
           }
          ],
          "scatterpolargl": [
           {
            "marker": {
             "colorbar": {
              "outlinewidth": 0,
              "ticks": ""
             }
            },
            "type": "scatterpolargl"
           }
          ],
          "scatterternary": [
           {
            "marker": {
             "colorbar": {
              "outlinewidth": 0,
              "ticks": ""
             }
            },
            "type": "scatterternary"
           }
          ],
          "surface": [
           {
            "colorbar": {
             "outlinewidth": 0,
             "ticks": ""
            },
            "colorscale": [
             [
              0,
              "#0d0887"
             ],
             [
              0.1111111111111111,
              "#46039f"
             ],
             [
              0.2222222222222222,
              "#7201a8"
             ],
             [
              0.3333333333333333,
              "#9c179e"
             ],
             [
              0.4444444444444444,
              "#bd3786"
             ],
             [
              0.5555555555555556,
              "#d8576b"
             ],
             [
              0.6666666666666666,
              "#ed7953"
             ],
             [
              0.7777777777777778,
              "#fb9f3a"
             ],
             [
              0.8888888888888888,
              "#fdca26"
             ],
             [
              1,
              "#f0f921"
             ]
            ],
            "type": "surface"
           }
          ],
          "table": [
           {
            "cells": {
             "fill": {
              "color": "#EBF0F8"
             },
             "line": {
              "color": "white"
             }
            },
            "header": {
             "fill": {
              "color": "#C8D4E3"
             },
             "line": {
              "color": "white"
             }
            },
            "type": "table"
           }
          ]
         },
         "layout": {
          "annotationdefaults": {
           "arrowcolor": "#2a3f5f",
           "arrowhead": 0,
           "arrowwidth": 1
          },
          "autotypenumbers": "strict",
          "coloraxis": {
           "colorbar": {
            "outlinewidth": 0,
            "ticks": ""
           }
          },
          "colorscale": {
           "diverging": [
            [
             0,
             "#8e0152"
            ],
            [
             0.1,
             "#c51b7d"
            ],
            [
             0.2,
             "#de77ae"
            ],
            [
             0.3,
             "#f1b6da"
            ],
            [
             0.4,
             "#fde0ef"
            ],
            [
             0.5,
             "#f7f7f7"
            ],
            [
             0.6,
             "#e6f5d0"
            ],
            [
             0.7,
             "#b8e186"
            ],
            [
             0.8,
             "#7fbc41"
            ],
            [
             0.9,
             "#4d9221"
            ],
            [
             1,
             "#276419"
            ]
           ],
           "sequential": [
            [
             0,
             "#0d0887"
            ],
            [
             0.1111111111111111,
             "#46039f"
            ],
            [
             0.2222222222222222,
             "#7201a8"
            ],
            [
             0.3333333333333333,
             "#9c179e"
            ],
            [
             0.4444444444444444,
             "#bd3786"
            ],
            [
             0.5555555555555556,
             "#d8576b"
            ],
            [
             0.6666666666666666,
             "#ed7953"
            ],
            [
             0.7777777777777778,
             "#fb9f3a"
            ],
            [
             0.8888888888888888,
             "#fdca26"
            ],
            [
             1,
             "#f0f921"
            ]
           ],
           "sequentialminus": [
            [
             0,
             "#0d0887"
            ],
            [
             0.1111111111111111,
             "#46039f"
            ],
            [
             0.2222222222222222,
             "#7201a8"
            ],
            [
             0.3333333333333333,
             "#9c179e"
            ],
            [
             0.4444444444444444,
             "#bd3786"
            ],
            [
             0.5555555555555556,
             "#d8576b"
            ],
            [
             0.6666666666666666,
             "#ed7953"
            ],
            [
             0.7777777777777778,
             "#fb9f3a"
            ],
            [
             0.8888888888888888,
             "#fdca26"
            ],
            [
             1,
             "#f0f921"
            ]
           ]
          },
          "colorway": [
           "#636efa",
           "#EF553B",
           "#00cc96",
           "#ab63fa",
           "#FFA15A",
           "#19d3f3",
           "#FF6692",
           "#B6E880",
           "#FF97FF",
           "#FECB52"
          ],
          "font": {
           "color": "#2a3f5f"
          },
          "geo": {
           "bgcolor": "white",
           "lakecolor": "white",
           "landcolor": "#E5ECF6",
           "showlakes": true,
           "showland": true,
           "subunitcolor": "white"
          },
          "hoverlabel": {
           "align": "left"
          },
          "hovermode": "closest",
          "mapbox": {
           "style": "light"
          },
          "paper_bgcolor": "white",
          "plot_bgcolor": "#E5ECF6",
          "polar": {
           "angularaxis": {
            "gridcolor": "white",
            "linecolor": "white",
            "ticks": ""
           },
           "bgcolor": "#E5ECF6",
           "radialaxis": {
            "gridcolor": "white",
            "linecolor": "white",
            "ticks": ""
           }
          },
          "scene": {
           "xaxis": {
            "backgroundcolor": "#E5ECF6",
            "gridcolor": "white",
            "gridwidth": 2,
            "linecolor": "white",
            "showbackground": true,
            "ticks": "",
            "zerolinecolor": "white"
           },
           "yaxis": {
            "backgroundcolor": "#E5ECF6",
            "gridcolor": "white",
            "gridwidth": 2,
            "linecolor": "white",
            "showbackground": true,
            "ticks": "",
            "zerolinecolor": "white"
           },
           "zaxis": {
            "backgroundcolor": "#E5ECF6",
            "gridcolor": "white",
            "gridwidth": 2,
            "linecolor": "white",
            "showbackground": true,
            "ticks": "",
            "zerolinecolor": "white"
           }
          },
          "shapedefaults": {
           "line": {
            "color": "#2a3f5f"
           }
          },
          "ternary": {
           "aaxis": {
            "gridcolor": "white",
            "linecolor": "white",
            "ticks": ""
           },
           "baxis": {
            "gridcolor": "white",
            "linecolor": "white",
            "ticks": ""
           },
           "bgcolor": "#E5ECF6",
           "caxis": {
            "gridcolor": "white",
            "linecolor": "white",
            "ticks": ""
           }
          },
          "title": {
           "x": 0.05
          },
          "xaxis": {
           "automargin": true,
           "gridcolor": "white",
           "linecolor": "white",
           "ticks": "",
           "title": {
            "standoff": 15
           },
           "zerolinecolor": "white",
           "zerolinewidth": 2
          },
          "yaxis": {
           "automargin": true,
           "gridcolor": "white",
           "linecolor": "white",
           "ticks": "",
           "title": {
            "standoff": 15
           },
           "zerolinecolor": "white",
           "zerolinewidth": 2
          }
         }
        },
        "title": {
         "text": "2016 Mortality Rate"
        }
       }
      },
      "text/html": [
       "<div>                            <div id=\"e347150e-d468-4cd0-804e-155401f16bfe\" class=\"plotly-graph-div\" style=\"height:525px; width:100%;\"></div>            <script type=\"text/javascript\">                require([\"plotly\"], function(Plotly) {                    window.PLOTLYENV=window.PLOTLYENV || {};                                    if (document.getElementById(\"e347150e-d468-4cd0-804e-155401f16bfe\")) {                    Plotly.newPlot(                        \"e347150e-d468-4cd0-804e-155401f16bfe\",                        [{\"colorbar\": {\"title\": {\"text\": \"Mortality Rate\"}}, \"colorscale\": [[0.0, \"rgb(255,245,240)\"], [0.125, \"rgb(254,224,210)\"], [0.25, \"rgb(252,187,161)\"], [0.375, \"rgb(252,146,114)\"], [0.5, \"rgb(251,106,74)\"], [0.625, \"rgb(239,59,44)\"], [0.75, \"rgb(203,24,29)\"], [0.875, \"rgb(165,15,21)\"], [1.0, \"rgb(103,0,13)\"]], \"locations\": [\"AFG\", \"ALB\", \"DZA\", \"AGO\", \"ATG\", \"Arab World\", \"ARG\", \"ARM\", \"AUS\", \"AUT\", \"AZE\", \"BHM\", \"BHR\", \"BGD\", \"BRB\", \"BLR\", \"BEL\", \"BLZ\", \"BEN\", \"BTN\", \"BOL\", \"BIH\", \"BWA\", \"BRA\", \"BRN\", \"BGR\", \"BFA\", \"BDI\", \"CPV\", \"KHM\", \"CMR\", \"CAN\", \"Caribbean small states\", \"CAF\", \"Central Europe and the Baltics\", \"TCD\", \"CHL\", \"CHN\", \"COL\", \"COM\", \"COD\", \"COG\", \"CRI\", \"CIV\", \"HRV\", \"CUB\", \"CYP\", \"CZE\", \"DNK\", \"DJI\", \"DOM\", \"Early-demographic dividend\", \"East Asia & Pacific\", \"East Asia & Pacific (IDA & IBRD countries)\", \"East Asia & Pacific (excluding high income)\", \"ECU\", \"EGY\", \"SLV\", \"GNQ\", \"EST\", \"SWZ\", \"ETH\", \"Euro area\", \"Europe & Central Asia\", \"Europe & Central Asia (IDA & IBRD countries)\", \"Europe & Central Asia (excluding high income)\", \"European Union\", \"FJI\", \"FIN\", \"Fragile and conflict affected situations\", \"FRA\", \"GAB\", \"GMB\", \"GEO\", \"DEU\", \"GHA\", \"GRC\", \"GRD\", \"GTM\", \"GIN\", \"GNB\", \"GUY\", \"HTI\", \"Heavily indebted poor countries (HIPC)\", \"High income\", \"HND\", \"HUN\", \"ISL\", \"IND\", \"IDN\", \"IRN\", \"IRQ\", \"IRL\", \"ISR\", \"ITA\", \"JAM\", \"JPN\", \"JOR\", \"KAZ\", \"KEN\", \"KIR\", \"PRK\", \"KWT\", \"KGZ\", \"LAO\", \"Late-demographic dividend\", \"Latin America & Caribbean\", \"Latin America & Caribbean (excluding high income)\", \"Latin America & the Caribbean (IDA & IBRD countries)\", \"LVA\", \"Least developed countries: UN classification\", \"LBN\", \"LSO\", \"LBR\", \"LTU\", \"Low & middle income\", \"Low income\", \"Lower middle income\", \"LUX\", \"MDG\", \"MWI\", \"MYS\", \"MDV\", \"MLI\", \"MLT\", \"MRT\", \"MUS\", \"MEX\", \"FSM\", \"Middle East & North Africa\", \"Middle East & North Africa (IDA & IBRD countries)\", \"Middle East & North Africa (excluding high income)\", \"Middle income\", \"MDA\", \"MNG\", \"MAR\", \"MOZ\", \"MMR\", \"NAM\", \"NPL\", \"NLD\", \"NZL\", \"NIC\", \"NER\", \"NGA\", \"North America\", \"MKD\", \"NOR\", \"OECD members\", \"OMN\", \"Other small states\", \"Pacific island small states\", \"PAK\", \"PAN\", \"PNG\", \"PRY\", \"PER\", \"PHL\", \"POL\", \"PRT\", \"Post-demographic dividend\", \"Pre-demographic dividend\", \"QAT\", \"ROU\", \"RUS\", \"RWA\", \"WSM\", \"STP\", \"SAU\", \"SEN\", \"SRB\", \"SYC\", \"SLE\", \"SGP\", \"SVK\", \"SVN\", \"Small states\", \"SLB\", \"ZAF\", \"South Asia\", \"South Asia (IDA & IBRD)\", \"ESP\", \"LKA\", \"LCA\", \"VCT\", \"Sub-Saharan Africa\", \"Sub-Saharan Africa (IDA & IBRD countries)\", \"Sub-Saharan Africa (excluding high income)\", \"SUR\", \"SWE\", \"CHE\", \"TJK\", \"TZA\", \"THA\", \"TLS\", \"TGO\", \"TON\", \"TTO\", \"TUN\", \"TUR\", \"TKM\", \"UGA\", \"UKR\", \"ARE\", \"GBR\", \"USA\", \"Upper middle income\", \"URY\", \"UZB\", \"VUT\", \"VNM\", \"World\", \"ZMB\", \"ZWE\"], \"text\": [\"Afghanistan\", \"Albania\", \"Algeria\", \"Angola\", \"Antigua and Barbuda\", \"Arab World\", \"Argentina\", \"Armenia\", \"Australia\", \"Austria\", \"Azerbaijan\", \"Bahamas, The\", \"Bahrain\", \"Bangladesh\", \"Barbados\", \"Belarus\", \"Belgium\", \"Belize\", \"Benin\", \"Bhutan\", \"Bolivia\", \"Bosnia and Herzegovina\", \"Botswana\", \"Brazil\", \"Brunei Darussalam\", \"Bulgaria\", \"Burkina Faso\", \"Burundi\", \"Cabo Verde\", \"Cambodia\", \"Cameroon\", \"Canada\", \"Caribbean small states\", \"Central African Republic\", \"Central Europe and the Baltics\", \"Chad\", \"Chile\", \"China\", \"Colombia\", \"Comoros\", \"Congo, Dem. Rep.\", \"Congo, Rep.\", \"Costa Rica\", \"Cote d'Ivoire\", \"Croatia\", \"Cuba\", \"Cyprus\", \"Czech Republic\", \"Denmark\", \"Djibouti\", \"Dominican Republic\", \"Early-demographic dividend\", \"East Asia & Pacific\", \"East Asia & Pacific (IDA & IBRD countries)\", \"East Asia & Pacific (excluding high income)\", \"Ecuador\", \"Egypt, Arab Rep.\", \"El Salvador\", \"Equatorial Guinea\", \"Estonia\", \"Eswatini\", \"Ethiopia\", \"Euro area\", \"Europe & Central Asia\", \"Europe & Central Asia (IDA & IBRD countries)\", \"Europe & Central Asia (excluding high income)\", \"European Union\", \"Fiji\", \"Finland\", \"Fragile and conflict affected situations\", \"France\", \"Gabon\", \"Gambia, The\", \"Georgia\", \"Germany\", \"Ghana\", \"Greece\", \"Grenada\", \"Guatemala\", \"Guinea\", \"Guinea-Bissau\", \"Guyana\", \"Haiti\", \"Heavily indebted poor countries (HIPC)\", \"High income\", \"Honduras\", \"Hungary\", \"Iceland\", \"India\", \"Indonesia\", \"Iran, Islamic Rep.\", \"Iraq\", \"Ireland\", \"Israel\", \"Italy\", \"Jamaica\", \"Japan\", \"Jordan\", \"Kazakhstan\", \"Kenya\", \"Kiribati\", \"Korea, Rep.\", \"Kuwait\", \"Kyrgyz Republic\", \"Lao PDR\", \"Late-demographic dividend\", \"Latin America & Caribbean\", \"Latin America & Caribbean (excluding high income)\", \"Latin America & the Caribbean (IDA & IBRD countries)\", \"Latvia\", \"Least developed countries: UN classification\", \"Lebanon\", \"Lesotho\", \"Liberia\", \"Lithuania\", \"Low & middle income\", \"Low income\", \"Lower middle income\", \"Luxembourg\", \"Madagascar\", \"Malawi\", \"Malaysia\", \"Maldives\", \"Mali\", \"Malta\", \"Mauritania\", \"Mauritius\", \"Mexico\", \"Micronesia, Fed. Sts.\", \"Middle East & North Africa\", \"Middle East & North Africa (IDA & IBRD countries)\", \"Middle East & North Africa (excluding high income)\", \"Middle income\", \"Moldova\", \"Mongolia\", \"Morocco\", \"Mozambique\", \"Myanmar\", \"Namibia\", \"Nepal\", \"Netherlands\", \"New Zealand\", \"Nicaragua\", \"Niger\", \"Nigeria\", \"North America\", \"North Macedonia\", \"Norway\", \"OECD members\", \"Oman\", \"Other small states\", \"Pacific island small states\", \"Pakistan\", \"Panama\", \"Papua New Guinea\", \"Paraguay\", \"Peru\", \"Philippines\", \"Poland\", \"Portugal\", \"Post-demographic dividend\", \"Pre-demographic dividend\", \"Qatar\", \"Romania\", \"Russian Federation\", \"Rwanda\", \"Samoa\", \"Sao Tome and Principe\", \"Saudi Arabia\", \"Senegal\", \"Serbia\", \"Seychelles\", \"Sierra Leone\", \"Singapore\", \"Slovak Republic\", \"Slovenia\", \"Small states\", \"Solomon Islands\", \"South Africa\", \"South Asia\", \"South Asia (IDA & IBRD)\", \"Spain\", \"Sri Lanka\", \"St. Lucia\", \"St. Vincent and the Grenadines\", \"Sub-Saharan Africa\", \"Sub-Saharan Africa (IDA & IBRD countries)\", \"Sub-Saharan Africa (excluding high income)\", \"Suriname\", \"Sweden\", \"Switzerland\", \"Tajikistan\", \"Tanzania\", \"Thailand\", \"Timor-Leste\", \"Togo\", \"Tonga\", \"Trinidad and Tobago\", \"Tunisia\", \"Turkey\", \"Turkmenistan\", \"Uganda\", \"Ukraine\", \"United Arab Emirates\", \"United Kingdom\", \"United States\", \"Upper middle income\", \"Uruguay\", \"Uzbekistan\", \"Vanuatu\", \"Vietnam\", \"World\", \"Zambia\", \"Zimbabwe\"], \"type\": \"choropleth\", \"z\": [6.742, 7.534, 4.717, 8.716, 6.27, 5.45121782486498, 7.626, 9.849, 6.6, 9.2, 5.8, 6.689, 2.355, 5.539, 8.865, 12.6, 9.5, 4.65, 9.18, 6.248, 6.834, 10.427, 6.0, 6.311, 4.251, 15.1, 8.571, 8.3, 5.744, 6.051, 9.762, 7.4, 7.51322269331355, 13.119, 11.6171630592915, 12.527, 5.993, 7.09, 5.453, 7.389, 9.919, 6.987, 4.933, 10.5, 12.3, 8.665, 6.89, 10.2, 9.2, 7.545, 6.097, 6.63556997399468, 7.07858228084358, 6.89676504139603, 6.92089124141649, 5.098, 5.915, 6.984, 9.768, 11.7, 10.462, 6.844, 9.84171851591119, 10.17727899724, 10.629778496789, 10.5296887070116, 10.1790541853714, 8.17, 9.8, 9.21127885948417, 8.9, 7.201, 8.191, 12.992, 11.1, 7.533, 11.0, 9.538, 4.791, 9.013, 10.014, 7.283, 8.759, 8.08279458119411, 8.71900885918081, 4.423, 13.0, 6.9, 7.195, 6.418, 4.821, 4.889, 6.4, 5.2, 10.1, 7.542, 10.5, 3.826, 7.37, 5.734, 6.481, 5.5, 2.518, 5.5, 6.593, 7.45448074921089, 6.20957830300126, 6.18346287958723, 6.14696063505438, 14.6, 7.57101947622315, 4.181, 15.157, 7.957, 14.3, 7.34413766677372, 8.11811840483923, 7.3628810302962, 6.8, 6.324, 7.074, 4.942, 2.965, 10.307, 7.3, 7.468, 8.1, 5.851, 6.526, 4.9450757736433, 5.27298338005405, 5.25181311619752, 7.25840620259387, 11.452, 6.286, 5.093, 9.463, 8.238, 8.423, 6.451, 8.7, 6.61, 5.039, 8.82, 12.39, 8.38300889493301, 9.88, 7.8, 8.37587166070453, 2.498, 7.55400445521914, 6.37757448733858, 7.048, 5.024, 7.632, 5.44, 5.386, 5.815, 10.2, 10.7, 9.31972005381043, 9.06070394304178, 1.146, 13.1, 14.2, 5.435, 5.372, 5.002, 3.426, 5.985, 14.3, 7.9, 12.294, 4.8, 9.6, 9.5, 7.47701988904529, 4.326, 9.599, 6.99955924611655, 6.99955924611655, 8.8, 6.459, 7.123, 9.032, 9.00274147317103, 9.00274147317103, 9.00396065393703, 7.219, 9.2, 7.8, 5.078, 6.868, 7.467, 6.109, 8.695, 7.223, 8.159, 6.287, 5.39, 7.076, 7.031, 14.7, 1.398, 9.1, 8.493, 7.15412183935428, 9.452, 4.9, 5.396, 6.19, 7.56984852006735, 6.864, 8.286]}],                        {\"geo\": {\"projection\": {\"type\": \"natural earth\"}, \"showframe\": false}, \"template\": {\"data\": {\"bar\": [{\"error_x\": {\"color\": \"#2a3f5f\"}, \"error_y\": {\"color\": \"#2a3f5f\"}, \"marker\": {\"line\": {\"color\": \"#E5ECF6\", \"width\": 0.5}}, \"type\": \"bar\"}], \"barpolar\": [{\"marker\": {\"line\": {\"color\": \"#E5ECF6\", \"width\": 0.5}}, \"type\": \"barpolar\"}], \"carpet\": [{\"aaxis\": {\"endlinecolor\": \"#2a3f5f\", \"gridcolor\": \"white\", \"linecolor\": \"white\", \"minorgridcolor\": \"white\", \"startlinecolor\": \"#2a3f5f\"}, \"baxis\": {\"endlinecolor\": \"#2a3f5f\", \"gridcolor\": \"white\", \"linecolor\": \"white\", \"minorgridcolor\": \"white\", \"startlinecolor\": \"#2a3f5f\"}, \"type\": \"carpet\"}], \"choropleth\": [{\"colorbar\": {\"outlinewidth\": 0, \"ticks\": \"\"}, \"type\": \"choropleth\"}], \"contour\": [{\"colorbar\": {\"outlinewidth\": 0, \"ticks\": \"\"}, \"colorscale\": [[0.0, \"#0d0887\"], [0.1111111111111111, \"#46039f\"], [0.2222222222222222, \"#7201a8\"], [0.3333333333333333, \"#9c179e\"], [0.4444444444444444, \"#bd3786\"], [0.5555555555555556, \"#d8576b\"], [0.6666666666666666, \"#ed7953\"], [0.7777777777777778, \"#fb9f3a\"], [0.8888888888888888, \"#fdca26\"], [1.0, \"#f0f921\"]], \"type\": \"contour\"}], \"contourcarpet\": [{\"colorbar\": {\"outlinewidth\": 0, \"ticks\": \"\"}, \"type\": \"contourcarpet\"}], \"heatmap\": [{\"colorbar\": {\"outlinewidth\": 0, \"ticks\": \"\"}, \"colorscale\": [[0.0, \"#0d0887\"], [0.1111111111111111, \"#46039f\"], [0.2222222222222222, \"#7201a8\"], [0.3333333333333333, \"#9c179e\"], [0.4444444444444444, \"#bd3786\"], [0.5555555555555556, \"#d8576b\"], [0.6666666666666666, \"#ed7953\"], [0.7777777777777778, \"#fb9f3a\"], [0.8888888888888888, \"#fdca26\"], [1.0, \"#f0f921\"]], \"type\": \"heatmap\"}], \"heatmapgl\": [{\"colorbar\": {\"outlinewidth\": 0, \"ticks\": \"\"}, \"colorscale\": [[0.0, \"#0d0887\"], [0.1111111111111111, \"#46039f\"], [0.2222222222222222, \"#7201a8\"], [0.3333333333333333, \"#9c179e\"], [0.4444444444444444, \"#bd3786\"], [0.5555555555555556, \"#d8576b\"], [0.6666666666666666, \"#ed7953\"], [0.7777777777777778, \"#fb9f3a\"], [0.8888888888888888, \"#fdca26\"], [1.0, \"#f0f921\"]], \"type\": \"heatmapgl\"}], \"histogram\": [{\"marker\": {\"colorbar\": {\"outlinewidth\": 0, \"ticks\": \"\"}}, \"type\": \"histogram\"}], \"histogram2d\": [{\"colorbar\": {\"outlinewidth\": 0, \"ticks\": \"\"}, \"colorscale\": [[0.0, \"#0d0887\"], [0.1111111111111111, \"#46039f\"], [0.2222222222222222, \"#7201a8\"], [0.3333333333333333, \"#9c179e\"], [0.4444444444444444, \"#bd3786\"], [0.5555555555555556, \"#d8576b\"], [0.6666666666666666, \"#ed7953\"], [0.7777777777777778, \"#fb9f3a\"], [0.8888888888888888, \"#fdca26\"], [1.0, \"#f0f921\"]], \"type\": \"histogram2d\"}], \"histogram2dcontour\": [{\"colorbar\": {\"outlinewidth\": 0, \"ticks\": \"\"}, \"colorscale\": [[0.0, \"#0d0887\"], [0.1111111111111111, \"#46039f\"], [0.2222222222222222, \"#7201a8\"], [0.3333333333333333, \"#9c179e\"], [0.4444444444444444, \"#bd3786\"], [0.5555555555555556, \"#d8576b\"], [0.6666666666666666, \"#ed7953\"], [0.7777777777777778, \"#fb9f3a\"], [0.8888888888888888, \"#fdca26\"], [1.0, \"#f0f921\"]], \"type\": \"histogram2dcontour\"}], \"mesh3d\": [{\"colorbar\": {\"outlinewidth\": 0, \"ticks\": \"\"}, \"type\": \"mesh3d\"}], \"parcoords\": [{\"line\": {\"colorbar\": {\"outlinewidth\": 0, \"ticks\": \"\"}}, \"type\": \"parcoords\"}], \"pie\": [{\"automargin\": true, \"type\": \"pie\"}], \"scatter\": [{\"marker\": {\"colorbar\": {\"outlinewidth\": 0, \"ticks\": \"\"}}, \"type\": \"scatter\"}], \"scatter3d\": [{\"line\": {\"colorbar\": {\"outlinewidth\": 0, \"ticks\": \"\"}}, \"marker\": {\"colorbar\": {\"outlinewidth\": 0, \"ticks\": \"\"}}, \"type\": \"scatter3d\"}], \"scattercarpet\": [{\"marker\": {\"colorbar\": {\"outlinewidth\": 0, \"ticks\": \"\"}}, \"type\": \"scattercarpet\"}], \"scattergeo\": [{\"marker\": {\"colorbar\": {\"outlinewidth\": 0, \"ticks\": \"\"}}, \"type\": \"scattergeo\"}], \"scattergl\": [{\"marker\": {\"colorbar\": {\"outlinewidth\": 0, \"ticks\": \"\"}}, \"type\": \"scattergl\"}], \"scattermapbox\": [{\"marker\": {\"colorbar\": {\"outlinewidth\": 0, \"ticks\": \"\"}}, \"type\": \"scattermapbox\"}], \"scatterpolar\": [{\"marker\": {\"colorbar\": {\"outlinewidth\": 0, \"ticks\": \"\"}}, \"type\": \"scatterpolar\"}], \"scatterpolargl\": [{\"marker\": {\"colorbar\": {\"outlinewidth\": 0, \"ticks\": \"\"}}, \"type\": \"scatterpolargl\"}], \"scatterternary\": [{\"marker\": {\"colorbar\": {\"outlinewidth\": 0, \"ticks\": \"\"}}, \"type\": \"scatterternary\"}], \"surface\": [{\"colorbar\": {\"outlinewidth\": 0, \"ticks\": \"\"}, \"colorscale\": [[0.0, \"#0d0887\"], [0.1111111111111111, \"#46039f\"], [0.2222222222222222, \"#7201a8\"], [0.3333333333333333, \"#9c179e\"], [0.4444444444444444, \"#bd3786\"], [0.5555555555555556, \"#d8576b\"], [0.6666666666666666, \"#ed7953\"], [0.7777777777777778, \"#fb9f3a\"], [0.8888888888888888, \"#fdca26\"], [1.0, \"#f0f921\"]], \"type\": \"surface\"}], \"table\": [{\"cells\": {\"fill\": {\"color\": \"#EBF0F8\"}, \"line\": {\"color\": \"white\"}}, \"header\": {\"fill\": {\"color\": \"#C8D4E3\"}, \"line\": {\"color\": \"white\"}}, \"type\": \"table\"}]}, \"layout\": {\"annotationdefaults\": {\"arrowcolor\": \"#2a3f5f\", \"arrowhead\": 0, \"arrowwidth\": 1}, \"autotypenumbers\": \"strict\", \"coloraxis\": {\"colorbar\": {\"outlinewidth\": 0, \"ticks\": \"\"}}, \"colorscale\": {\"diverging\": [[0, \"#8e0152\"], [0.1, \"#c51b7d\"], [0.2, \"#de77ae\"], [0.3, \"#f1b6da\"], [0.4, \"#fde0ef\"], [0.5, \"#f7f7f7\"], [0.6, \"#e6f5d0\"], [0.7, \"#b8e186\"], [0.8, \"#7fbc41\"], [0.9, \"#4d9221\"], [1, \"#276419\"]], \"sequential\": [[0.0, \"#0d0887\"], [0.1111111111111111, \"#46039f\"], [0.2222222222222222, \"#7201a8\"], [0.3333333333333333, \"#9c179e\"], [0.4444444444444444, \"#bd3786\"], [0.5555555555555556, \"#d8576b\"], [0.6666666666666666, \"#ed7953\"], [0.7777777777777778, \"#fb9f3a\"], [0.8888888888888888, \"#fdca26\"], [1.0, \"#f0f921\"]], \"sequentialminus\": [[0.0, \"#0d0887\"], [0.1111111111111111, \"#46039f\"], [0.2222222222222222, \"#7201a8\"], [0.3333333333333333, \"#9c179e\"], [0.4444444444444444, \"#bd3786\"], [0.5555555555555556, \"#d8576b\"], [0.6666666666666666, \"#ed7953\"], [0.7777777777777778, \"#fb9f3a\"], [0.8888888888888888, \"#fdca26\"], [1.0, \"#f0f921\"]]}, \"colorway\": [\"#636efa\", \"#EF553B\", \"#00cc96\", \"#ab63fa\", \"#FFA15A\", \"#19d3f3\", \"#FF6692\", \"#B6E880\", \"#FF97FF\", \"#FECB52\"], \"font\": {\"color\": \"#2a3f5f\"}, \"geo\": {\"bgcolor\": \"white\", \"lakecolor\": \"white\", \"landcolor\": \"#E5ECF6\", \"showlakes\": true, \"showland\": true, \"subunitcolor\": \"white\"}, \"hoverlabel\": {\"align\": \"left\"}, \"hovermode\": \"closest\", \"mapbox\": {\"style\": \"light\"}, \"paper_bgcolor\": \"white\", \"plot_bgcolor\": \"#E5ECF6\", \"polar\": {\"angularaxis\": {\"gridcolor\": \"white\", \"linecolor\": \"white\", \"ticks\": \"\"}, \"bgcolor\": \"#E5ECF6\", \"radialaxis\": {\"gridcolor\": \"white\", \"linecolor\": \"white\", \"ticks\": \"\"}}, \"scene\": {\"xaxis\": {\"backgroundcolor\": \"#E5ECF6\", \"gridcolor\": \"white\", \"gridwidth\": 2, \"linecolor\": \"white\", \"showbackground\": true, \"ticks\": \"\", \"zerolinecolor\": \"white\"}, \"yaxis\": {\"backgroundcolor\": \"#E5ECF6\", \"gridcolor\": \"white\", \"gridwidth\": 2, \"linecolor\": \"white\", \"showbackground\": true, \"ticks\": \"\", \"zerolinecolor\": \"white\"}, \"zaxis\": {\"backgroundcolor\": \"#E5ECF6\", \"gridcolor\": \"white\", \"gridwidth\": 2, \"linecolor\": \"white\", \"showbackground\": true, \"ticks\": \"\", \"zerolinecolor\": \"white\"}}, \"shapedefaults\": {\"line\": {\"color\": \"#2a3f5f\"}}, \"ternary\": {\"aaxis\": {\"gridcolor\": \"white\", \"linecolor\": \"white\", \"ticks\": \"\"}, \"baxis\": {\"gridcolor\": \"white\", \"linecolor\": \"white\", \"ticks\": \"\"}, \"bgcolor\": \"#E5ECF6\", \"caxis\": {\"gridcolor\": \"white\", \"linecolor\": \"white\", \"ticks\": \"\"}}, \"title\": {\"x\": 0.05}, \"xaxis\": {\"automargin\": true, \"gridcolor\": \"white\", \"linecolor\": \"white\", \"ticks\": \"\", \"title\": {\"standoff\": 15}, \"zerolinecolor\": \"white\", \"zerolinewidth\": 2}, \"yaxis\": {\"automargin\": true, \"gridcolor\": \"white\", \"linecolor\": \"white\", \"ticks\": \"\", \"title\": {\"standoff\": 15}, \"zerolinecolor\": \"white\", \"zerolinewidth\": 2}}}, \"title\": {\"text\": \"2016 Mortality Rate\"}},                        {\"responsive\": true}                    ).then(function(){\n",
       "                            \n",
       "var gd = document.getElementById('e347150e-d468-4cd0-804e-155401f16bfe');\n",
       "var x = new MutationObserver(function (mutations, observer) {{\n",
       "        var display = window.getComputedStyle(gd).display;\n",
       "        if (!display || display === 'none') {{\n",
       "            console.log([gd, 'removed!']);\n",
       "            Plotly.purge(gd);\n",
       "            observer.disconnect();\n",
       "        }}\n",
       "}});\n",
       "\n",
       "// Listen for the removal of the full notebook cells\n",
       "var notebookContainer = gd.closest('#notebook-container');\n",
       "if (notebookContainer) {{\n",
       "    x.observe(notebookContainer, {childList: true});\n",
       "}}\n",
       "\n",
       "// Listen for the clearing of the current output cell\n",
       "var outputEl = gd.closest('.output');\n",
       "if (outputEl) {{\n",
       "    x.observe(outputEl, {childList: true});\n",
       "}}\n",
       "\n",
       "                        })                };                });            </script>        </div>"
      ]
     },
     "metadata": {},
     "output_type": "display_data"
    }
   ],
   "source": [
    "iplot(choromap_mortality)"
   ]
  },
  {
   "cell_type": "code",
   "execution_count": 53,
   "id": "framed-graphics",
   "metadata": {},
   "outputs": [],
   "source": [
    "data_life = dict(type = 'choropleth',\n",
    "            locations = df['Codes'],\n",
    "            z = df['Life_expectancy'],\n",
    "            text = df['country'],\n",
    "            colorbar = {'title': 'Life Expectancy at Birth'},\n",
    "           colorscale='Blues')"
   ]
  },
  {
   "cell_type": "code",
   "execution_count": 54,
   "id": "widespread-fountain",
   "metadata": {},
   "outputs": [],
   "source": [
    "layout_life = dict(title = '2016 Life Expectancy',\n",
    "             geo = dict(showframe = False,\n",
    "                       projection = {'type':'natural earth'}))"
   ]
  },
  {
   "cell_type": "code",
   "execution_count": 55,
   "id": "refined-lyric",
   "metadata": {},
   "outputs": [],
   "source": [
    "choromap_life = go.Figure(data = [data_life], layout = layout_life)"
   ]
  },
  {
   "cell_type": "code",
   "execution_count": 60,
   "id": "recovered-argentina",
   "metadata": {
    "scrolled": true
   },
   "outputs": [
    {
     "data": {
      "application/vnd.plotly.v1+json": {
       "config": {
        "linkText": "Export to plotly.com",
        "plotlyServerURL": "https://plotly.com",
        "showLink": false
       },
       "data": [
        {
         "colorbar": {
          "title": {
           "text": "Life Expectancy at Birth"
          }
         },
         "colorscale": [
          [
           0,
           "rgb(247,251,255)"
          ],
          [
           0.125,
           "rgb(222,235,247)"
          ],
          [
           0.25,
           "rgb(198,219,239)"
          ],
          [
           0.375,
           "rgb(158,202,225)"
          ],
          [
           0.5,
           "rgb(107,174,214)"
          ],
          [
           0.625,
           "rgb(66,146,198)"
          ],
          [
           0.75,
           "rgb(33,113,181)"
          ],
          [
           0.875,
           "rgb(8,81,156)"
          ],
          [
           1,
           "rgb(8,48,107)"
          ]
         ],
         "locations": [
          "AFG",
          "ALB",
          "DZA",
          "AGO",
          "ATG",
          "Arab World",
          "ARG",
          "ARM",
          "AUS",
          "AUT",
          "AZE",
          "BHM",
          "BHR",
          "BGD",
          "BRB",
          "BLR",
          "BEL",
          "BLZ",
          "BEN",
          "BTN",
          "BOL",
          "BIH",
          "BWA",
          "BRA",
          "BRN",
          "BGR",
          "BFA",
          "BDI",
          "CPV",
          "KHM",
          "CMR",
          "CAN",
          "Caribbean small states",
          "CAF",
          "Central Europe and the Baltics",
          "TCD",
          "CHL",
          "CHN",
          "COL",
          "COM",
          "COD",
          "COG",
          "CRI",
          "CIV",
          "HRV",
          "CUB",
          "CYP",
          "CZE",
          "DNK",
          "DJI",
          "DOM",
          "Early-demographic dividend",
          "East Asia & Pacific",
          "East Asia & Pacific (IDA & IBRD countries)",
          "East Asia & Pacific (excluding high income)",
          "ECU",
          "EGY",
          "SLV",
          "GNQ",
          "EST",
          "SWZ",
          "ETH",
          "Euro area",
          "Europe & Central Asia",
          "Europe & Central Asia (IDA & IBRD countries)",
          "Europe & Central Asia (excluding high income)",
          "European Union",
          "FJI",
          "FIN",
          "Fragile and conflict affected situations",
          "FRA",
          "GAB",
          "GMB",
          "GEO",
          "DEU",
          "GHA",
          "GRC",
          "GRD",
          "GTM",
          "GIN",
          "GNB",
          "GUY",
          "HTI",
          "Heavily indebted poor countries (HIPC)",
          "High income",
          "HND",
          "HUN",
          "ISL",
          "IND",
          "IDN",
          "IRN",
          "IRQ",
          "IRL",
          "ISR",
          "ITA",
          "JAM",
          "JPN",
          "JOR",
          "KAZ",
          "KEN",
          "KIR",
          "PRK",
          "KWT",
          "KGZ",
          "LAO",
          "Late-demographic dividend",
          "Latin America & Caribbean",
          "Latin America & Caribbean (excluding high income)",
          "Latin America & the Caribbean (IDA & IBRD countries)",
          "LVA",
          "Least developed countries: UN classification",
          "LBN",
          "LSO",
          "LBR",
          "LTU",
          "Low & middle income",
          "Low income",
          "Lower middle income",
          "LUX",
          "MDG",
          "MWI",
          "MYS",
          "MDV",
          "MLI",
          "MLT",
          "MRT",
          "MUS",
          "MEX",
          "FSM",
          "Middle East & North Africa",
          "Middle East & North Africa (IDA & IBRD countries)",
          "Middle East & North Africa (excluding high income)",
          "Middle income",
          "MDA",
          "MNG",
          "MAR",
          "MOZ",
          "MMR",
          "NAM",
          "NPL",
          "NLD",
          "NZL",
          "NIC",
          "NER",
          "NGA",
          "North America",
          "MKD",
          "NOR",
          "OECD members",
          "OMN",
          "Other small states",
          "Pacific island small states",
          "PAK",
          "PAN",
          "PNG",
          "PRY",
          "PER",
          "PHL",
          "POL",
          "PRT",
          "Post-demographic dividend",
          "Pre-demographic dividend",
          "QAT",
          "ROU",
          "RUS",
          "RWA",
          "WSM",
          "STP",
          "SAU",
          "SEN",
          "SRB",
          "SYC",
          "SLE",
          "SGP",
          "SVK",
          "SVN",
          "Small states",
          "SLB",
          "ZAF",
          "South Asia",
          "South Asia (IDA & IBRD)",
          "ESP",
          "LKA",
          "LCA",
          "VCT",
          "Sub-Saharan Africa",
          "Sub-Saharan Africa (IDA & IBRD countries)",
          "Sub-Saharan Africa (excluding high income)",
          "SUR",
          "SWE",
          "CHE",
          "TJK",
          "TZA",
          "THA",
          "TLS",
          "TGO",
          "TON",
          "TTO",
          "TUN",
          "TUR",
          "TKM",
          "UGA",
          "UKR",
          "ARE",
          "GBR",
          "USA",
          "Upper middle income",
          "URY",
          "UZB",
          "VUT",
          "VNM",
          "World",
          "ZMB",
          "ZWE"
         ],
         "text": [
          "Afghanistan",
          "Albania",
          "Algeria",
          "Angola",
          "Antigua and Barbuda",
          "Arab World",
          "Argentina",
          "Armenia",
          "Australia",
          "Austria",
          "Azerbaijan",
          "Bahamas, The",
          "Bahrain",
          "Bangladesh",
          "Barbados",
          "Belarus",
          "Belgium",
          "Belize",
          "Benin",
          "Bhutan",
          "Bolivia",
          "Bosnia and Herzegovina",
          "Botswana",
          "Brazil",
          "Brunei Darussalam",
          "Bulgaria",
          "Burkina Faso",
          "Burundi",
          "Cabo Verde",
          "Cambodia",
          "Cameroon",
          "Canada",
          "Caribbean small states",
          "Central African Republic",
          "Central Europe and the Baltics",
          "Chad",
          "Chile",
          "China",
          "Colombia",
          "Comoros",
          "Congo, Dem. Rep.",
          "Congo, Rep.",
          "Costa Rica",
          "Cote d'Ivoire",
          "Croatia",
          "Cuba",
          "Cyprus",
          "Czech Republic",
          "Denmark",
          "Djibouti",
          "Dominican Republic",
          "Early-demographic dividend",
          "East Asia & Pacific",
          "East Asia & Pacific (IDA & IBRD countries)",
          "East Asia & Pacific (excluding high income)",
          "Ecuador",
          "Egypt, Arab Rep.",
          "El Salvador",
          "Equatorial Guinea",
          "Estonia",
          "Eswatini",
          "Ethiopia",
          "Euro area",
          "Europe & Central Asia",
          "Europe & Central Asia (IDA & IBRD countries)",
          "Europe & Central Asia (excluding high income)",
          "European Union",
          "Fiji",
          "Finland",
          "Fragile and conflict affected situations",
          "France",
          "Gabon",
          "Gambia, The",
          "Georgia",
          "Germany",
          "Ghana",
          "Greece",
          "Grenada",
          "Guatemala",
          "Guinea",
          "Guinea-Bissau",
          "Guyana",
          "Haiti",
          "Heavily indebted poor countries (HIPC)",
          "High income",
          "Honduras",
          "Hungary",
          "Iceland",
          "India",
          "Indonesia",
          "Iran, Islamic Rep.",
          "Iraq",
          "Ireland",
          "Israel",
          "Italy",
          "Jamaica",
          "Japan",
          "Jordan",
          "Kazakhstan",
          "Kenya",
          "Kiribati",
          "Korea, Rep.",
          "Kuwait",
          "Kyrgyz Republic",
          "Lao PDR",
          "Late-demographic dividend",
          "Latin America & Caribbean",
          "Latin America & Caribbean (excluding high income)",
          "Latin America & the Caribbean (IDA & IBRD countries)",
          "Latvia",
          "Least developed countries: UN classification",
          "Lebanon",
          "Lesotho",
          "Liberia",
          "Lithuania",
          "Low & middle income",
          "Low income",
          "Lower middle income",
          "Luxembourg",
          "Madagascar",
          "Malawi",
          "Malaysia",
          "Maldives",
          "Mali",
          "Malta",
          "Mauritania",
          "Mauritius",
          "Mexico",
          "Micronesia, Fed. Sts.",
          "Middle East & North Africa",
          "Middle East & North Africa (IDA & IBRD countries)",
          "Middle East & North Africa (excluding high income)",
          "Middle income",
          "Moldova",
          "Mongolia",
          "Morocco",
          "Mozambique",
          "Myanmar",
          "Namibia",
          "Nepal",
          "Netherlands",
          "New Zealand",
          "Nicaragua",
          "Niger",
          "Nigeria",
          "North America",
          "North Macedonia",
          "Norway",
          "OECD members",
          "Oman",
          "Other small states",
          "Pacific island small states",
          "Pakistan",
          "Panama",
          "Papua New Guinea",
          "Paraguay",
          "Peru",
          "Philippines",
          "Poland",
          "Portugal",
          "Post-demographic dividend",
          "Pre-demographic dividend",
          "Qatar",
          "Romania",
          "Russian Federation",
          "Rwanda",
          "Samoa",
          "Sao Tome and Principe",
          "Saudi Arabia",
          "Senegal",
          "Serbia",
          "Seychelles",
          "Sierra Leone",
          "Singapore",
          "Slovak Republic",
          "Slovenia",
          "Small states",
          "Solomon Islands",
          "South Africa",
          "South Asia",
          "South Asia (IDA & IBRD)",
          "Spain",
          "Sri Lanka",
          "St. Lucia",
          "St. Vincent and the Grenadines",
          "Sub-Saharan Africa",
          "Sub-Saharan Africa (IDA & IBRD countries)",
          "Sub-Saharan Africa (excluding high income)",
          "Suriname",
          "Sweden",
          "Switzerland",
          "Tajikistan",
          "Tanzania",
          "Thailand",
          "Timor-Leste",
          "Togo",
          "Tonga",
          "Trinidad and Tobago",
          "Tunisia",
          "Turkey",
          "Turkmenistan",
          "Uganda",
          "Ukraine",
          "United Arab Emirates",
          "United Kingdom",
          "United States",
          "Upper middle income",
          "Uruguay",
          "Uzbekistan",
          "Vanuatu",
          "Vietnam",
          "World",
          "Zambia",
          "Zimbabwe"
         ],
         "type": "choropleth",
         "z": [
          63.763,
          78.194,
          76.298,
          59.925,
          76.617,
          71.4364968537757,
          76.221,
          74.64,
          82.4487804878049,
          81.6414634146342,
          72.493,
          73.329,
          76.899,
          71.785,
          78.888,
          73.8268292682927,
          81.4390243902439,
          74.219,
          60.885,
          70.781,
          70.626,
          76.998,
          68.178,
          75.23,
          75.45,
          74.8121951219512,
          60.354,
          60.528,
          72.347,
          68.977,
          58.063,
          81.9,
          73.3959578186313,
          51.593,
          76.9698114171911,
          53.438,
          79.779,
          76.21,
          76.732,
          63.7,
          59.655,
          63.556,
          79.738,
          56.567,
          78.0219512195122,
          78.607,
          80.513,
          79.0268292682927,
          80.8536585365854,
          65.064,
          73.471,
          70.0112147340829,
          75.6355916349028,
          74.7936145719037,
          74.7556141751153,
          76.365,
          71.482,
          72.644,
          57.713,
          77.6414634146342,
          56.962,
          65.482,
          81.9545453308911,
          77.5955402337865,
          73.5074038507613,
          72.9542430453156,
          80.9498646440156,
          67.175,
          81.4292682926829,
          60.8888556882473,
          82.5731707317073,
          65.418,
          61.166,
          73.207,
          80.990243902439,
          63.124,
          81.3878048780488,
          72.408,
          73.541,
          60.17,
          57.328,
          69.454,
          62.896,
          62.3232892974951,
          80.5408511328272,
          74.701,
          76.0634146341464,
          82.2048780487805,
          68.897,
          71.035,
          76.047,
          70.122,
          81.6536585365854,
          82.4073170731707,
          83.2439024390244,
          74.175,
          83.9848780487805,
          74.184,
          72.41,
          65.393,
          67.577,
          82.2756097560976,
          75.224,
          70.9512195121951,
          66.924,
          75.74643479024,
          75.1220453188862,
          74.9237930776766,
          75.0305805363335,
          74.580487804878,
          64.3457714393416,
          78.8,
          52.059,
          62.802,
          74.6707317073171,
          70.5393797482832,
          62.7586367116496,
          67.9371208615977,
          82.6853658536585,
          65.931,
          62.681,
          75.649,
          78.013,
          57.987,
          82.4536585365854,
          64.208,
          74.3948780487805,
          74.917,
          67.471,
          73.7108202619547,
          73.1935470729551,
          73.1982110954199,
          71.4012397079535,
          71.617,
          69.321,
          75.974,
          58.309,
          66.205,
          62.625,
          69.848,
          81.5609756097561,
          81.6124390243903,
          73.86,
          61.137,
          53.541,
          78.8774577897405,
          75.498,
          82.4073170731707,
          79.961264716336,
          77.142,
          67.83562940085,
          69.6137419308888,
          66.77,
          77.964,
          63.744,
          73.836,
          76.044,
          70.802,
          77.8512195121951,
          81.1243902439025,
          80.5492413273199,
          59.9919371242937,
          79.868,
          75.209756097561,
          71.6512195121951,
          67.93,
          72.895,
          69.67,
          74.761,
          67.078,
          75.6878048780488,
          74.309756097561,
          53.444,
          82.8463414634146,
          77.1658536585366,
          81.1756097560976,
          68.9604624233804,
          72.424,
          63.153,
          68.9161514390397,
          68.9161514390397,
          83.3292682926829,
          76.482,
          75.752,
          72.193,
          60.4423979284526,
          60.4423979284526,
          60.4238491485952,
          71.358,
          82.3073170731707,
          83.6024390243903,
          70.397,
          63.844,
          76.403,
          68.735,
          60.22,
          70.607,
          73.1,
          76.115,
          76.86,
          67.835,
          61.986,
          71.4763414634146,
          77.47,
          81.1560975609756,
          78.5390243902439,
          74.8591314348358,
          77.498,
          71.171,
          70.021,
          75.172,
          72.1810662860212,
          62.464,
          60.294
         ]
        }
       ],
       "layout": {
        "geo": {
         "projection": {
          "type": "natural earth"
         },
         "showframe": false
        },
        "template": {
         "data": {
          "bar": [
           {
            "error_x": {
             "color": "#2a3f5f"
            },
            "error_y": {
             "color": "#2a3f5f"
            },
            "marker": {
             "line": {
              "color": "#E5ECF6",
              "width": 0.5
             }
            },
            "type": "bar"
           }
          ],
          "barpolar": [
           {
            "marker": {
             "line": {
              "color": "#E5ECF6",
              "width": 0.5
             }
            },
            "type": "barpolar"
           }
          ],
          "carpet": [
           {
            "aaxis": {
             "endlinecolor": "#2a3f5f",
             "gridcolor": "white",
             "linecolor": "white",
             "minorgridcolor": "white",
             "startlinecolor": "#2a3f5f"
            },
            "baxis": {
             "endlinecolor": "#2a3f5f",
             "gridcolor": "white",
             "linecolor": "white",
             "minorgridcolor": "white",
             "startlinecolor": "#2a3f5f"
            },
            "type": "carpet"
           }
          ],
          "choropleth": [
           {
            "colorbar": {
             "outlinewidth": 0,
             "ticks": ""
            },
            "type": "choropleth"
           }
          ],
          "contour": [
           {
            "colorbar": {
             "outlinewidth": 0,
             "ticks": ""
            },
            "colorscale": [
             [
              0,
              "#0d0887"
             ],
             [
              0.1111111111111111,
              "#46039f"
             ],
             [
              0.2222222222222222,
              "#7201a8"
             ],
             [
              0.3333333333333333,
              "#9c179e"
             ],
             [
              0.4444444444444444,
              "#bd3786"
             ],
             [
              0.5555555555555556,
              "#d8576b"
             ],
             [
              0.6666666666666666,
              "#ed7953"
             ],
             [
              0.7777777777777778,
              "#fb9f3a"
             ],
             [
              0.8888888888888888,
              "#fdca26"
             ],
             [
              1,
              "#f0f921"
             ]
            ],
            "type": "contour"
           }
          ],
          "contourcarpet": [
           {
            "colorbar": {
             "outlinewidth": 0,
             "ticks": ""
            },
            "type": "contourcarpet"
           }
          ],
          "heatmap": [
           {
            "colorbar": {
             "outlinewidth": 0,
             "ticks": ""
            },
            "colorscale": [
             [
              0,
              "#0d0887"
             ],
             [
              0.1111111111111111,
              "#46039f"
             ],
             [
              0.2222222222222222,
              "#7201a8"
             ],
             [
              0.3333333333333333,
              "#9c179e"
             ],
             [
              0.4444444444444444,
              "#bd3786"
             ],
             [
              0.5555555555555556,
              "#d8576b"
             ],
             [
              0.6666666666666666,
              "#ed7953"
             ],
             [
              0.7777777777777778,
              "#fb9f3a"
             ],
             [
              0.8888888888888888,
              "#fdca26"
             ],
             [
              1,
              "#f0f921"
             ]
            ],
            "type": "heatmap"
           }
          ],
          "heatmapgl": [
           {
            "colorbar": {
             "outlinewidth": 0,
             "ticks": ""
            },
            "colorscale": [
             [
              0,
              "#0d0887"
             ],
             [
              0.1111111111111111,
              "#46039f"
             ],
             [
              0.2222222222222222,
              "#7201a8"
             ],
             [
              0.3333333333333333,
              "#9c179e"
             ],
             [
              0.4444444444444444,
              "#bd3786"
             ],
             [
              0.5555555555555556,
              "#d8576b"
             ],
             [
              0.6666666666666666,
              "#ed7953"
             ],
             [
              0.7777777777777778,
              "#fb9f3a"
             ],
             [
              0.8888888888888888,
              "#fdca26"
             ],
             [
              1,
              "#f0f921"
             ]
            ],
            "type": "heatmapgl"
           }
          ],
          "histogram": [
           {
            "marker": {
             "colorbar": {
              "outlinewidth": 0,
              "ticks": ""
             }
            },
            "type": "histogram"
           }
          ],
          "histogram2d": [
           {
            "colorbar": {
             "outlinewidth": 0,
             "ticks": ""
            },
            "colorscale": [
             [
              0,
              "#0d0887"
             ],
             [
              0.1111111111111111,
              "#46039f"
             ],
             [
              0.2222222222222222,
              "#7201a8"
             ],
             [
              0.3333333333333333,
              "#9c179e"
             ],
             [
              0.4444444444444444,
              "#bd3786"
             ],
             [
              0.5555555555555556,
              "#d8576b"
             ],
             [
              0.6666666666666666,
              "#ed7953"
             ],
             [
              0.7777777777777778,
              "#fb9f3a"
             ],
             [
              0.8888888888888888,
              "#fdca26"
             ],
             [
              1,
              "#f0f921"
             ]
            ],
            "type": "histogram2d"
           }
          ],
          "histogram2dcontour": [
           {
            "colorbar": {
             "outlinewidth": 0,
             "ticks": ""
            },
            "colorscale": [
             [
              0,
              "#0d0887"
             ],
             [
              0.1111111111111111,
              "#46039f"
             ],
             [
              0.2222222222222222,
              "#7201a8"
             ],
             [
              0.3333333333333333,
              "#9c179e"
             ],
             [
              0.4444444444444444,
              "#bd3786"
             ],
             [
              0.5555555555555556,
              "#d8576b"
             ],
             [
              0.6666666666666666,
              "#ed7953"
             ],
             [
              0.7777777777777778,
              "#fb9f3a"
             ],
             [
              0.8888888888888888,
              "#fdca26"
             ],
             [
              1,
              "#f0f921"
             ]
            ],
            "type": "histogram2dcontour"
           }
          ],
          "mesh3d": [
           {
            "colorbar": {
             "outlinewidth": 0,
             "ticks": ""
            },
            "type": "mesh3d"
           }
          ],
          "parcoords": [
           {
            "line": {
             "colorbar": {
              "outlinewidth": 0,
              "ticks": ""
             }
            },
            "type": "parcoords"
           }
          ],
          "pie": [
           {
            "automargin": true,
            "type": "pie"
           }
          ],
          "scatter": [
           {
            "marker": {
             "colorbar": {
              "outlinewidth": 0,
              "ticks": ""
             }
            },
            "type": "scatter"
           }
          ],
          "scatter3d": [
           {
            "line": {
             "colorbar": {
              "outlinewidth": 0,
              "ticks": ""
             }
            },
            "marker": {
             "colorbar": {
              "outlinewidth": 0,
              "ticks": ""
             }
            },
            "type": "scatter3d"
           }
          ],
          "scattercarpet": [
           {
            "marker": {
             "colorbar": {
              "outlinewidth": 0,
              "ticks": ""
             }
            },
            "type": "scattercarpet"
           }
          ],
          "scattergeo": [
           {
            "marker": {
             "colorbar": {
              "outlinewidth": 0,
              "ticks": ""
             }
            },
            "type": "scattergeo"
           }
          ],
          "scattergl": [
           {
            "marker": {
             "colorbar": {
              "outlinewidth": 0,
              "ticks": ""
             }
            },
            "type": "scattergl"
           }
          ],
          "scattermapbox": [
           {
            "marker": {
             "colorbar": {
              "outlinewidth": 0,
              "ticks": ""
             }
            },
            "type": "scattermapbox"
           }
          ],
          "scatterpolar": [
           {
            "marker": {
             "colorbar": {
              "outlinewidth": 0,
              "ticks": ""
             }
            },
            "type": "scatterpolar"
           }
          ],
          "scatterpolargl": [
           {
            "marker": {
             "colorbar": {
              "outlinewidth": 0,
              "ticks": ""
             }
            },
            "type": "scatterpolargl"
           }
          ],
          "scatterternary": [
           {
            "marker": {
             "colorbar": {
              "outlinewidth": 0,
              "ticks": ""
             }
            },
            "type": "scatterternary"
           }
          ],
          "surface": [
           {
            "colorbar": {
             "outlinewidth": 0,
             "ticks": ""
            },
            "colorscale": [
             [
              0,
              "#0d0887"
             ],
             [
              0.1111111111111111,
              "#46039f"
             ],
             [
              0.2222222222222222,
              "#7201a8"
             ],
             [
              0.3333333333333333,
              "#9c179e"
             ],
             [
              0.4444444444444444,
              "#bd3786"
             ],
             [
              0.5555555555555556,
              "#d8576b"
             ],
             [
              0.6666666666666666,
              "#ed7953"
             ],
             [
              0.7777777777777778,
              "#fb9f3a"
             ],
             [
              0.8888888888888888,
              "#fdca26"
             ],
             [
              1,
              "#f0f921"
             ]
            ],
            "type": "surface"
           }
          ],
          "table": [
           {
            "cells": {
             "fill": {
              "color": "#EBF0F8"
             },
             "line": {
              "color": "white"
             }
            },
            "header": {
             "fill": {
              "color": "#C8D4E3"
             },
             "line": {
              "color": "white"
             }
            },
            "type": "table"
           }
          ]
         },
         "layout": {
          "annotationdefaults": {
           "arrowcolor": "#2a3f5f",
           "arrowhead": 0,
           "arrowwidth": 1
          },
          "autotypenumbers": "strict",
          "coloraxis": {
           "colorbar": {
            "outlinewidth": 0,
            "ticks": ""
           }
          },
          "colorscale": {
           "diverging": [
            [
             0,
             "#8e0152"
            ],
            [
             0.1,
             "#c51b7d"
            ],
            [
             0.2,
             "#de77ae"
            ],
            [
             0.3,
             "#f1b6da"
            ],
            [
             0.4,
             "#fde0ef"
            ],
            [
             0.5,
             "#f7f7f7"
            ],
            [
             0.6,
             "#e6f5d0"
            ],
            [
             0.7,
             "#b8e186"
            ],
            [
             0.8,
             "#7fbc41"
            ],
            [
             0.9,
             "#4d9221"
            ],
            [
             1,
             "#276419"
            ]
           ],
           "sequential": [
            [
             0,
             "#0d0887"
            ],
            [
             0.1111111111111111,
             "#46039f"
            ],
            [
             0.2222222222222222,
             "#7201a8"
            ],
            [
             0.3333333333333333,
             "#9c179e"
            ],
            [
             0.4444444444444444,
             "#bd3786"
            ],
            [
             0.5555555555555556,
             "#d8576b"
            ],
            [
             0.6666666666666666,
             "#ed7953"
            ],
            [
             0.7777777777777778,
             "#fb9f3a"
            ],
            [
             0.8888888888888888,
             "#fdca26"
            ],
            [
             1,
             "#f0f921"
            ]
           ],
           "sequentialminus": [
            [
             0,
             "#0d0887"
            ],
            [
             0.1111111111111111,
             "#46039f"
            ],
            [
             0.2222222222222222,
             "#7201a8"
            ],
            [
             0.3333333333333333,
             "#9c179e"
            ],
            [
             0.4444444444444444,
             "#bd3786"
            ],
            [
             0.5555555555555556,
             "#d8576b"
            ],
            [
             0.6666666666666666,
             "#ed7953"
            ],
            [
             0.7777777777777778,
             "#fb9f3a"
            ],
            [
             0.8888888888888888,
             "#fdca26"
            ],
            [
             1,
             "#f0f921"
            ]
           ]
          },
          "colorway": [
           "#636efa",
           "#EF553B",
           "#00cc96",
           "#ab63fa",
           "#FFA15A",
           "#19d3f3",
           "#FF6692",
           "#B6E880",
           "#FF97FF",
           "#FECB52"
          ],
          "font": {
           "color": "#2a3f5f"
          },
          "geo": {
           "bgcolor": "white",
           "lakecolor": "white",
           "landcolor": "#E5ECF6",
           "showlakes": true,
           "showland": true,
           "subunitcolor": "white"
          },
          "hoverlabel": {
           "align": "left"
          },
          "hovermode": "closest",
          "mapbox": {
           "style": "light"
          },
          "paper_bgcolor": "white",
          "plot_bgcolor": "#E5ECF6",
          "polar": {
           "angularaxis": {
            "gridcolor": "white",
            "linecolor": "white",
            "ticks": ""
           },
           "bgcolor": "#E5ECF6",
           "radialaxis": {
            "gridcolor": "white",
            "linecolor": "white",
            "ticks": ""
           }
          },
          "scene": {
           "xaxis": {
            "backgroundcolor": "#E5ECF6",
            "gridcolor": "white",
            "gridwidth": 2,
            "linecolor": "white",
            "showbackground": true,
            "ticks": "",
            "zerolinecolor": "white"
           },
           "yaxis": {
            "backgroundcolor": "#E5ECF6",
            "gridcolor": "white",
            "gridwidth": 2,
            "linecolor": "white",
            "showbackground": true,
            "ticks": "",
            "zerolinecolor": "white"
           },
           "zaxis": {
            "backgroundcolor": "#E5ECF6",
            "gridcolor": "white",
            "gridwidth": 2,
            "linecolor": "white",
            "showbackground": true,
            "ticks": "",
            "zerolinecolor": "white"
           }
          },
          "shapedefaults": {
           "line": {
            "color": "#2a3f5f"
           }
          },
          "ternary": {
           "aaxis": {
            "gridcolor": "white",
            "linecolor": "white",
            "ticks": ""
           },
           "baxis": {
            "gridcolor": "white",
            "linecolor": "white",
            "ticks": ""
           },
           "bgcolor": "#E5ECF6",
           "caxis": {
            "gridcolor": "white",
            "linecolor": "white",
            "ticks": ""
           }
          },
          "title": {
           "x": 0.05
          },
          "xaxis": {
           "automargin": true,
           "gridcolor": "white",
           "linecolor": "white",
           "ticks": "",
           "title": {
            "standoff": 15
           },
           "zerolinecolor": "white",
           "zerolinewidth": 2
          },
          "yaxis": {
           "automargin": true,
           "gridcolor": "white",
           "linecolor": "white",
           "ticks": "",
           "title": {
            "standoff": 15
           },
           "zerolinecolor": "white",
           "zerolinewidth": 2
          }
         }
        },
        "title": {
         "text": "2016 Life Expectancy"
        }
       }
      },
      "text/html": [
       "<div>                            <div id=\"29be9c36-d241-46f2-9550-0ae39bac5af5\" class=\"plotly-graph-div\" style=\"height:525px; width:100%;\"></div>            <script type=\"text/javascript\">                require([\"plotly\"], function(Plotly) {                    window.PLOTLYENV=window.PLOTLYENV || {};                                    if (document.getElementById(\"29be9c36-d241-46f2-9550-0ae39bac5af5\")) {                    Plotly.newPlot(                        \"29be9c36-d241-46f2-9550-0ae39bac5af5\",                        [{\"colorbar\": {\"title\": {\"text\": \"Life Expectancy at Birth\"}}, \"colorscale\": [[0.0, \"rgb(247,251,255)\"], [0.125, \"rgb(222,235,247)\"], [0.25, \"rgb(198,219,239)\"], [0.375, \"rgb(158,202,225)\"], [0.5, \"rgb(107,174,214)\"], [0.625, \"rgb(66,146,198)\"], [0.75, \"rgb(33,113,181)\"], [0.875, \"rgb(8,81,156)\"], [1.0, \"rgb(8,48,107)\"]], \"locations\": [\"AFG\", \"ALB\", \"DZA\", \"AGO\", \"ATG\", \"Arab World\", \"ARG\", \"ARM\", \"AUS\", \"AUT\", \"AZE\", \"BHM\", \"BHR\", \"BGD\", \"BRB\", \"BLR\", \"BEL\", \"BLZ\", \"BEN\", \"BTN\", \"BOL\", \"BIH\", \"BWA\", \"BRA\", \"BRN\", \"BGR\", \"BFA\", \"BDI\", \"CPV\", \"KHM\", \"CMR\", \"CAN\", \"Caribbean small states\", \"CAF\", \"Central Europe and the Baltics\", \"TCD\", \"CHL\", \"CHN\", \"COL\", \"COM\", \"COD\", \"COG\", \"CRI\", \"CIV\", \"HRV\", \"CUB\", \"CYP\", \"CZE\", \"DNK\", \"DJI\", \"DOM\", \"Early-demographic dividend\", \"East Asia & Pacific\", \"East Asia & Pacific (IDA & IBRD countries)\", \"East Asia & Pacific (excluding high income)\", \"ECU\", \"EGY\", \"SLV\", \"GNQ\", \"EST\", \"SWZ\", \"ETH\", \"Euro area\", \"Europe & Central Asia\", \"Europe & Central Asia (IDA & IBRD countries)\", \"Europe & Central Asia (excluding high income)\", \"European Union\", \"FJI\", \"FIN\", \"Fragile and conflict affected situations\", \"FRA\", \"GAB\", \"GMB\", \"GEO\", \"DEU\", \"GHA\", \"GRC\", \"GRD\", \"GTM\", \"GIN\", \"GNB\", \"GUY\", \"HTI\", \"Heavily indebted poor countries (HIPC)\", \"High income\", \"HND\", \"HUN\", \"ISL\", \"IND\", \"IDN\", \"IRN\", \"IRQ\", \"IRL\", \"ISR\", \"ITA\", \"JAM\", \"JPN\", \"JOR\", \"KAZ\", \"KEN\", \"KIR\", \"PRK\", \"KWT\", \"KGZ\", \"LAO\", \"Late-demographic dividend\", \"Latin America & Caribbean\", \"Latin America & Caribbean (excluding high income)\", \"Latin America & the Caribbean (IDA & IBRD countries)\", \"LVA\", \"Least developed countries: UN classification\", \"LBN\", \"LSO\", \"LBR\", \"LTU\", \"Low & middle income\", \"Low income\", \"Lower middle income\", \"LUX\", \"MDG\", \"MWI\", \"MYS\", \"MDV\", \"MLI\", \"MLT\", \"MRT\", \"MUS\", \"MEX\", \"FSM\", \"Middle East & North Africa\", \"Middle East & North Africa (IDA & IBRD countries)\", \"Middle East & North Africa (excluding high income)\", \"Middle income\", \"MDA\", \"MNG\", \"MAR\", \"MOZ\", \"MMR\", \"NAM\", \"NPL\", \"NLD\", \"NZL\", \"NIC\", \"NER\", \"NGA\", \"North America\", \"MKD\", \"NOR\", \"OECD members\", \"OMN\", \"Other small states\", \"Pacific island small states\", \"PAK\", \"PAN\", \"PNG\", \"PRY\", \"PER\", \"PHL\", \"POL\", \"PRT\", \"Post-demographic dividend\", \"Pre-demographic dividend\", \"QAT\", \"ROU\", \"RUS\", \"RWA\", \"WSM\", \"STP\", \"SAU\", \"SEN\", \"SRB\", \"SYC\", \"SLE\", \"SGP\", \"SVK\", \"SVN\", \"Small states\", \"SLB\", \"ZAF\", \"South Asia\", \"South Asia (IDA & IBRD)\", \"ESP\", \"LKA\", \"LCA\", \"VCT\", \"Sub-Saharan Africa\", \"Sub-Saharan Africa (IDA & IBRD countries)\", \"Sub-Saharan Africa (excluding high income)\", \"SUR\", \"SWE\", \"CHE\", \"TJK\", \"TZA\", \"THA\", \"TLS\", \"TGO\", \"TON\", \"TTO\", \"TUN\", \"TUR\", \"TKM\", \"UGA\", \"UKR\", \"ARE\", \"GBR\", \"USA\", \"Upper middle income\", \"URY\", \"UZB\", \"VUT\", \"VNM\", \"World\", \"ZMB\", \"ZWE\"], \"text\": [\"Afghanistan\", \"Albania\", \"Algeria\", \"Angola\", \"Antigua and Barbuda\", \"Arab World\", \"Argentina\", \"Armenia\", \"Australia\", \"Austria\", \"Azerbaijan\", \"Bahamas, The\", \"Bahrain\", \"Bangladesh\", \"Barbados\", \"Belarus\", \"Belgium\", \"Belize\", \"Benin\", \"Bhutan\", \"Bolivia\", \"Bosnia and Herzegovina\", \"Botswana\", \"Brazil\", \"Brunei Darussalam\", \"Bulgaria\", \"Burkina Faso\", \"Burundi\", \"Cabo Verde\", \"Cambodia\", \"Cameroon\", \"Canada\", \"Caribbean small states\", \"Central African Republic\", \"Central Europe and the Baltics\", \"Chad\", \"Chile\", \"China\", \"Colombia\", \"Comoros\", \"Congo, Dem. Rep.\", \"Congo, Rep.\", \"Costa Rica\", \"Cote d'Ivoire\", \"Croatia\", \"Cuba\", \"Cyprus\", \"Czech Republic\", \"Denmark\", \"Djibouti\", \"Dominican Republic\", \"Early-demographic dividend\", \"East Asia & Pacific\", \"East Asia & Pacific (IDA & IBRD countries)\", \"East Asia & Pacific (excluding high income)\", \"Ecuador\", \"Egypt, Arab Rep.\", \"El Salvador\", \"Equatorial Guinea\", \"Estonia\", \"Eswatini\", \"Ethiopia\", \"Euro area\", \"Europe & Central Asia\", \"Europe & Central Asia (IDA & IBRD countries)\", \"Europe & Central Asia (excluding high income)\", \"European Union\", \"Fiji\", \"Finland\", \"Fragile and conflict affected situations\", \"France\", \"Gabon\", \"Gambia, The\", \"Georgia\", \"Germany\", \"Ghana\", \"Greece\", \"Grenada\", \"Guatemala\", \"Guinea\", \"Guinea-Bissau\", \"Guyana\", \"Haiti\", \"Heavily indebted poor countries (HIPC)\", \"High income\", \"Honduras\", \"Hungary\", \"Iceland\", \"India\", \"Indonesia\", \"Iran, Islamic Rep.\", \"Iraq\", \"Ireland\", \"Israel\", \"Italy\", \"Jamaica\", \"Japan\", \"Jordan\", \"Kazakhstan\", \"Kenya\", \"Kiribati\", \"Korea, Rep.\", \"Kuwait\", \"Kyrgyz Republic\", \"Lao PDR\", \"Late-demographic dividend\", \"Latin America & Caribbean\", \"Latin America & Caribbean (excluding high income)\", \"Latin America & the Caribbean (IDA & IBRD countries)\", \"Latvia\", \"Least developed countries: UN classification\", \"Lebanon\", \"Lesotho\", \"Liberia\", \"Lithuania\", \"Low & middle income\", \"Low income\", \"Lower middle income\", \"Luxembourg\", \"Madagascar\", \"Malawi\", \"Malaysia\", \"Maldives\", \"Mali\", \"Malta\", \"Mauritania\", \"Mauritius\", \"Mexico\", \"Micronesia, Fed. Sts.\", \"Middle East & North Africa\", \"Middle East & North Africa (IDA & IBRD countries)\", \"Middle East & North Africa (excluding high income)\", \"Middle income\", \"Moldova\", \"Mongolia\", \"Morocco\", \"Mozambique\", \"Myanmar\", \"Namibia\", \"Nepal\", \"Netherlands\", \"New Zealand\", \"Nicaragua\", \"Niger\", \"Nigeria\", \"North America\", \"North Macedonia\", \"Norway\", \"OECD members\", \"Oman\", \"Other small states\", \"Pacific island small states\", \"Pakistan\", \"Panama\", \"Papua New Guinea\", \"Paraguay\", \"Peru\", \"Philippines\", \"Poland\", \"Portugal\", \"Post-demographic dividend\", \"Pre-demographic dividend\", \"Qatar\", \"Romania\", \"Russian Federation\", \"Rwanda\", \"Samoa\", \"Sao Tome and Principe\", \"Saudi Arabia\", \"Senegal\", \"Serbia\", \"Seychelles\", \"Sierra Leone\", \"Singapore\", \"Slovak Republic\", \"Slovenia\", \"Small states\", \"Solomon Islands\", \"South Africa\", \"South Asia\", \"South Asia (IDA & IBRD)\", \"Spain\", \"Sri Lanka\", \"St. Lucia\", \"St. Vincent and the Grenadines\", \"Sub-Saharan Africa\", \"Sub-Saharan Africa (IDA & IBRD countries)\", \"Sub-Saharan Africa (excluding high income)\", \"Suriname\", \"Sweden\", \"Switzerland\", \"Tajikistan\", \"Tanzania\", \"Thailand\", \"Timor-Leste\", \"Togo\", \"Tonga\", \"Trinidad and Tobago\", \"Tunisia\", \"Turkey\", \"Turkmenistan\", \"Uganda\", \"Ukraine\", \"United Arab Emirates\", \"United Kingdom\", \"United States\", \"Upper middle income\", \"Uruguay\", \"Uzbekistan\", \"Vanuatu\", \"Vietnam\", \"World\", \"Zambia\", \"Zimbabwe\"], \"type\": \"choropleth\", \"z\": [63.763, 78.194, 76.298, 59.925, 76.617, 71.4364968537757, 76.221, 74.64, 82.4487804878049, 81.6414634146342, 72.493, 73.329, 76.899, 71.785, 78.888, 73.8268292682927, 81.4390243902439, 74.219, 60.885, 70.781, 70.626, 76.998, 68.178, 75.23, 75.45, 74.8121951219512, 60.354, 60.528, 72.347, 68.977, 58.063, 81.9, 73.3959578186313, 51.593, 76.9698114171911, 53.438, 79.779, 76.21, 76.732, 63.7, 59.655, 63.556, 79.738, 56.567, 78.0219512195122, 78.607, 80.513, 79.0268292682927, 80.8536585365854, 65.064, 73.471, 70.0112147340829, 75.6355916349028, 74.7936145719037, 74.7556141751153, 76.365, 71.482, 72.644, 57.713, 77.6414634146342, 56.962, 65.482, 81.9545453308911, 77.5955402337865, 73.5074038507613, 72.9542430453156, 80.9498646440156, 67.175, 81.4292682926829, 60.8888556882473, 82.5731707317073, 65.418, 61.166, 73.207, 80.990243902439, 63.124, 81.3878048780488, 72.408, 73.541, 60.17, 57.328, 69.454, 62.896, 62.3232892974951, 80.5408511328272, 74.701, 76.0634146341464, 82.2048780487805, 68.897, 71.035, 76.047, 70.122, 81.6536585365854, 82.4073170731707, 83.2439024390244, 74.175, 83.9848780487805, 74.184, 72.41, 65.393, 67.577, 82.2756097560976, 75.224, 70.9512195121951, 66.924, 75.74643479024, 75.1220453188862, 74.9237930776766, 75.0305805363335, 74.580487804878, 64.3457714393416, 78.8, 52.059, 62.802, 74.6707317073171, 70.5393797482832, 62.7586367116496, 67.9371208615977, 82.6853658536585, 65.931, 62.681, 75.649, 78.013, 57.987, 82.4536585365854, 64.208, 74.3948780487805, 74.917, 67.471, 73.7108202619547, 73.1935470729551, 73.1982110954199, 71.4012397079535, 71.617, 69.321, 75.974, 58.309, 66.205, 62.625, 69.848, 81.5609756097561, 81.6124390243903, 73.86, 61.137, 53.541, 78.8774577897405, 75.498, 82.4073170731707, 79.961264716336, 77.142, 67.83562940085, 69.6137419308888, 66.77, 77.964, 63.744, 73.836, 76.044, 70.802, 77.8512195121951, 81.1243902439025, 80.5492413273199, 59.9919371242937, 79.868, 75.209756097561, 71.6512195121951, 67.93, 72.895, 69.67, 74.761, 67.078, 75.6878048780488, 74.309756097561, 53.444, 82.8463414634146, 77.1658536585366, 81.1756097560976, 68.9604624233804, 72.424, 63.153, 68.9161514390397, 68.9161514390397, 83.3292682926829, 76.482, 75.752, 72.193, 60.4423979284526, 60.4423979284526, 60.4238491485952, 71.358, 82.3073170731707, 83.6024390243903, 70.397, 63.844, 76.403, 68.735, 60.22, 70.607, 73.1, 76.115, 76.86, 67.835, 61.986, 71.4763414634146, 77.47, 81.1560975609756, 78.5390243902439, 74.8591314348358, 77.498, 71.171, 70.021, 75.172, 72.1810662860212, 62.464, 60.294]}],                        {\"geo\": {\"projection\": {\"type\": \"natural earth\"}, \"showframe\": false}, \"template\": {\"data\": {\"bar\": [{\"error_x\": {\"color\": \"#2a3f5f\"}, \"error_y\": {\"color\": \"#2a3f5f\"}, \"marker\": {\"line\": {\"color\": \"#E5ECF6\", \"width\": 0.5}}, \"type\": \"bar\"}], \"barpolar\": [{\"marker\": {\"line\": {\"color\": \"#E5ECF6\", \"width\": 0.5}}, \"type\": \"barpolar\"}], \"carpet\": [{\"aaxis\": {\"endlinecolor\": \"#2a3f5f\", \"gridcolor\": \"white\", \"linecolor\": \"white\", \"minorgridcolor\": \"white\", \"startlinecolor\": \"#2a3f5f\"}, \"baxis\": {\"endlinecolor\": \"#2a3f5f\", \"gridcolor\": \"white\", \"linecolor\": \"white\", \"minorgridcolor\": \"white\", \"startlinecolor\": \"#2a3f5f\"}, \"type\": \"carpet\"}], \"choropleth\": [{\"colorbar\": {\"outlinewidth\": 0, \"ticks\": \"\"}, \"type\": \"choropleth\"}], \"contour\": [{\"colorbar\": {\"outlinewidth\": 0, \"ticks\": \"\"}, \"colorscale\": [[0.0, \"#0d0887\"], [0.1111111111111111, \"#46039f\"], [0.2222222222222222, \"#7201a8\"], [0.3333333333333333, \"#9c179e\"], [0.4444444444444444, \"#bd3786\"], [0.5555555555555556, \"#d8576b\"], [0.6666666666666666, \"#ed7953\"], [0.7777777777777778, \"#fb9f3a\"], [0.8888888888888888, \"#fdca26\"], [1.0, \"#f0f921\"]], \"type\": \"contour\"}], \"contourcarpet\": [{\"colorbar\": {\"outlinewidth\": 0, \"ticks\": \"\"}, \"type\": \"contourcarpet\"}], \"heatmap\": [{\"colorbar\": {\"outlinewidth\": 0, \"ticks\": \"\"}, \"colorscale\": [[0.0, \"#0d0887\"], [0.1111111111111111, \"#46039f\"], [0.2222222222222222, \"#7201a8\"], [0.3333333333333333, \"#9c179e\"], [0.4444444444444444, \"#bd3786\"], [0.5555555555555556, \"#d8576b\"], [0.6666666666666666, \"#ed7953\"], [0.7777777777777778, \"#fb9f3a\"], [0.8888888888888888, \"#fdca26\"], [1.0, \"#f0f921\"]], \"type\": \"heatmap\"}], \"heatmapgl\": [{\"colorbar\": {\"outlinewidth\": 0, \"ticks\": \"\"}, \"colorscale\": [[0.0, \"#0d0887\"], [0.1111111111111111, \"#46039f\"], [0.2222222222222222, \"#7201a8\"], [0.3333333333333333, \"#9c179e\"], [0.4444444444444444, \"#bd3786\"], [0.5555555555555556, \"#d8576b\"], [0.6666666666666666, \"#ed7953\"], [0.7777777777777778, \"#fb9f3a\"], [0.8888888888888888, \"#fdca26\"], [1.0, \"#f0f921\"]], \"type\": \"heatmapgl\"}], \"histogram\": [{\"marker\": {\"colorbar\": {\"outlinewidth\": 0, \"ticks\": \"\"}}, \"type\": \"histogram\"}], \"histogram2d\": [{\"colorbar\": {\"outlinewidth\": 0, \"ticks\": \"\"}, \"colorscale\": [[0.0, \"#0d0887\"], [0.1111111111111111, \"#46039f\"], [0.2222222222222222, \"#7201a8\"], [0.3333333333333333, \"#9c179e\"], [0.4444444444444444, \"#bd3786\"], [0.5555555555555556, \"#d8576b\"], [0.6666666666666666, \"#ed7953\"], [0.7777777777777778, \"#fb9f3a\"], [0.8888888888888888, \"#fdca26\"], [1.0, \"#f0f921\"]], \"type\": \"histogram2d\"}], \"histogram2dcontour\": [{\"colorbar\": {\"outlinewidth\": 0, \"ticks\": \"\"}, \"colorscale\": [[0.0, \"#0d0887\"], [0.1111111111111111, \"#46039f\"], [0.2222222222222222, \"#7201a8\"], [0.3333333333333333, \"#9c179e\"], [0.4444444444444444, \"#bd3786\"], [0.5555555555555556, \"#d8576b\"], [0.6666666666666666, \"#ed7953\"], [0.7777777777777778, \"#fb9f3a\"], [0.8888888888888888, \"#fdca26\"], [1.0, \"#f0f921\"]], \"type\": \"histogram2dcontour\"}], \"mesh3d\": [{\"colorbar\": {\"outlinewidth\": 0, \"ticks\": \"\"}, \"type\": \"mesh3d\"}], \"parcoords\": [{\"line\": {\"colorbar\": {\"outlinewidth\": 0, \"ticks\": \"\"}}, \"type\": \"parcoords\"}], \"pie\": [{\"automargin\": true, \"type\": \"pie\"}], \"scatter\": [{\"marker\": {\"colorbar\": {\"outlinewidth\": 0, \"ticks\": \"\"}}, \"type\": \"scatter\"}], \"scatter3d\": [{\"line\": {\"colorbar\": {\"outlinewidth\": 0, \"ticks\": \"\"}}, \"marker\": {\"colorbar\": {\"outlinewidth\": 0, \"ticks\": \"\"}}, \"type\": \"scatter3d\"}], \"scattercarpet\": [{\"marker\": {\"colorbar\": {\"outlinewidth\": 0, \"ticks\": \"\"}}, \"type\": \"scattercarpet\"}], \"scattergeo\": [{\"marker\": {\"colorbar\": {\"outlinewidth\": 0, \"ticks\": \"\"}}, \"type\": \"scattergeo\"}], \"scattergl\": [{\"marker\": {\"colorbar\": {\"outlinewidth\": 0, \"ticks\": \"\"}}, \"type\": \"scattergl\"}], \"scattermapbox\": [{\"marker\": {\"colorbar\": {\"outlinewidth\": 0, \"ticks\": \"\"}}, \"type\": \"scattermapbox\"}], \"scatterpolar\": [{\"marker\": {\"colorbar\": {\"outlinewidth\": 0, \"ticks\": \"\"}}, \"type\": \"scatterpolar\"}], \"scatterpolargl\": [{\"marker\": {\"colorbar\": {\"outlinewidth\": 0, \"ticks\": \"\"}}, \"type\": \"scatterpolargl\"}], \"scatterternary\": [{\"marker\": {\"colorbar\": {\"outlinewidth\": 0, \"ticks\": \"\"}}, \"type\": \"scatterternary\"}], \"surface\": [{\"colorbar\": {\"outlinewidth\": 0, \"ticks\": \"\"}, \"colorscale\": [[0.0, \"#0d0887\"], [0.1111111111111111, \"#46039f\"], [0.2222222222222222, \"#7201a8\"], [0.3333333333333333, \"#9c179e\"], [0.4444444444444444, \"#bd3786\"], [0.5555555555555556, \"#d8576b\"], [0.6666666666666666, \"#ed7953\"], [0.7777777777777778, \"#fb9f3a\"], [0.8888888888888888, \"#fdca26\"], [1.0, \"#f0f921\"]], \"type\": \"surface\"}], \"table\": [{\"cells\": {\"fill\": {\"color\": \"#EBF0F8\"}, \"line\": {\"color\": \"white\"}}, \"header\": {\"fill\": {\"color\": \"#C8D4E3\"}, \"line\": {\"color\": \"white\"}}, \"type\": \"table\"}]}, \"layout\": {\"annotationdefaults\": {\"arrowcolor\": \"#2a3f5f\", \"arrowhead\": 0, \"arrowwidth\": 1}, \"autotypenumbers\": \"strict\", \"coloraxis\": {\"colorbar\": {\"outlinewidth\": 0, \"ticks\": \"\"}}, \"colorscale\": {\"diverging\": [[0, \"#8e0152\"], [0.1, \"#c51b7d\"], [0.2, \"#de77ae\"], [0.3, \"#f1b6da\"], [0.4, \"#fde0ef\"], [0.5, \"#f7f7f7\"], [0.6, \"#e6f5d0\"], [0.7, \"#b8e186\"], [0.8, \"#7fbc41\"], [0.9, \"#4d9221\"], [1, \"#276419\"]], \"sequential\": [[0.0, \"#0d0887\"], [0.1111111111111111, \"#46039f\"], [0.2222222222222222, \"#7201a8\"], [0.3333333333333333, \"#9c179e\"], [0.4444444444444444, \"#bd3786\"], [0.5555555555555556, \"#d8576b\"], [0.6666666666666666, \"#ed7953\"], [0.7777777777777778, \"#fb9f3a\"], [0.8888888888888888, \"#fdca26\"], [1.0, \"#f0f921\"]], \"sequentialminus\": [[0.0, \"#0d0887\"], [0.1111111111111111, \"#46039f\"], [0.2222222222222222, \"#7201a8\"], [0.3333333333333333, \"#9c179e\"], [0.4444444444444444, \"#bd3786\"], [0.5555555555555556, \"#d8576b\"], [0.6666666666666666, \"#ed7953\"], [0.7777777777777778, \"#fb9f3a\"], [0.8888888888888888, \"#fdca26\"], [1.0, \"#f0f921\"]]}, \"colorway\": [\"#636efa\", \"#EF553B\", \"#00cc96\", \"#ab63fa\", \"#FFA15A\", \"#19d3f3\", \"#FF6692\", \"#B6E880\", \"#FF97FF\", \"#FECB52\"], \"font\": {\"color\": \"#2a3f5f\"}, \"geo\": {\"bgcolor\": \"white\", \"lakecolor\": \"white\", \"landcolor\": \"#E5ECF6\", \"showlakes\": true, \"showland\": true, \"subunitcolor\": \"white\"}, \"hoverlabel\": {\"align\": \"left\"}, \"hovermode\": \"closest\", \"mapbox\": {\"style\": \"light\"}, \"paper_bgcolor\": \"white\", \"plot_bgcolor\": \"#E5ECF6\", \"polar\": {\"angularaxis\": {\"gridcolor\": \"white\", \"linecolor\": \"white\", \"ticks\": \"\"}, \"bgcolor\": \"#E5ECF6\", \"radialaxis\": {\"gridcolor\": \"white\", \"linecolor\": \"white\", \"ticks\": \"\"}}, \"scene\": {\"xaxis\": {\"backgroundcolor\": \"#E5ECF6\", \"gridcolor\": \"white\", \"gridwidth\": 2, \"linecolor\": \"white\", \"showbackground\": true, \"ticks\": \"\", \"zerolinecolor\": \"white\"}, \"yaxis\": {\"backgroundcolor\": \"#E5ECF6\", \"gridcolor\": \"white\", \"gridwidth\": 2, \"linecolor\": \"white\", \"showbackground\": true, \"ticks\": \"\", \"zerolinecolor\": \"white\"}, \"zaxis\": {\"backgroundcolor\": \"#E5ECF6\", \"gridcolor\": \"white\", \"gridwidth\": 2, \"linecolor\": \"white\", \"showbackground\": true, \"ticks\": \"\", \"zerolinecolor\": \"white\"}}, \"shapedefaults\": {\"line\": {\"color\": \"#2a3f5f\"}}, \"ternary\": {\"aaxis\": {\"gridcolor\": \"white\", \"linecolor\": \"white\", \"ticks\": \"\"}, \"baxis\": {\"gridcolor\": \"white\", \"linecolor\": \"white\", \"ticks\": \"\"}, \"bgcolor\": \"#E5ECF6\", \"caxis\": {\"gridcolor\": \"white\", \"linecolor\": \"white\", \"ticks\": \"\"}}, \"title\": {\"x\": 0.05}, \"xaxis\": {\"automargin\": true, \"gridcolor\": \"white\", \"linecolor\": \"white\", \"ticks\": \"\", \"title\": {\"standoff\": 15}, \"zerolinecolor\": \"white\", \"zerolinewidth\": 2}, \"yaxis\": {\"automargin\": true, \"gridcolor\": \"white\", \"linecolor\": \"white\", \"ticks\": \"\", \"title\": {\"standoff\": 15}, \"zerolinecolor\": \"white\", \"zerolinewidth\": 2}}}, \"title\": {\"text\": \"2016 Life Expectancy\"}},                        {\"responsive\": true}                    ).then(function(){\n",
       "                            \n",
       "var gd = document.getElementById('29be9c36-d241-46f2-9550-0ae39bac5af5');\n",
       "var x = new MutationObserver(function (mutations, observer) {{\n",
       "        var display = window.getComputedStyle(gd).display;\n",
       "        if (!display || display === 'none') {{\n",
       "            console.log([gd, 'removed!']);\n",
       "            Plotly.purge(gd);\n",
       "            observer.disconnect();\n",
       "        }}\n",
       "}});\n",
       "\n",
       "// Listen for the removal of the full notebook cells\n",
       "var notebookContainer = gd.closest('#notebook-container');\n",
       "if (notebookContainer) {{\n",
       "    x.observe(notebookContainer, {childList: true});\n",
       "}}\n",
       "\n",
       "// Listen for the clearing of the current output cell\n",
       "var outputEl = gd.closest('.output');\n",
       "if (outputEl) {{\n",
       "    x.observe(outputEl, {childList: true});\n",
       "}}\n",
       "\n",
       "                        })                };                });            </script>        </div>"
      ]
     },
     "metadata": {},
     "output_type": "display_data"
    }
   ],
   "source": [
    "my_File=iplot(choromap_life)"
   ]
  },
  {
   "cell_type": "code",
   "execution_count": 77,
   "id": "dominant-singing",
   "metadata": {},
   "outputs": [],
   "source": [
    "username = 'Lokwee' # your username\n",
    "api_key = 'GHaMZbGm8Yo2H94Ed8pN' # your api key - go to profile > settings > regenerate key"
   ]
  },
  {
   "cell_type": "code",
   "execution_count": 86,
   "id": "faced-clear",
   "metadata": {},
   "outputs": [],
   "source": [
    "chart_studio.tools.set_credentials_file(username=username, api_key=api_key)"
   ]
  },
  {
   "cell_type": "code",
   "execution_count": 90,
   "id": "documentary-detective",
   "metadata": {},
   "outputs": [],
   "source": [
    "fig = px.choropleth(df, locations='Codes', color='Life_expectancy',\n",
    "                           color_continuous_scale=\"mint\",\n",
    "                           scope=\"world\",\n",
    "                           hover_name='country',\n",
    "                           title=\"2016 Life Expectancy\",\n",
    "                           labels={'Country':'Life_expectancy'}\n",
    "                          )"
   ]
  },
  {
   "cell_type": "code",
   "execution_count": 91,
   "id": "authentic-float",
   "metadata": {},
   "outputs": [
    {
     "data": {
      "application/vnd.plotly.v1+json": {
       "config": {
        "plotlyServerURL": "https://plotly.com"
       },
       "data": [
        {
         "coloraxis": "coloraxis",
         "geo": "geo",
         "hovertemplate": "<b>%{hovertext}</b><br><br>Codes=%{location}<br>Life_expectancy=%{z}<extra></extra>",
         "hovertext": [
          "Afghanistan",
          "Albania",
          "Algeria",
          "Angola",
          "Antigua and Barbuda",
          "Arab World",
          "Argentina",
          "Armenia",
          "Australia",
          "Austria",
          "Azerbaijan",
          "Bahamas, The",
          "Bahrain",
          "Bangladesh",
          "Barbados",
          "Belarus",
          "Belgium",
          "Belize",
          "Benin",
          "Bhutan",
          "Bolivia",
          "Bosnia and Herzegovina",
          "Botswana",
          "Brazil",
          "Brunei Darussalam",
          "Bulgaria",
          "Burkina Faso",
          "Burundi",
          "Cabo Verde",
          "Cambodia",
          "Cameroon",
          "Canada",
          "Caribbean small states",
          "Central African Republic",
          "Central Europe and the Baltics",
          "Chad",
          "Chile",
          "China",
          "Colombia",
          "Comoros",
          "Congo, Dem. Rep.",
          "Congo, Rep.",
          "Costa Rica",
          "Cote d'Ivoire",
          "Croatia",
          "Cuba",
          "Cyprus",
          "Czech Republic",
          "Denmark",
          "Djibouti",
          "Dominican Republic",
          "Early-demographic dividend",
          "East Asia & Pacific",
          "East Asia & Pacific (IDA & IBRD countries)",
          "East Asia & Pacific (excluding high income)",
          "Ecuador",
          "Egypt, Arab Rep.",
          "El Salvador",
          "Equatorial Guinea",
          "Estonia",
          "Eswatini",
          "Ethiopia",
          "Euro area",
          "Europe & Central Asia",
          "Europe & Central Asia (IDA & IBRD countries)",
          "Europe & Central Asia (excluding high income)",
          "European Union",
          "Fiji",
          "Finland",
          "Fragile and conflict affected situations",
          "France",
          "Gabon",
          "Gambia, The",
          "Georgia",
          "Germany",
          "Ghana",
          "Greece",
          "Grenada",
          "Guatemala",
          "Guinea",
          "Guinea-Bissau",
          "Guyana",
          "Haiti",
          "Heavily indebted poor countries (HIPC)",
          "High income",
          "Honduras",
          "Hungary",
          "Iceland",
          "India",
          "Indonesia",
          "Iran, Islamic Rep.",
          "Iraq",
          "Ireland",
          "Israel",
          "Italy",
          "Jamaica",
          "Japan",
          "Jordan",
          "Kazakhstan",
          "Kenya",
          "Kiribati",
          "Korea, Rep.",
          "Kuwait",
          "Kyrgyz Republic",
          "Lao PDR",
          "Late-demographic dividend",
          "Latin America & Caribbean",
          "Latin America & Caribbean (excluding high income)",
          "Latin America & the Caribbean (IDA & IBRD countries)",
          "Latvia",
          "Least developed countries: UN classification",
          "Lebanon",
          "Lesotho",
          "Liberia",
          "Lithuania",
          "Low & middle income",
          "Low income",
          "Lower middle income",
          "Luxembourg",
          "Madagascar",
          "Malawi",
          "Malaysia",
          "Maldives",
          "Mali",
          "Malta",
          "Mauritania",
          "Mauritius",
          "Mexico",
          "Micronesia, Fed. Sts.",
          "Middle East & North Africa",
          "Middle East & North Africa (IDA & IBRD countries)",
          "Middle East & North Africa (excluding high income)",
          "Middle income",
          "Moldova",
          "Mongolia",
          "Morocco",
          "Mozambique",
          "Myanmar",
          "Namibia",
          "Nepal",
          "Netherlands",
          "New Zealand",
          "Nicaragua",
          "Niger",
          "Nigeria",
          "North America",
          "North Macedonia",
          "Norway",
          "OECD members",
          "Oman",
          "Other small states",
          "Pacific island small states",
          "Pakistan",
          "Panama",
          "Papua New Guinea",
          "Paraguay",
          "Peru",
          "Philippines",
          "Poland",
          "Portugal",
          "Post-demographic dividend",
          "Pre-demographic dividend",
          "Qatar",
          "Romania",
          "Russian Federation",
          "Rwanda",
          "Samoa",
          "Sao Tome and Principe",
          "Saudi Arabia",
          "Senegal",
          "Serbia",
          "Seychelles",
          "Sierra Leone",
          "Singapore",
          "Slovak Republic",
          "Slovenia",
          "Small states",
          "Solomon Islands",
          "South Africa",
          "South Asia",
          "South Asia (IDA & IBRD)",
          "Spain",
          "Sri Lanka",
          "St. Lucia",
          "St. Vincent and the Grenadines",
          "Sub-Saharan Africa",
          "Sub-Saharan Africa (IDA & IBRD countries)",
          "Sub-Saharan Africa (excluding high income)",
          "Suriname",
          "Sweden",
          "Switzerland",
          "Tajikistan",
          "Tanzania",
          "Thailand",
          "Timor-Leste",
          "Togo",
          "Tonga",
          "Trinidad and Tobago",
          "Tunisia",
          "Turkey",
          "Turkmenistan",
          "Uganda",
          "Ukraine",
          "United Arab Emirates",
          "United Kingdom",
          "United States",
          "Upper middle income",
          "Uruguay",
          "Uzbekistan",
          "Vanuatu",
          "Vietnam",
          "World",
          "Zambia",
          "Zimbabwe"
         ],
         "locations": [
          "AFG",
          "ALB",
          "DZA",
          "AGO",
          "ATG",
          "Arab World",
          "ARG",
          "ARM",
          "AUS",
          "AUT",
          "AZE",
          "BHM",
          "BHR",
          "BGD",
          "BRB",
          "BLR",
          "BEL",
          "BLZ",
          "BEN",
          "BTN",
          "BOL",
          "BIH",
          "BWA",
          "BRA",
          "BRN",
          "BGR",
          "BFA",
          "BDI",
          "CPV",
          "KHM",
          "CMR",
          "CAN",
          "Caribbean small states",
          "CAF",
          "Central Europe and the Baltics",
          "TCD",
          "CHL",
          "CHN",
          "COL",
          "COM",
          "COD",
          "COG",
          "CRI",
          "CIV",
          "HRV",
          "CUB",
          "CYP",
          "CZE",
          "DNK",
          "DJI",
          "DOM",
          "Early-demographic dividend",
          "East Asia & Pacific",
          "East Asia & Pacific (IDA & IBRD countries)",
          "East Asia & Pacific (excluding high income)",
          "ECU",
          "EGY",
          "SLV",
          "GNQ",
          "EST",
          "SWZ",
          "ETH",
          "Euro area",
          "Europe & Central Asia",
          "Europe & Central Asia (IDA & IBRD countries)",
          "Europe & Central Asia (excluding high income)",
          "European Union",
          "FJI",
          "FIN",
          "Fragile and conflict affected situations",
          "FRA",
          "GAB",
          "GMB",
          "GEO",
          "DEU",
          "GHA",
          "GRC",
          "GRD",
          "GTM",
          "GIN",
          "GNB",
          "GUY",
          "HTI",
          "Heavily indebted poor countries (HIPC)",
          "High income",
          "HND",
          "HUN",
          "ISL",
          "IND",
          "IDN",
          "IRN",
          "IRQ",
          "IRL",
          "ISR",
          "ITA",
          "JAM",
          "JPN",
          "JOR",
          "KAZ",
          "KEN",
          "KIR",
          "PRK",
          "KWT",
          "KGZ",
          "LAO",
          "Late-demographic dividend",
          "Latin America & Caribbean",
          "Latin America & Caribbean (excluding high income)",
          "Latin America & the Caribbean (IDA & IBRD countries)",
          "LVA",
          "Least developed countries: UN classification",
          "LBN",
          "LSO",
          "LBR",
          "LTU",
          "Low & middle income",
          "Low income",
          "Lower middle income",
          "LUX",
          "MDG",
          "MWI",
          "MYS",
          "MDV",
          "MLI",
          "MLT",
          "MRT",
          "MUS",
          "MEX",
          "FSM",
          "Middle East & North Africa",
          "Middle East & North Africa (IDA & IBRD countries)",
          "Middle East & North Africa (excluding high income)",
          "Middle income",
          "MDA",
          "MNG",
          "MAR",
          "MOZ",
          "MMR",
          "NAM",
          "NPL",
          "NLD",
          "NZL",
          "NIC",
          "NER",
          "NGA",
          "North America",
          "MKD",
          "NOR",
          "OECD members",
          "OMN",
          "Other small states",
          "Pacific island small states",
          "PAK",
          "PAN",
          "PNG",
          "PRY",
          "PER",
          "PHL",
          "POL",
          "PRT",
          "Post-demographic dividend",
          "Pre-demographic dividend",
          "QAT",
          "ROU",
          "RUS",
          "RWA",
          "WSM",
          "STP",
          "SAU",
          "SEN",
          "SRB",
          "SYC",
          "SLE",
          "SGP",
          "SVK",
          "SVN",
          "Small states",
          "SLB",
          "ZAF",
          "South Asia",
          "South Asia (IDA & IBRD)",
          "ESP",
          "LKA",
          "LCA",
          "VCT",
          "Sub-Saharan Africa",
          "Sub-Saharan Africa (IDA & IBRD countries)",
          "Sub-Saharan Africa (excluding high income)",
          "SUR",
          "SWE",
          "CHE",
          "TJK",
          "TZA",
          "THA",
          "TLS",
          "TGO",
          "TON",
          "TTO",
          "TUN",
          "TUR",
          "TKM",
          "UGA",
          "UKR",
          "ARE",
          "GBR",
          "USA",
          "Upper middle income",
          "URY",
          "UZB",
          "VUT",
          "VNM",
          "World",
          "ZMB",
          "ZWE"
         ],
         "name": "",
         "type": "choropleth",
         "z": [
          63.763,
          78.194,
          76.298,
          59.925,
          76.617,
          71.4364968537757,
          76.221,
          74.64,
          82.4487804878049,
          81.6414634146342,
          72.493,
          73.329,
          76.899,
          71.785,
          78.888,
          73.8268292682927,
          81.4390243902439,
          74.219,
          60.885,
          70.781,
          70.626,
          76.998,
          68.178,
          75.23,
          75.45,
          74.8121951219512,
          60.354,
          60.528,
          72.347,
          68.977,
          58.063,
          81.9,
          73.3959578186313,
          51.593,
          76.9698114171911,
          53.438,
          79.779,
          76.21,
          76.732,
          63.7,
          59.655,
          63.556,
          79.738,
          56.567,
          78.0219512195122,
          78.607,
          80.513,
          79.0268292682927,
          80.8536585365854,
          65.064,
          73.471,
          70.0112147340829,
          75.6355916349028,
          74.7936145719037,
          74.7556141751153,
          76.365,
          71.482,
          72.644,
          57.713,
          77.6414634146342,
          56.962,
          65.482,
          81.9545453308911,
          77.5955402337865,
          73.5074038507613,
          72.9542430453156,
          80.9498646440156,
          67.175,
          81.4292682926829,
          60.8888556882473,
          82.5731707317073,
          65.418,
          61.166,
          73.207,
          80.990243902439,
          63.124,
          81.3878048780488,
          72.408,
          73.541,
          60.17,
          57.328,
          69.454,
          62.896,
          62.3232892974951,
          80.5408511328272,
          74.701,
          76.0634146341464,
          82.2048780487805,
          68.897,
          71.035,
          76.047,
          70.122,
          81.6536585365854,
          82.4073170731707,
          83.2439024390244,
          74.175,
          83.9848780487805,
          74.184,
          72.41,
          65.393,
          67.577,
          82.2756097560976,
          75.224,
          70.9512195121951,
          66.924,
          75.74643479024,
          75.1220453188862,
          74.9237930776766,
          75.0305805363335,
          74.580487804878,
          64.3457714393416,
          78.8,
          52.059,
          62.802,
          74.6707317073171,
          70.5393797482832,
          62.7586367116496,
          67.9371208615977,
          82.6853658536585,
          65.931,
          62.681,
          75.649,
          78.013,
          57.987,
          82.4536585365854,
          64.208,
          74.3948780487805,
          74.917,
          67.471,
          73.7108202619547,
          73.1935470729551,
          73.1982110954199,
          71.4012397079535,
          71.617,
          69.321,
          75.974,
          58.309,
          66.205,
          62.625,
          69.848,
          81.5609756097561,
          81.6124390243903,
          73.86,
          61.137,
          53.541,
          78.8774577897405,
          75.498,
          82.4073170731707,
          79.961264716336,
          77.142,
          67.83562940085,
          69.6137419308888,
          66.77,
          77.964,
          63.744,
          73.836,
          76.044,
          70.802,
          77.8512195121951,
          81.1243902439025,
          80.5492413273199,
          59.9919371242937,
          79.868,
          75.209756097561,
          71.6512195121951,
          67.93,
          72.895,
          69.67,
          74.761,
          67.078,
          75.6878048780488,
          74.309756097561,
          53.444,
          82.8463414634146,
          77.1658536585366,
          81.1756097560976,
          68.9604624233804,
          72.424,
          63.153,
          68.9161514390397,
          68.9161514390397,
          83.3292682926829,
          76.482,
          75.752,
          72.193,
          60.4423979284526,
          60.4423979284526,
          60.4238491485952,
          71.358,
          82.3073170731707,
          83.6024390243903,
          70.397,
          63.844,
          76.403,
          68.735,
          60.22,
          70.607,
          73.1,
          76.115,
          76.86,
          67.835,
          61.986,
          71.4763414634146,
          77.47,
          81.1560975609756,
          78.5390243902439,
          74.8591314348358,
          77.498,
          71.171,
          70.021,
          75.172,
          72.1810662860212,
          62.464,
          60.294
         ]
        }
       ],
       "layout": {
        "coloraxis": {
         "colorbar": {
          "title": {
           "text": "Life_expectancy"
          }
         },
         "colorscale": [
          [
           0,
           "rgb(228, 241, 225)"
          ],
          [
           0.16666666666666666,
           "rgb(180, 217, 204)"
          ],
          [
           0.3333333333333333,
           "rgb(137, 192, 182)"
          ],
          [
           0.5,
           "rgb(99, 166, 160)"
          ],
          [
           0.6666666666666666,
           "rgb(68, 140, 138)"
          ],
          [
           0.8333333333333334,
           "rgb(40, 114, 116)"
          ],
          [
           1,
           "rgb(13, 88, 95)"
          ]
         ]
        },
        "geo": {
         "center": {},
         "domain": {
          "x": [
           0,
           1
          ],
          "y": [
           0,
           1
          ]
         },
         "scope": "world"
        },
        "legend": {
         "tracegroupgap": 0
        },
        "template": {
         "data": {
          "bar": [
           {
            "error_x": {
             "color": "#2a3f5f"
            },
            "error_y": {
             "color": "#2a3f5f"
            },
            "marker": {
             "line": {
              "color": "#E5ECF6",
              "width": 0.5
             }
            },
            "type": "bar"
           }
          ],
          "barpolar": [
           {
            "marker": {
             "line": {
              "color": "#E5ECF6",
              "width": 0.5
             }
            },
            "type": "barpolar"
           }
          ],
          "carpet": [
           {
            "aaxis": {
             "endlinecolor": "#2a3f5f",
             "gridcolor": "white",
             "linecolor": "white",
             "minorgridcolor": "white",
             "startlinecolor": "#2a3f5f"
            },
            "baxis": {
             "endlinecolor": "#2a3f5f",
             "gridcolor": "white",
             "linecolor": "white",
             "minorgridcolor": "white",
             "startlinecolor": "#2a3f5f"
            },
            "type": "carpet"
           }
          ],
          "choropleth": [
           {
            "colorbar": {
             "outlinewidth": 0,
             "ticks": ""
            },
            "type": "choropleth"
           }
          ],
          "contour": [
           {
            "colorbar": {
             "outlinewidth": 0,
             "ticks": ""
            },
            "colorscale": [
             [
              0,
              "#0d0887"
             ],
             [
              0.1111111111111111,
              "#46039f"
             ],
             [
              0.2222222222222222,
              "#7201a8"
             ],
             [
              0.3333333333333333,
              "#9c179e"
             ],
             [
              0.4444444444444444,
              "#bd3786"
             ],
             [
              0.5555555555555556,
              "#d8576b"
             ],
             [
              0.6666666666666666,
              "#ed7953"
             ],
             [
              0.7777777777777778,
              "#fb9f3a"
             ],
             [
              0.8888888888888888,
              "#fdca26"
             ],
             [
              1,
              "#f0f921"
             ]
            ],
            "type": "contour"
           }
          ],
          "contourcarpet": [
           {
            "colorbar": {
             "outlinewidth": 0,
             "ticks": ""
            },
            "type": "contourcarpet"
           }
          ],
          "heatmap": [
           {
            "colorbar": {
             "outlinewidth": 0,
             "ticks": ""
            },
            "colorscale": [
             [
              0,
              "#0d0887"
             ],
             [
              0.1111111111111111,
              "#46039f"
             ],
             [
              0.2222222222222222,
              "#7201a8"
             ],
             [
              0.3333333333333333,
              "#9c179e"
             ],
             [
              0.4444444444444444,
              "#bd3786"
             ],
             [
              0.5555555555555556,
              "#d8576b"
             ],
             [
              0.6666666666666666,
              "#ed7953"
             ],
             [
              0.7777777777777778,
              "#fb9f3a"
             ],
             [
              0.8888888888888888,
              "#fdca26"
             ],
             [
              1,
              "#f0f921"
             ]
            ],
            "type": "heatmap"
           }
          ],
          "heatmapgl": [
           {
            "colorbar": {
             "outlinewidth": 0,
             "ticks": ""
            },
            "colorscale": [
             [
              0,
              "#0d0887"
             ],
             [
              0.1111111111111111,
              "#46039f"
             ],
             [
              0.2222222222222222,
              "#7201a8"
             ],
             [
              0.3333333333333333,
              "#9c179e"
             ],
             [
              0.4444444444444444,
              "#bd3786"
             ],
             [
              0.5555555555555556,
              "#d8576b"
             ],
             [
              0.6666666666666666,
              "#ed7953"
             ],
             [
              0.7777777777777778,
              "#fb9f3a"
             ],
             [
              0.8888888888888888,
              "#fdca26"
             ],
             [
              1,
              "#f0f921"
             ]
            ],
            "type": "heatmapgl"
           }
          ],
          "histogram": [
           {
            "marker": {
             "colorbar": {
              "outlinewidth": 0,
              "ticks": ""
             }
            },
            "type": "histogram"
           }
          ],
          "histogram2d": [
           {
            "colorbar": {
             "outlinewidth": 0,
             "ticks": ""
            },
            "colorscale": [
             [
              0,
              "#0d0887"
             ],
             [
              0.1111111111111111,
              "#46039f"
             ],
             [
              0.2222222222222222,
              "#7201a8"
             ],
             [
              0.3333333333333333,
              "#9c179e"
             ],
             [
              0.4444444444444444,
              "#bd3786"
             ],
             [
              0.5555555555555556,
              "#d8576b"
             ],
             [
              0.6666666666666666,
              "#ed7953"
             ],
             [
              0.7777777777777778,
              "#fb9f3a"
             ],
             [
              0.8888888888888888,
              "#fdca26"
             ],
             [
              1,
              "#f0f921"
             ]
            ],
            "type": "histogram2d"
           }
          ],
          "histogram2dcontour": [
           {
            "colorbar": {
             "outlinewidth": 0,
             "ticks": ""
            },
            "colorscale": [
             [
              0,
              "#0d0887"
             ],
             [
              0.1111111111111111,
              "#46039f"
             ],
             [
              0.2222222222222222,
              "#7201a8"
             ],
             [
              0.3333333333333333,
              "#9c179e"
             ],
             [
              0.4444444444444444,
              "#bd3786"
             ],
             [
              0.5555555555555556,
              "#d8576b"
             ],
             [
              0.6666666666666666,
              "#ed7953"
             ],
             [
              0.7777777777777778,
              "#fb9f3a"
             ],
             [
              0.8888888888888888,
              "#fdca26"
             ],
             [
              1,
              "#f0f921"
             ]
            ],
            "type": "histogram2dcontour"
           }
          ],
          "mesh3d": [
           {
            "colorbar": {
             "outlinewidth": 0,
             "ticks": ""
            },
            "type": "mesh3d"
           }
          ],
          "parcoords": [
           {
            "line": {
             "colorbar": {
              "outlinewidth": 0,
              "ticks": ""
             }
            },
            "type": "parcoords"
           }
          ],
          "pie": [
           {
            "automargin": true,
            "type": "pie"
           }
          ],
          "scatter": [
           {
            "marker": {
             "colorbar": {
              "outlinewidth": 0,
              "ticks": ""
             }
            },
            "type": "scatter"
           }
          ],
          "scatter3d": [
           {
            "line": {
             "colorbar": {
              "outlinewidth": 0,
              "ticks": ""
             }
            },
            "marker": {
             "colorbar": {
              "outlinewidth": 0,
              "ticks": ""
             }
            },
            "type": "scatter3d"
           }
          ],
          "scattercarpet": [
           {
            "marker": {
             "colorbar": {
              "outlinewidth": 0,
              "ticks": ""
             }
            },
            "type": "scattercarpet"
           }
          ],
          "scattergeo": [
           {
            "marker": {
             "colorbar": {
              "outlinewidth": 0,
              "ticks": ""
             }
            },
            "type": "scattergeo"
           }
          ],
          "scattergl": [
           {
            "marker": {
             "colorbar": {
              "outlinewidth": 0,
              "ticks": ""
             }
            },
            "type": "scattergl"
           }
          ],
          "scattermapbox": [
           {
            "marker": {
             "colorbar": {
              "outlinewidth": 0,
              "ticks": ""
             }
            },
            "type": "scattermapbox"
           }
          ],
          "scatterpolar": [
           {
            "marker": {
             "colorbar": {
              "outlinewidth": 0,
              "ticks": ""
             }
            },
            "type": "scatterpolar"
           }
          ],
          "scatterpolargl": [
           {
            "marker": {
             "colorbar": {
              "outlinewidth": 0,
              "ticks": ""
             }
            },
            "type": "scatterpolargl"
           }
          ],
          "scatterternary": [
           {
            "marker": {
             "colorbar": {
              "outlinewidth": 0,
              "ticks": ""
             }
            },
            "type": "scatterternary"
           }
          ],
          "surface": [
           {
            "colorbar": {
             "outlinewidth": 0,
             "ticks": ""
            },
            "colorscale": [
             [
              0,
              "#0d0887"
             ],
             [
              0.1111111111111111,
              "#46039f"
             ],
             [
              0.2222222222222222,
              "#7201a8"
             ],
             [
              0.3333333333333333,
              "#9c179e"
             ],
             [
              0.4444444444444444,
              "#bd3786"
             ],
             [
              0.5555555555555556,
              "#d8576b"
             ],
             [
              0.6666666666666666,
              "#ed7953"
             ],
             [
              0.7777777777777778,
              "#fb9f3a"
             ],
             [
              0.8888888888888888,
              "#fdca26"
             ],
             [
              1,
              "#f0f921"
             ]
            ],
            "type": "surface"
           }
          ],
          "table": [
           {
            "cells": {
             "fill": {
              "color": "#EBF0F8"
             },
             "line": {
              "color": "white"
             }
            },
            "header": {
             "fill": {
              "color": "#C8D4E3"
             },
             "line": {
              "color": "white"
             }
            },
            "type": "table"
           }
          ]
         },
         "layout": {
          "annotationdefaults": {
           "arrowcolor": "#2a3f5f",
           "arrowhead": 0,
           "arrowwidth": 1
          },
          "autotypenumbers": "strict",
          "coloraxis": {
           "colorbar": {
            "outlinewidth": 0,
            "ticks": ""
           }
          },
          "colorscale": {
           "diverging": [
            [
             0,
             "#8e0152"
            ],
            [
             0.1,
             "#c51b7d"
            ],
            [
             0.2,
             "#de77ae"
            ],
            [
             0.3,
             "#f1b6da"
            ],
            [
             0.4,
             "#fde0ef"
            ],
            [
             0.5,
             "#f7f7f7"
            ],
            [
             0.6,
             "#e6f5d0"
            ],
            [
             0.7,
             "#b8e186"
            ],
            [
             0.8,
             "#7fbc41"
            ],
            [
             0.9,
             "#4d9221"
            ],
            [
             1,
             "#276419"
            ]
           ],
           "sequential": [
            [
             0,
             "#0d0887"
            ],
            [
             0.1111111111111111,
             "#46039f"
            ],
            [
             0.2222222222222222,
             "#7201a8"
            ],
            [
             0.3333333333333333,
             "#9c179e"
            ],
            [
             0.4444444444444444,
             "#bd3786"
            ],
            [
             0.5555555555555556,
             "#d8576b"
            ],
            [
             0.6666666666666666,
             "#ed7953"
            ],
            [
             0.7777777777777778,
             "#fb9f3a"
            ],
            [
             0.8888888888888888,
             "#fdca26"
            ],
            [
             1,
             "#f0f921"
            ]
           ],
           "sequentialminus": [
            [
             0,
             "#0d0887"
            ],
            [
             0.1111111111111111,
             "#46039f"
            ],
            [
             0.2222222222222222,
             "#7201a8"
            ],
            [
             0.3333333333333333,
             "#9c179e"
            ],
            [
             0.4444444444444444,
             "#bd3786"
            ],
            [
             0.5555555555555556,
             "#d8576b"
            ],
            [
             0.6666666666666666,
             "#ed7953"
            ],
            [
             0.7777777777777778,
             "#fb9f3a"
            ],
            [
             0.8888888888888888,
             "#fdca26"
            ],
            [
             1,
             "#f0f921"
            ]
           ]
          },
          "colorway": [
           "#636efa",
           "#EF553B",
           "#00cc96",
           "#ab63fa",
           "#FFA15A",
           "#19d3f3",
           "#FF6692",
           "#B6E880",
           "#FF97FF",
           "#FECB52"
          ],
          "font": {
           "color": "#2a3f5f"
          },
          "geo": {
           "bgcolor": "white",
           "lakecolor": "white",
           "landcolor": "#E5ECF6",
           "showlakes": true,
           "showland": true,
           "subunitcolor": "white"
          },
          "hoverlabel": {
           "align": "left"
          },
          "hovermode": "closest",
          "mapbox": {
           "style": "light"
          },
          "paper_bgcolor": "white",
          "plot_bgcolor": "#E5ECF6",
          "polar": {
           "angularaxis": {
            "gridcolor": "white",
            "linecolor": "white",
            "ticks": ""
           },
           "bgcolor": "#E5ECF6",
           "radialaxis": {
            "gridcolor": "white",
            "linecolor": "white",
            "ticks": ""
           }
          },
          "scene": {
           "xaxis": {
            "backgroundcolor": "#E5ECF6",
            "gridcolor": "white",
            "gridwidth": 2,
            "linecolor": "white",
            "showbackground": true,
            "ticks": "",
            "zerolinecolor": "white"
           },
           "yaxis": {
            "backgroundcolor": "#E5ECF6",
            "gridcolor": "white",
            "gridwidth": 2,
            "linecolor": "white",
            "showbackground": true,
            "ticks": "",
            "zerolinecolor": "white"
           },
           "zaxis": {
            "backgroundcolor": "#E5ECF6",
            "gridcolor": "white",
            "gridwidth": 2,
            "linecolor": "white",
            "showbackground": true,
            "ticks": "",
            "zerolinecolor": "white"
           }
          },
          "shapedefaults": {
           "line": {
            "color": "#2a3f5f"
           }
          },
          "ternary": {
           "aaxis": {
            "gridcolor": "white",
            "linecolor": "white",
            "ticks": ""
           },
           "baxis": {
            "gridcolor": "white",
            "linecolor": "white",
            "ticks": ""
           },
           "bgcolor": "#E5ECF6",
           "caxis": {
            "gridcolor": "white",
            "linecolor": "white",
            "ticks": ""
           }
          },
          "title": {
           "x": 0.05
          },
          "xaxis": {
           "automargin": true,
           "gridcolor": "white",
           "linecolor": "white",
           "ticks": "",
           "title": {
            "standoff": 15
           },
           "zerolinecolor": "white",
           "zerolinewidth": 2
          },
          "yaxis": {
           "automargin": true,
           "gridcolor": "white",
           "linecolor": "white",
           "ticks": "",
           "title": {
            "standoff": 15
           },
           "zerolinecolor": "white",
           "zerolinewidth": 2
          }
         }
        },
        "title": {
         "text": "2016 Life Expectancy"
        }
       }
      },
      "text/html": [
       "<div>                            <div id=\"8ae3f8f2-820a-41dd-b39d-a26809ce3275\" class=\"plotly-graph-div\" style=\"height:525px; width:100%;\"></div>            <script type=\"text/javascript\">                require([\"plotly\"], function(Plotly) {                    window.PLOTLYENV=window.PLOTLYENV || {};                                    if (document.getElementById(\"8ae3f8f2-820a-41dd-b39d-a26809ce3275\")) {                    Plotly.newPlot(                        \"8ae3f8f2-820a-41dd-b39d-a26809ce3275\",                        [{\"coloraxis\": \"coloraxis\", \"geo\": \"geo\", \"hovertemplate\": \"<b>%{hovertext}</b><br><br>Codes=%{location}<br>Life_expectancy=%{z}<extra></extra>\", \"hovertext\": [\"Afghanistan\", \"Albania\", \"Algeria\", \"Angola\", \"Antigua and Barbuda\", \"Arab World\", \"Argentina\", \"Armenia\", \"Australia\", \"Austria\", \"Azerbaijan\", \"Bahamas, The\", \"Bahrain\", \"Bangladesh\", \"Barbados\", \"Belarus\", \"Belgium\", \"Belize\", \"Benin\", \"Bhutan\", \"Bolivia\", \"Bosnia and Herzegovina\", \"Botswana\", \"Brazil\", \"Brunei Darussalam\", \"Bulgaria\", \"Burkina Faso\", \"Burundi\", \"Cabo Verde\", \"Cambodia\", \"Cameroon\", \"Canada\", \"Caribbean small states\", \"Central African Republic\", \"Central Europe and the Baltics\", \"Chad\", \"Chile\", \"China\", \"Colombia\", \"Comoros\", \"Congo, Dem. Rep.\", \"Congo, Rep.\", \"Costa Rica\", \"Cote d'Ivoire\", \"Croatia\", \"Cuba\", \"Cyprus\", \"Czech Republic\", \"Denmark\", \"Djibouti\", \"Dominican Republic\", \"Early-demographic dividend\", \"East Asia & Pacific\", \"East Asia & Pacific (IDA & IBRD countries)\", \"East Asia & Pacific (excluding high income)\", \"Ecuador\", \"Egypt, Arab Rep.\", \"El Salvador\", \"Equatorial Guinea\", \"Estonia\", \"Eswatini\", \"Ethiopia\", \"Euro area\", \"Europe & Central Asia\", \"Europe & Central Asia (IDA & IBRD countries)\", \"Europe & Central Asia (excluding high income)\", \"European Union\", \"Fiji\", \"Finland\", \"Fragile and conflict affected situations\", \"France\", \"Gabon\", \"Gambia, The\", \"Georgia\", \"Germany\", \"Ghana\", \"Greece\", \"Grenada\", \"Guatemala\", \"Guinea\", \"Guinea-Bissau\", \"Guyana\", \"Haiti\", \"Heavily indebted poor countries (HIPC)\", \"High income\", \"Honduras\", \"Hungary\", \"Iceland\", \"India\", \"Indonesia\", \"Iran, Islamic Rep.\", \"Iraq\", \"Ireland\", \"Israel\", \"Italy\", \"Jamaica\", \"Japan\", \"Jordan\", \"Kazakhstan\", \"Kenya\", \"Kiribati\", \"Korea, Rep.\", \"Kuwait\", \"Kyrgyz Republic\", \"Lao PDR\", \"Late-demographic dividend\", \"Latin America & Caribbean\", \"Latin America & Caribbean (excluding high income)\", \"Latin America & the Caribbean (IDA & IBRD countries)\", \"Latvia\", \"Least developed countries: UN classification\", \"Lebanon\", \"Lesotho\", \"Liberia\", \"Lithuania\", \"Low & middle income\", \"Low income\", \"Lower middle income\", \"Luxembourg\", \"Madagascar\", \"Malawi\", \"Malaysia\", \"Maldives\", \"Mali\", \"Malta\", \"Mauritania\", \"Mauritius\", \"Mexico\", \"Micronesia, Fed. Sts.\", \"Middle East & North Africa\", \"Middle East & North Africa (IDA & IBRD countries)\", \"Middle East & North Africa (excluding high income)\", \"Middle income\", \"Moldova\", \"Mongolia\", \"Morocco\", \"Mozambique\", \"Myanmar\", \"Namibia\", \"Nepal\", \"Netherlands\", \"New Zealand\", \"Nicaragua\", \"Niger\", \"Nigeria\", \"North America\", \"North Macedonia\", \"Norway\", \"OECD members\", \"Oman\", \"Other small states\", \"Pacific island small states\", \"Pakistan\", \"Panama\", \"Papua New Guinea\", \"Paraguay\", \"Peru\", \"Philippines\", \"Poland\", \"Portugal\", \"Post-demographic dividend\", \"Pre-demographic dividend\", \"Qatar\", \"Romania\", \"Russian Federation\", \"Rwanda\", \"Samoa\", \"Sao Tome and Principe\", \"Saudi Arabia\", \"Senegal\", \"Serbia\", \"Seychelles\", \"Sierra Leone\", \"Singapore\", \"Slovak Republic\", \"Slovenia\", \"Small states\", \"Solomon Islands\", \"South Africa\", \"South Asia\", \"South Asia (IDA & IBRD)\", \"Spain\", \"Sri Lanka\", \"St. Lucia\", \"St. Vincent and the Grenadines\", \"Sub-Saharan Africa\", \"Sub-Saharan Africa (IDA & IBRD countries)\", \"Sub-Saharan Africa (excluding high income)\", \"Suriname\", \"Sweden\", \"Switzerland\", \"Tajikistan\", \"Tanzania\", \"Thailand\", \"Timor-Leste\", \"Togo\", \"Tonga\", \"Trinidad and Tobago\", \"Tunisia\", \"Turkey\", \"Turkmenistan\", \"Uganda\", \"Ukraine\", \"United Arab Emirates\", \"United Kingdom\", \"United States\", \"Upper middle income\", \"Uruguay\", \"Uzbekistan\", \"Vanuatu\", \"Vietnam\", \"World\", \"Zambia\", \"Zimbabwe\"], \"locations\": [\"AFG\", \"ALB\", \"DZA\", \"AGO\", \"ATG\", \"Arab World\", \"ARG\", \"ARM\", \"AUS\", \"AUT\", \"AZE\", \"BHM\", \"BHR\", \"BGD\", \"BRB\", \"BLR\", \"BEL\", \"BLZ\", \"BEN\", \"BTN\", \"BOL\", \"BIH\", \"BWA\", \"BRA\", \"BRN\", \"BGR\", \"BFA\", \"BDI\", \"CPV\", \"KHM\", \"CMR\", \"CAN\", \"Caribbean small states\", \"CAF\", \"Central Europe and the Baltics\", \"TCD\", \"CHL\", \"CHN\", \"COL\", \"COM\", \"COD\", \"COG\", \"CRI\", \"CIV\", \"HRV\", \"CUB\", \"CYP\", \"CZE\", \"DNK\", \"DJI\", \"DOM\", \"Early-demographic dividend\", \"East Asia & Pacific\", \"East Asia & Pacific (IDA & IBRD countries)\", \"East Asia & Pacific (excluding high income)\", \"ECU\", \"EGY\", \"SLV\", \"GNQ\", \"EST\", \"SWZ\", \"ETH\", \"Euro area\", \"Europe & Central Asia\", \"Europe & Central Asia (IDA & IBRD countries)\", \"Europe & Central Asia (excluding high income)\", \"European Union\", \"FJI\", \"FIN\", \"Fragile and conflict affected situations\", \"FRA\", \"GAB\", \"GMB\", \"GEO\", \"DEU\", \"GHA\", \"GRC\", \"GRD\", \"GTM\", \"GIN\", \"GNB\", \"GUY\", \"HTI\", \"Heavily indebted poor countries (HIPC)\", \"High income\", \"HND\", \"HUN\", \"ISL\", \"IND\", \"IDN\", \"IRN\", \"IRQ\", \"IRL\", \"ISR\", \"ITA\", \"JAM\", \"JPN\", \"JOR\", \"KAZ\", \"KEN\", \"KIR\", \"PRK\", \"KWT\", \"KGZ\", \"LAO\", \"Late-demographic dividend\", \"Latin America & Caribbean\", \"Latin America & Caribbean (excluding high income)\", \"Latin America & the Caribbean (IDA & IBRD countries)\", \"LVA\", \"Least developed countries: UN classification\", \"LBN\", \"LSO\", \"LBR\", \"LTU\", \"Low & middle income\", \"Low income\", \"Lower middle income\", \"LUX\", \"MDG\", \"MWI\", \"MYS\", \"MDV\", \"MLI\", \"MLT\", \"MRT\", \"MUS\", \"MEX\", \"FSM\", \"Middle East & North Africa\", \"Middle East & North Africa (IDA & IBRD countries)\", \"Middle East & North Africa (excluding high income)\", \"Middle income\", \"MDA\", \"MNG\", \"MAR\", \"MOZ\", \"MMR\", \"NAM\", \"NPL\", \"NLD\", \"NZL\", \"NIC\", \"NER\", \"NGA\", \"North America\", \"MKD\", \"NOR\", \"OECD members\", \"OMN\", \"Other small states\", \"Pacific island small states\", \"PAK\", \"PAN\", \"PNG\", \"PRY\", \"PER\", \"PHL\", \"POL\", \"PRT\", \"Post-demographic dividend\", \"Pre-demographic dividend\", \"QAT\", \"ROU\", \"RUS\", \"RWA\", \"WSM\", \"STP\", \"SAU\", \"SEN\", \"SRB\", \"SYC\", \"SLE\", \"SGP\", \"SVK\", \"SVN\", \"Small states\", \"SLB\", \"ZAF\", \"South Asia\", \"South Asia (IDA & IBRD)\", \"ESP\", \"LKA\", \"LCA\", \"VCT\", \"Sub-Saharan Africa\", \"Sub-Saharan Africa (IDA & IBRD countries)\", \"Sub-Saharan Africa (excluding high income)\", \"SUR\", \"SWE\", \"CHE\", \"TJK\", \"TZA\", \"THA\", \"TLS\", \"TGO\", \"TON\", \"TTO\", \"TUN\", \"TUR\", \"TKM\", \"UGA\", \"UKR\", \"ARE\", \"GBR\", \"USA\", \"Upper middle income\", \"URY\", \"UZB\", \"VUT\", \"VNM\", \"World\", \"ZMB\", \"ZWE\"], \"name\": \"\", \"type\": \"choropleth\", \"z\": [63.763, 78.194, 76.298, 59.925, 76.617, 71.4364968537757, 76.221, 74.64, 82.4487804878049, 81.6414634146342, 72.493, 73.329, 76.899, 71.785, 78.888, 73.8268292682927, 81.4390243902439, 74.219, 60.885, 70.781, 70.626, 76.998, 68.178, 75.23, 75.45, 74.8121951219512, 60.354, 60.528, 72.347, 68.977, 58.063, 81.9, 73.3959578186313, 51.593, 76.9698114171911, 53.438, 79.779, 76.21, 76.732, 63.7, 59.655, 63.556, 79.738, 56.567, 78.0219512195122, 78.607, 80.513, 79.0268292682927, 80.8536585365854, 65.064, 73.471, 70.0112147340829, 75.6355916349028, 74.7936145719037, 74.7556141751153, 76.365, 71.482, 72.644, 57.713, 77.6414634146342, 56.962, 65.482, 81.9545453308911, 77.5955402337865, 73.5074038507613, 72.9542430453156, 80.9498646440156, 67.175, 81.4292682926829, 60.8888556882473, 82.5731707317073, 65.418, 61.166, 73.207, 80.990243902439, 63.124, 81.3878048780488, 72.408, 73.541, 60.17, 57.328, 69.454, 62.896, 62.3232892974951, 80.5408511328272, 74.701, 76.0634146341464, 82.2048780487805, 68.897, 71.035, 76.047, 70.122, 81.6536585365854, 82.4073170731707, 83.2439024390244, 74.175, 83.9848780487805, 74.184, 72.41, 65.393, 67.577, 82.2756097560976, 75.224, 70.9512195121951, 66.924, 75.74643479024, 75.1220453188862, 74.9237930776766, 75.0305805363335, 74.580487804878, 64.3457714393416, 78.8, 52.059, 62.802, 74.6707317073171, 70.5393797482832, 62.7586367116496, 67.9371208615977, 82.6853658536585, 65.931, 62.681, 75.649, 78.013, 57.987, 82.4536585365854, 64.208, 74.3948780487805, 74.917, 67.471, 73.7108202619547, 73.1935470729551, 73.1982110954199, 71.4012397079535, 71.617, 69.321, 75.974, 58.309, 66.205, 62.625, 69.848, 81.5609756097561, 81.6124390243903, 73.86, 61.137, 53.541, 78.8774577897405, 75.498, 82.4073170731707, 79.961264716336, 77.142, 67.83562940085, 69.6137419308888, 66.77, 77.964, 63.744, 73.836, 76.044, 70.802, 77.8512195121951, 81.1243902439025, 80.5492413273199, 59.9919371242937, 79.868, 75.209756097561, 71.6512195121951, 67.93, 72.895, 69.67, 74.761, 67.078, 75.6878048780488, 74.309756097561, 53.444, 82.8463414634146, 77.1658536585366, 81.1756097560976, 68.9604624233804, 72.424, 63.153, 68.9161514390397, 68.9161514390397, 83.3292682926829, 76.482, 75.752, 72.193, 60.4423979284526, 60.4423979284526, 60.4238491485952, 71.358, 82.3073170731707, 83.6024390243903, 70.397, 63.844, 76.403, 68.735, 60.22, 70.607, 73.1, 76.115, 76.86, 67.835, 61.986, 71.4763414634146, 77.47, 81.1560975609756, 78.5390243902439, 74.8591314348358, 77.498, 71.171, 70.021, 75.172, 72.1810662860212, 62.464, 60.294]}],                        {\"coloraxis\": {\"colorbar\": {\"title\": {\"text\": \"Life_expectancy\"}}, \"colorscale\": [[0.0, \"rgb(228, 241, 225)\"], [0.16666666666666666, \"rgb(180, 217, 204)\"], [0.3333333333333333, \"rgb(137, 192, 182)\"], [0.5, \"rgb(99, 166, 160)\"], [0.6666666666666666, \"rgb(68, 140, 138)\"], [0.8333333333333334, \"rgb(40, 114, 116)\"], [1.0, \"rgb(13, 88, 95)\"]]}, \"geo\": {\"center\": {}, \"domain\": {\"x\": [0.0, 1.0], \"y\": [0.0, 1.0]}, \"scope\": \"world\"}, \"legend\": {\"tracegroupgap\": 0}, \"template\": {\"data\": {\"bar\": [{\"error_x\": {\"color\": \"#2a3f5f\"}, \"error_y\": {\"color\": \"#2a3f5f\"}, \"marker\": {\"line\": {\"color\": \"#E5ECF6\", \"width\": 0.5}}, \"type\": \"bar\"}], \"barpolar\": [{\"marker\": {\"line\": {\"color\": \"#E5ECF6\", \"width\": 0.5}}, \"type\": \"barpolar\"}], \"carpet\": [{\"aaxis\": {\"endlinecolor\": \"#2a3f5f\", \"gridcolor\": \"white\", \"linecolor\": \"white\", \"minorgridcolor\": \"white\", \"startlinecolor\": \"#2a3f5f\"}, \"baxis\": {\"endlinecolor\": \"#2a3f5f\", \"gridcolor\": \"white\", \"linecolor\": \"white\", \"minorgridcolor\": \"white\", \"startlinecolor\": \"#2a3f5f\"}, \"type\": \"carpet\"}], \"choropleth\": [{\"colorbar\": {\"outlinewidth\": 0, \"ticks\": \"\"}, \"type\": \"choropleth\"}], \"contour\": [{\"colorbar\": {\"outlinewidth\": 0, \"ticks\": \"\"}, \"colorscale\": [[0.0, \"#0d0887\"], [0.1111111111111111, \"#46039f\"], [0.2222222222222222, \"#7201a8\"], [0.3333333333333333, \"#9c179e\"], [0.4444444444444444, \"#bd3786\"], [0.5555555555555556, \"#d8576b\"], [0.6666666666666666, \"#ed7953\"], [0.7777777777777778, \"#fb9f3a\"], [0.8888888888888888, \"#fdca26\"], [1.0, \"#f0f921\"]], \"type\": \"contour\"}], \"contourcarpet\": [{\"colorbar\": {\"outlinewidth\": 0, \"ticks\": \"\"}, \"type\": \"contourcarpet\"}], \"heatmap\": [{\"colorbar\": {\"outlinewidth\": 0, \"ticks\": \"\"}, \"colorscale\": [[0.0, \"#0d0887\"], [0.1111111111111111, \"#46039f\"], [0.2222222222222222, \"#7201a8\"], [0.3333333333333333, \"#9c179e\"], [0.4444444444444444, \"#bd3786\"], [0.5555555555555556, \"#d8576b\"], [0.6666666666666666, \"#ed7953\"], [0.7777777777777778, \"#fb9f3a\"], [0.8888888888888888, \"#fdca26\"], [1.0, \"#f0f921\"]], \"type\": \"heatmap\"}], \"heatmapgl\": [{\"colorbar\": {\"outlinewidth\": 0, \"ticks\": \"\"}, \"colorscale\": [[0.0, \"#0d0887\"], [0.1111111111111111, \"#46039f\"], [0.2222222222222222, \"#7201a8\"], [0.3333333333333333, \"#9c179e\"], [0.4444444444444444, \"#bd3786\"], [0.5555555555555556, \"#d8576b\"], [0.6666666666666666, \"#ed7953\"], [0.7777777777777778, \"#fb9f3a\"], [0.8888888888888888, \"#fdca26\"], [1.0, \"#f0f921\"]], \"type\": \"heatmapgl\"}], \"histogram\": [{\"marker\": {\"colorbar\": {\"outlinewidth\": 0, \"ticks\": \"\"}}, \"type\": \"histogram\"}], \"histogram2d\": [{\"colorbar\": {\"outlinewidth\": 0, \"ticks\": \"\"}, \"colorscale\": [[0.0, \"#0d0887\"], [0.1111111111111111, \"#46039f\"], [0.2222222222222222, \"#7201a8\"], [0.3333333333333333, \"#9c179e\"], [0.4444444444444444, \"#bd3786\"], [0.5555555555555556, \"#d8576b\"], [0.6666666666666666, \"#ed7953\"], [0.7777777777777778, \"#fb9f3a\"], [0.8888888888888888, \"#fdca26\"], [1.0, \"#f0f921\"]], \"type\": \"histogram2d\"}], \"histogram2dcontour\": [{\"colorbar\": {\"outlinewidth\": 0, \"ticks\": \"\"}, \"colorscale\": [[0.0, \"#0d0887\"], [0.1111111111111111, \"#46039f\"], [0.2222222222222222, \"#7201a8\"], [0.3333333333333333, \"#9c179e\"], [0.4444444444444444, \"#bd3786\"], [0.5555555555555556, \"#d8576b\"], [0.6666666666666666, \"#ed7953\"], [0.7777777777777778, \"#fb9f3a\"], [0.8888888888888888, \"#fdca26\"], [1.0, \"#f0f921\"]], \"type\": \"histogram2dcontour\"}], \"mesh3d\": [{\"colorbar\": {\"outlinewidth\": 0, \"ticks\": \"\"}, \"type\": \"mesh3d\"}], \"parcoords\": [{\"line\": {\"colorbar\": {\"outlinewidth\": 0, \"ticks\": \"\"}}, \"type\": \"parcoords\"}], \"pie\": [{\"automargin\": true, \"type\": \"pie\"}], \"scatter\": [{\"marker\": {\"colorbar\": {\"outlinewidth\": 0, \"ticks\": \"\"}}, \"type\": \"scatter\"}], \"scatter3d\": [{\"line\": {\"colorbar\": {\"outlinewidth\": 0, \"ticks\": \"\"}}, \"marker\": {\"colorbar\": {\"outlinewidth\": 0, \"ticks\": \"\"}}, \"type\": \"scatter3d\"}], \"scattercarpet\": [{\"marker\": {\"colorbar\": {\"outlinewidth\": 0, \"ticks\": \"\"}}, \"type\": \"scattercarpet\"}], \"scattergeo\": [{\"marker\": {\"colorbar\": {\"outlinewidth\": 0, \"ticks\": \"\"}}, \"type\": \"scattergeo\"}], \"scattergl\": [{\"marker\": {\"colorbar\": {\"outlinewidth\": 0, \"ticks\": \"\"}}, \"type\": \"scattergl\"}], \"scattermapbox\": [{\"marker\": {\"colorbar\": {\"outlinewidth\": 0, \"ticks\": \"\"}}, \"type\": \"scattermapbox\"}], \"scatterpolar\": [{\"marker\": {\"colorbar\": {\"outlinewidth\": 0, \"ticks\": \"\"}}, \"type\": \"scatterpolar\"}], \"scatterpolargl\": [{\"marker\": {\"colorbar\": {\"outlinewidth\": 0, \"ticks\": \"\"}}, \"type\": \"scatterpolargl\"}], \"scatterternary\": [{\"marker\": {\"colorbar\": {\"outlinewidth\": 0, \"ticks\": \"\"}}, \"type\": \"scatterternary\"}], \"surface\": [{\"colorbar\": {\"outlinewidth\": 0, \"ticks\": \"\"}, \"colorscale\": [[0.0, \"#0d0887\"], [0.1111111111111111, \"#46039f\"], [0.2222222222222222, \"#7201a8\"], [0.3333333333333333, \"#9c179e\"], [0.4444444444444444, \"#bd3786\"], [0.5555555555555556, \"#d8576b\"], [0.6666666666666666, \"#ed7953\"], [0.7777777777777778, \"#fb9f3a\"], [0.8888888888888888, \"#fdca26\"], [1.0, \"#f0f921\"]], \"type\": \"surface\"}], \"table\": [{\"cells\": {\"fill\": {\"color\": \"#EBF0F8\"}, \"line\": {\"color\": \"white\"}}, \"header\": {\"fill\": {\"color\": \"#C8D4E3\"}, \"line\": {\"color\": \"white\"}}, \"type\": \"table\"}]}, \"layout\": {\"annotationdefaults\": {\"arrowcolor\": \"#2a3f5f\", \"arrowhead\": 0, \"arrowwidth\": 1}, \"autotypenumbers\": \"strict\", \"coloraxis\": {\"colorbar\": {\"outlinewidth\": 0, \"ticks\": \"\"}}, \"colorscale\": {\"diverging\": [[0, \"#8e0152\"], [0.1, \"#c51b7d\"], [0.2, \"#de77ae\"], [0.3, \"#f1b6da\"], [0.4, \"#fde0ef\"], [0.5, \"#f7f7f7\"], [0.6, \"#e6f5d0\"], [0.7, \"#b8e186\"], [0.8, \"#7fbc41\"], [0.9, \"#4d9221\"], [1, \"#276419\"]], \"sequential\": [[0.0, \"#0d0887\"], [0.1111111111111111, \"#46039f\"], [0.2222222222222222, \"#7201a8\"], [0.3333333333333333, \"#9c179e\"], [0.4444444444444444, \"#bd3786\"], [0.5555555555555556, \"#d8576b\"], [0.6666666666666666, \"#ed7953\"], [0.7777777777777778, \"#fb9f3a\"], [0.8888888888888888, \"#fdca26\"], [1.0, \"#f0f921\"]], \"sequentialminus\": [[0.0, \"#0d0887\"], [0.1111111111111111, \"#46039f\"], [0.2222222222222222, \"#7201a8\"], [0.3333333333333333, \"#9c179e\"], [0.4444444444444444, \"#bd3786\"], [0.5555555555555556, \"#d8576b\"], [0.6666666666666666, \"#ed7953\"], [0.7777777777777778, \"#fb9f3a\"], [0.8888888888888888, \"#fdca26\"], [1.0, \"#f0f921\"]]}, \"colorway\": [\"#636efa\", \"#EF553B\", \"#00cc96\", \"#ab63fa\", \"#FFA15A\", \"#19d3f3\", \"#FF6692\", \"#B6E880\", \"#FF97FF\", \"#FECB52\"], \"font\": {\"color\": \"#2a3f5f\"}, \"geo\": {\"bgcolor\": \"white\", \"lakecolor\": \"white\", \"landcolor\": \"#E5ECF6\", \"showlakes\": true, \"showland\": true, \"subunitcolor\": \"white\"}, \"hoverlabel\": {\"align\": \"left\"}, \"hovermode\": \"closest\", \"mapbox\": {\"style\": \"light\"}, \"paper_bgcolor\": \"white\", \"plot_bgcolor\": \"#E5ECF6\", \"polar\": {\"angularaxis\": {\"gridcolor\": \"white\", \"linecolor\": \"white\", \"ticks\": \"\"}, \"bgcolor\": \"#E5ECF6\", \"radialaxis\": {\"gridcolor\": \"white\", \"linecolor\": \"white\", \"ticks\": \"\"}}, \"scene\": {\"xaxis\": {\"backgroundcolor\": \"#E5ECF6\", \"gridcolor\": \"white\", \"gridwidth\": 2, \"linecolor\": \"white\", \"showbackground\": true, \"ticks\": \"\", \"zerolinecolor\": \"white\"}, \"yaxis\": {\"backgroundcolor\": \"#E5ECF6\", \"gridcolor\": \"white\", \"gridwidth\": 2, \"linecolor\": \"white\", \"showbackground\": true, \"ticks\": \"\", \"zerolinecolor\": \"white\"}, \"zaxis\": {\"backgroundcolor\": \"#E5ECF6\", \"gridcolor\": \"white\", \"gridwidth\": 2, \"linecolor\": \"white\", \"showbackground\": true, \"ticks\": \"\", \"zerolinecolor\": \"white\"}}, \"shapedefaults\": {\"line\": {\"color\": \"#2a3f5f\"}}, \"ternary\": {\"aaxis\": {\"gridcolor\": \"white\", \"linecolor\": \"white\", \"ticks\": \"\"}, \"baxis\": {\"gridcolor\": \"white\", \"linecolor\": \"white\", \"ticks\": \"\"}, \"bgcolor\": \"#E5ECF6\", \"caxis\": {\"gridcolor\": \"white\", \"linecolor\": \"white\", \"ticks\": \"\"}}, \"title\": {\"x\": 0.05}, \"xaxis\": {\"automargin\": true, \"gridcolor\": \"white\", \"linecolor\": \"white\", \"ticks\": \"\", \"title\": {\"standoff\": 15}, \"zerolinecolor\": \"white\", \"zerolinewidth\": 2}, \"yaxis\": {\"automargin\": true, \"gridcolor\": \"white\", \"linecolor\": \"white\", \"ticks\": \"\", \"title\": {\"standoff\": 15}, \"zerolinecolor\": \"white\", \"zerolinewidth\": 2}}}, \"title\": {\"text\": \"2016 Life Expectancy\"}},                        {\"responsive\": true}                    ).then(function(){\n",
       "                            \n",
       "var gd = document.getElementById('8ae3f8f2-820a-41dd-b39d-a26809ce3275');\n",
       "var x = new MutationObserver(function (mutations, observer) {{\n",
       "        var display = window.getComputedStyle(gd).display;\n",
       "        if (!display || display === 'none') {{\n",
       "            console.log([gd, 'removed!']);\n",
       "            Plotly.purge(gd);\n",
       "            observer.disconnect();\n",
       "        }}\n",
       "}});\n",
       "\n",
       "// Listen for the removal of the full notebook cells\n",
       "var notebookContainer = gd.closest('#notebook-container');\n",
       "if (notebookContainer) {{\n",
       "    x.observe(notebookContainer, {childList: true});\n",
       "}}\n",
       "\n",
       "// Listen for the clearing of the current output cell\n",
       "var outputEl = gd.closest('.output');\n",
       "if (outputEl) {{\n",
       "    x.observe(outputEl, {childList: true});\n",
       "}}\n",
       "\n",
       "                        })                };                });            </script>        </div>"
      ]
     },
     "metadata": {},
     "output_type": "display_data"
    }
   ],
   "source": [
    "fig.show()"
   ]
  },
  {
   "cell_type": "code",
   "execution_count": 92,
   "id": "imported-words",
   "metadata": {},
   "outputs": [
    {
     "data": {
      "text/plain": [
       "'https://plotly.com/~Lokwee/10/'"
      ]
     },
     "execution_count": 92,
     "metadata": {},
     "output_type": "execute_result"
    }
   ],
   "source": [
    "py.plot(fig, filename = '2016 Life Expectancy', auto_open=False)"
   ]
  },
  {
   "cell_type": "code",
   "execution_count": 43,
   "id": "another-proceeding",
   "metadata": {},
   "outputs": [],
   "source": [
    "data_fertility = dict(type = 'choropleth',\n",
    "            locations = df['Codes'],\n",
    "            z = df['Fertility_rate'],\n",
    "            text = df['country'],\n",
    "            colorbar = {'title': 'Fertility Rate'},\n",
    "           colorscale='Mint')"
   ]
  },
  {
   "cell_type": "code",
   "execution_count": 44,
   "id": "maritime-solomon",
   "metadata": {},
   "outputs": [],
   "source": [
    "layout_fertility = dict(title = '2016 Fertility Rate',\n",
    "             geo = dict(showframe = False,\n",
    "                       projection = {'type':'natural earth'}))"
   ]
  },
  {
   "cell_type": "code",
   "execution_count": 45,
   "id": "comfortable-notebook",
   "metadata": {},
   "outputs": [],
   "source": [
    "choromap_fertility = go.Figure(data = [data_fertility], layout = layout_fertility)"
   ]
  },
  {
   "cell_type": "code",
   "execution_count": 46,
   "id": "needed-winter",
   "metadata": {
    "scrolled": true
   },
   "outputs": [
    {
     "data": {
      "application/vnd.plotly.v1+json": {
       "config": {
        "linkText": "Export to plotly.com",
        "plotlyServerURL": "https://plotly.com",
        "showLink": false
       },
       "data": [
        {
         "colorbar": {
          "title": {
           "text": "Fertility Rate"
          }
         },
         "colorscale": [
          [
           0,
           "rgb(228, 241, 225)"
          ],
          [
           0.16666666666666666,
           "rgb(180, 217, 204)"
          ],
          [
           0.3333333333333333,
           "rgb(137, 192, 182)"
          ],
          [
           0.5,
           "rgb(99, 166, 160)"
          ],
          [
           0.6666666666666666,
           "rgb(68, 140, 138)"
          ],
          [
           0.8333333333333334,
           "rgb(40, 114, 116)"
          ],
          [
           1,
           "rgb(13, 88, 95)"
          ]
         ],
         "locations": [
          "AFG",
          "ALB",
          "DZA",
          "AGO",
          "ATG",
          "Arab World",
          "ARG",
          "ARM",
          "AUS",
          "AUT",
          "AZE",
          "BHM",
          "BHR",
          "BGD",
          "BRB",
          "BLR",
          "BEL",
          "BLZ",
          "BEN",
          "BTN",
          "BOL",
          "BIH",
          "BWA",
          "BRA",
          "BRN",
          "BGR",
          "BFA",
          "BDI",
          "CPV",
          "KHM",
          "CMR",
          "CAN",
          "Caribbean small states",
          "CAF",
          "Central Europe and the Baltics",
          "TCD",
          "CHL",
          "CHN",
          "COL",
          "COM",
          "COD",
          "COG",
          "CRI",
          "CIV",
          "HRV",
          "CUB",
          "CYP",
          "CZE",
          "DNK",
          "DJI",
          "DOM",
          "Early-demographic dividend",
          "East Asia & Pacific",
          "East Asia & Pacific (IDA & IBRD countries)",
          "East Asia & Pacific (excluding high income)",
          "ECU",
          "EGY",
          "SLV",
          "GNQ",
          "EST",
          "SWZ",
          "ETH",
          "Euro area",
          "Europe & Central Asia",
          "Europe & Central Asia (IDA & IBRD countries)",
          "Europe & Central Asia (excluding high income)",
          "European Union",
          "FJI",
          "FIN",
          "Fragile and conflict affected situations",
          "FRA",
          "GAB",
          "GMB",
          "GEO",
          "DEU",
          "GHA",
          "GRC",
          "GRD",
          "GTM",
          "GIN",
          "GNB",
          "GUY",
          "HTI",
          "Heavily indebted poor countries (HIPC)",
          "High income",
          "HND",
          "HUN",
          "ISL",
          "IND",
          "IDN",
          "IRN",
          "IRQ",
          "IRL",
          "ISR",
          "ITA",
          "JAM",
          "JPN",
          "JOR",
          "KAZ",
          "KEN",
          "KIR",
          "PRK",
          "KWT",
          "KGZ",
          "LAO",
          "Late-demographic dividend",
          "Latin America & Caribbean",
          "Latin America & Caribbean (excluding high income)",
          "Latin America & the Caribbean (IDA & IBRD countries)",
          "LVA",
          "Least developed countries: UN classification",
          "LBN",
          "LSO",
          "LBR",
          "LTU",
          "Low & middle income",
          "Low income",
          "Lower middle income",
          "LUX",
          "MDG",
          "MWI",
          "MYS",
          "MDV",
          "MLI",
          "MLT",
          "MRT",
          "MUS",
          "MEX",
          "FSM",
          "Middle East & North Africa",
          "Middle East & North Africa (IDA & IBRD countries)",
          "Middle East & North Africa (excluding high income)",
          "Middle income",
          "MDA",
          "MNG",
          "MAR",
          "MOZ",
          "MMR",
          "NAM",
          "NPL",
          "NLD",
          "NZL",
          "NIC",
          "NER",
          "NGA",
          "North America",
          "MKD",
          "NOR",
          "OECD members",
          "OMN",
          "Other small states",
          "Pacific island small states",
          "PAK",
          "PAN",
          "PNG",
          "PRY",
          "PER",
          "PHL",
          "POL",
          "PRT",
          "Post-demographic dividend",
          "Pre-demographic dividend",
          "QAT",
          "ROU",
          "RUS",
          "RWA",
          "WSM",
          "STP",
          "SAU",
          "SEN",
          "SRB",
          "SYC",
          "SLE",
          "SGP",
          "SVK",
          "SVN",
          "Small states",
          "SLB",
          "ZAF",
          "South Asia",
          "South Asia (IDA & IBRD)",
          "ESP",
          "LKA",
          "LCA",
          "VCT",
          "Sub-Saharan Africa",
          "Sub-Saharan Africa (IDA & IBRD countries)",
          "Sub-Saharan Africa (excluding high income)",
          "SUR",
          "SWE",
          "CHE",
          "TJK",
          "TZA",
          "THA",
          "TLS",
          "TGO",
          "TON",
          "TTO",
          "TUN",
          "TUR",
          "TKM",
          "UGA",
          "UKR",
          "ARE",
          "GBR",
          "USA",
          "Upper middle income",
          "URY",
          "UZB",
          "VUT",
          "VNM",
          "World",
          "ZMB",
          "ZWE"
         ],
         "text": [
          "Afghanistan",
          "Albania",
          "Algeria",
          "Angola",
          "Antigua and Barbuda",
          "Arab World",
          "Argentina",
          "Armenia",
          "Australia",
          "Austria",
          "Azerbaijan",
          "Bahamas, The",
          "Bahrain",
          "Bangladesh",
          "Barbados",
          "Belarus",
          "Belgium",
          "Belize",
          "Benin",
          "Bhutan",
          "Bolivia",
          "Bosnia and Herzegovina",
          "Botswana",
          "Brazil",
          "Brunei Darussalam",
          "Bulgaria",
          "Burkina Faso",
          "Burundi",
          "Cabo Verde",
          "Cambodia",
          "Cameroon",
          "Canada",
          "Caribbean small states",
          "Central African Republic",
          "Central Europe and the Baltics",
          "Chad",
          "Chile",
          "China",
          "Colombia",
          "Comoros",
          "Congo, Dem. Rep.",
          "Congo, Rep.",
          "Costa Rica",
          "Cote d'Ivoire",
          "Croatia",
          "Cuba",
          "Cyprus",
          "Czech Republic",
          "Denmark",
          "Djibouti",
          "Dominican Republic",
          "Early-demographic dividend",
          "East Asia & Pacific",
          "East Asia & Pacific (IDA & IBRD countries)",
          "East Asia & Pacific (excluding high income)",
          "Ecuador",
          "Egypt, Arab Rep.",
          "El Salvador",
          "Equatorial Guinea",
          "Estonia",
          "Eswatini",
          "Ethiopia",
          "Euro area",
          "Europe & Central Asia",
          "Europe & Central Asia (IDA & IBRD countries)",
          "Europe & Central Asia (excluding high income)",
          "European Union",
          "Fiji",
          "Finland",
          "Fragile and conflict affected situations",
          "France",
          "Gabon",
          "Gambia, The",
          "Georgia",
          "Germany",
          "Ghana",
          "Greece",
          "Grenada",
          "Guatemala",
          "Guinea",
          "Guinea-Bissau",
          "Guyana",
          "Haiti",
          "Heavily indebted poor countries (HIPC)",
          "High income",
          "Honduras",
          "Hungary",
          "Iceland",
          "India",
          "Indonesia",
          "Iran, Islamic Rep.",
          "Iraq",
          "Ireland",
          "Israel",
          "Italy",
          "Jamaica",
          "Japan",
          "Jordan",
          "Kazakhstan",
          "Kenya",
          "Kiribati",
          "Korea, Rep.",
          "Kuwait",
          "Kyrgyz Republic",
          "Lao PDR",
          "Late-demographic dividend",
          "Latin America & Caribbean",
          "Latin America & Caribbean (excluding high income)",
          "Latin America & the Caribbean (IDA & IBRD countries)",
          "Latvia",
          "Least developed countries: UN classification",
          "Lebanon",
          "Lesotho",
          "Liberia",
          "Lithuania",
          "Low & middle income",
          "Low income",
          "Lower middle income",
          "Luxembourg",
          "Madagascar",
          "Malawi",
          "Malaysia",
          "Maldives",
          "Mali",
          "Malta",
          "Mauritania",
          "Mauritius",
          "Mexico",
          "Micronesia, Fed. Sts.",
          "Middle East & North Africa",
          "Middle East & North Africa (IDA & IBRD countries)",
          "Middle East & North Africa (excluding high income)",
          "Middle income",
          "Moldova",
          "Mongolia",
          "Morocco",
          "Mozambique",
          "Myanmar",
          "Namibia",
          "Nepal",
          "Netherlands",
          "New Zealand",
          "Nicaragua",
          "Niger",
          "Nigeria",
          "North America",
          "North Macedonia",
          "Norway",
          "OECD members",
          "Oman",
          "Other small states",
          "Pacific island small states",
          "Pakistan",
          "Panama",
          "Papua New Guinea",
          "Paraguay",
          "Peru",
          "Philippines",
          "Poland",
          "Portugal",
          "Post-demographic dividend",
          "Pre-demographic dividend",
          "Qatar",
          "Romania",
          "Russian Federation",
          "Rwanda",
          "Samoa",
          "Sao Tome and Principe",
          "Saudi Arabia",
          "Senegal",
          "Serbia",
          "Seychelles",
          "Sierra Leone",
          "Singapore",
          "Slovak Republic",
          "Slovenia",
          "Small states",
          "Solomon Islands",
          "South Africa",
          "South Asia",
          "South Asia (IDA & IBRD)",
          "Spain",
          "Sri Lanka",
          "St. Lucia",
          "St. Vincent and the Grenadines",
          "Sub-Saharan Africa",
          "Sub-Saharan Africa (IDA & IBRD countries)",
          "Sub-Saharan Africa (excluding high income)",
          "Suriname",
          "Sweden",
          "Switzerland",
          "Tajikistan",
          "Tanzania",
          "Thailand",
          "Timor-Leste",
          "Togo",
          "Tonga",
          "Trinidad and Tobago",
          "Tunisia",
          "Turkey",
          "Turkmenistan",
          "Uganda",
          "Ukraine",
          "United Arab Emirates",
          "United Kingdom",
          "United States",
          "Upper middle income",
          "Uruguay",
          "Uzbekistan",
          "Vanuatu",
          "Vietnam",
          "World",
          "Zambia",
          "Zimbabwe"
         ],
         "type": "choropleth",
         "z": [
          4.8,
          1.659,
          3.052,
          5.686,
          2.003,
          3.32246533147491,
          2.288,
          1.744,
          1.752,
          1.53,
          1.9,
          1.771,
          2.033,
          2.09,
          1.613,
          1.733,
          1.68,
          2.391,
          4.977,
          2.014,
          2.829,
          1.286,
          2.942,
          1.747,
          1.915,
          1.54,
          5.353,
          5.599,
          2.346,
          2.559,
          4.708,
          1.5433,
          2.02764540052152,
          4.87,
          1.52216388042765,
          5.947,
          1.713,
          1.675,
          1.843,
          4.347,
          6.112,
          4.536,
          1.789,
          4.759,
          1.43,
          1.656,
          1.345,
          1.63,
          1.79,
          2.846,
          2.387,
          2.54152157507218,
          1.82961160241107,
          1.87578391580701,
          1.87629990470195,
          2.475,
          3.41,
          2.079,
          4.686,
          1.6,
          3.041,
          4.456,
          1.56899980444345,
          1.77186037717403,
          1.91502352167903,
          1.97831814116841,
          1.56624109139292,
          2.797,
          1.57,
          4.64152473727277,
          1.92,
          4.039,
          5.338,
          2.059,
          1.6,
          3.984,
          1.38,
          2.104,
          2.973,
          4.854,
          4.631,
          2.509,
          3.041,
          4.8623332415855,
          1.6595367197349,
          2.536,
          1.53,
          1.74,
          2.266,
          2.362,
          2.083,
          3.864,
          1.81,
          3.11,
          1.34,
          2.009,
          1.44,
          2.954,
          2.77,
          3.663,
          3.651,
          1.172,
          2.082,
          3.1,
          2.751,
          1.74628172543982,
          2.06541339658598,
          2.07852085349687,
          2.07666954141067,
          1.74,
          4.11695694260902,
          2.104,
          3.197,
          4.461,
          1.69,
          2.58220784913751,
          4.76162256373156,
          2.82009773297274,
          1.41,
          4.184,
          4.407,
          2.037,
          1.947,
          6.057,
          1.37,
          4.679,
          1.4,
          2.186,
          3.145,
          2.86693254292582,
          2.93126518162217,
          2.94138968212105,
          2.36096081045658,
          1.259,
          2.923,
          2.489,
          4.992,
          2.182,
          3.496,
          2.027,
          1.66,
          1.87,
          2.455,
          7.087,
          5.526,
          1.7925235840092,
          1.506,
          1.71,
          1.74063262840637,
          2.937,
          3.10506634845747,
          3.55535270948386,
          3.612,
          2.514,
          3.657,
          2.479,
          2.297,
          2.718,
          1.39,
          1.36,
          1.62335541175064,
          5.10432139095006,
          1.907,
          1.69,
          1.762,
          4.123,
          3.976,
          4.426,
          2.435,
          4.77,
          1.46,
          2.39,
          4.457,
          1.2,
          1.48,
          1.58,
          2.91937662174616,
          4.452,
          2.457,
          2.43806111280007,
          2.43806111280007,
          1.34,
          2.211,
          1.461,
          1.931,
          4.83866068447274,
          4.83866068447274,
          4.84344627089137,
          2.469,
          1.85,
          1.54,
          3.618,
          5.015,
          1.537,
          4.156,
          4.449,
          3.636,
          1.753,
          2.238,
          2.092,
          2.887,
          5.242,
          1.466,
          1.491,
          1.79,
          1.8205,
          1.91058925025361,
          1.991,
          2.455,
          3.859,
          2.03,
          2.44561855092919,
          4.814,
          3.804
         ]
        }
       ],
       "layout": {
        "geo": {
         "projection": {
          "type": "natural earth"
         },
         "showframe": false
        },
        "template": {
         "data": {
          "bar": [
           {
            "error_x": {
             "color": "#2a3f5f"
            },
            "error_y": {
             "color": "#2a3f5f"
            },
            "marker": {
             "line": {
              "color": "#E5ECF6",
              "width": 0.5
             }
            },
            "type": "bar"
           }
          ],
          "barpolar": [
           {
            "marker": {
             "line": {
              "color": "#E5ECF6",
              "width": 0.5
             }
            },
            "type": "barpolar"
           }
          ],
          "carpet": [
           {
            "aaxis": {
             "endlinecolor": "#2a3f5f",
             "gridcolor": "white",
             "linecolor": "white",
             "minorgridcolor": "white",
             "startlinecolor": "#2a3f5f"
            },
            "baxis": {
             "endlinecolor": "#2a3f5f",
             "gridcolor": "white",
             "linecolor": "white",
             "minorgridcolor": "white",
             "startlinecolor": "#2a3f5f"
            },
            "type": "carpet"
           }
          ],
          "choropleth": [
           {
            "colorbar": {
             "outlinewidth": 0,
             "ticks": ""
            },
            "type": "choropleth"
           }
          ],
          "contour": [
           {
            "colorbar": {
             "outlinewidth": 0,
             "ticks": ""
            },
            "colorscale": [
             [
              0,
              "#0d0887"
             ],
             [
              0.1111111111111111,
              "#46039f"
             ],
             [
              0.2222222222222222,
              "#7201a8"
             ],
             [
              0.3333333333333333,
              "#9c179e"
             ],
             [
              0.4444444444444444,
              "#bd3786"
             ],
             [
              0.5555555555555556,
              "#d8576b"
             ],
             [
              0.6666666666666666,
              "#ed7953"
             ],
             [
              0.7777777777777778,
              "#fb9f3a"
             ],
             [
              0.8888888888888888,
              "#fdca26"
             ],
             [
              1,
              "#f0f921"
             ]
            ],
            "type": "contour"
           }
          ],
          "contourcarpet": [
           {
            "colorbar": {
             "outlinewidth": 0,
             "ticks": ""
            },
            "type": "contourcarpet"
           }
          ],
          "heatmap": [
           {
            "colorbar": {
             "outlinewidth": 0,
             "ticks": ""
            },
            "colorscale": [
             [
              0,
              "#0d0887"
             ],
             [
              0.1111111111111111,
              "#46039f"
             ],
             [
              0.2222222222222222,
              "#7201a8"
             ],
             [
              0.3333333333333333,
              "#9c179e"
             ],
             [
              0.4444444444444444,
              "#bd3786"
             ],
             [
              0.5555555555555556,
              "#d8576b"
             ],
             [
              0.6666666666666666,
              "#ed7953"
             ],
             [
              0.7777777777777778,
              "#fb9f3a"
             ],
             [
              0.8888888888888888,
              "#fdca26"
             ],
             [
              1,
              "#f0f921"
             ]
            ],
            "type": "heatmap"
           }
          ],
          "heatmapgl": [
           {
            "colorbar": {
             "outlinewidth": 0,
             "ticks": ""
            },
            "colorscale": [
             [
              0,
              "#0d0887"
             ],
             [
              0.1111111111111111,
              "#46039f"
             ],
             [
              0.2222222222222222,
              "#7201a8"
             ],
             [
              0.3333333333333333,
              "#9c179e"
             ],
             [
              0.4444444444444444,
              "#bd3786"
             ],
             [
              0.5555555555555556,
              "#d8576b"
             ],
             [
              0.6666666666666666,
              "#ed7953"
             ],
             [
              0.7777777777777778,
              "#fb9f3a"
             ],
             [
              0.8888888888888888,
              "#fdca26"
             ],
             [
              1,
              "#f0f921"
             ]
            ],
            "type": "heatmapgl"
           }
          ],
          "histogram": [
           {
            "marker": {
             "colorbar": {
              "outlinewidth": 0,
              "ticks": ""
             }
            },
            "type": "histogram"
           }
          ],
          "histogram2d": [
           {
            "colorbar": {
             "outlinewidth": 0,
             "ticks": ""
            },
            "colorscale": [
             [
              0,
              "#0d0887"
             ],
             [
              0.1111111111111111,
              "#46039f"
             ],
             [
              0.2222222222222222,
              "#7201a8"
             ],
             [
              0.3333333333333333,
              "#9c179e"
             ],
             [
              0.4444444444444444,
              "#bd3786"
             ],
             [
              0.5555555555555556,
              "#d8576b"
             ],
             [
              0.6666666666666666,
              "#ed7953"
             ],
             [
              0.7777777777777778,
              "#fb9f3a"
             ],
             [
              0.8888888888888888,
              "#fdca26"
             ],
             [
              1,
              "#f0f921"
             ]
            ],
            "type": "histogram2d"
           }
          ],
          "histogram2dcontour": [
           {
            "colorbar": {
             "outlinewidth": 0,
             "ticks": ""
            },
            "colorscale": [
             [
              0,
              "#0d0887"
             ],
             [
              0.1111111111111111,
              "#46039f"
             ],
             [
              0.2222222222222222,
              "#7201a8"
             ],
             [
              0.3333333333333333,
              "#9c179e"
             ],
             [
              0.4444444444444444,
              "#bd3786"
             ],
             [
              0.5555555555555556,
              "#d8576b"
             ],
             [
              0.6666666666666666,
              "#ed7953"
             ],
             [
              0.7777777777777778,
              "#fb9f3a"
             ],
             [
              0.8888888888888888,
              "#fdca26"
             ],
             [
              1,
              "#f0f921"
             ]
            ],
            "type": "histogram2dcontour"
           }
          ],
          "mesh3d": [
           {
            "colorbar": {
             "outlinewidth": 0,
             "ticks": ""
            },
            "type": "mesh3d"
           }
          ],
          "parcoords": [
           {
            "line": {
             "colorbar": {
              "outlinewidth": 0,
              "ticks": ""
             }
            },
            "type": "parcoords"
           }
          ],
          "pie": [
           {
            "automargin": true,
            "type": "pie"
           }
          ],
          "scatter": [
           {
            "marker": {
             "colorbar": {
              "outlinewidth": 0,
              "ticks": ""
             }
            },
            "type": "scatter"
           }
          ],
          "scatter3d": [
           {
            "line": {
             "colorbar": {
              "outlinewidth": 0,
              "ticks": ""
             }
            },
            "marker": {
             "colorbar": {
              "outlinewidth": 0,
              "ticks": ""
             }
            },
            "type": "scatter3d"
           }
          ],
          "scattercarpet": [
           {
            "marker": {
             "colorbar": {
              "outlinewidth": 0,
              "ticks": ""
             }
            },
            "type": "scattercarpet"
           }
          ],
          "scattergeo": [
           {
            "marker": {
             "colorbar": {
              "outlinewidth": 0,
              "ticks": ""
             }
            },
            "type": "scattergeo"
           }
          ],
          "scattergl": [
           {
            "marker": {
             "colorbar": {
              "outlinewidth": 0,
              "ticks": ""
             }
            },
            "type": "scattergl"
           }
          ],
          "scattermapbox": [
           {
            "marker": {
             "colorbar": {
              "outlinewidth": 0,
              "ticks": ""
             }
            },
            "type": "scattermapbox"
           }
          ],
          "scatterpolar": [
           {
            "marker": {
             "colorbar": {
              "outlinewidth": 0,
              "ticks": ""
             }
            },
            "type": "scatterpolar"
           }
          ],
          "scatterpolargl": [
           {
            "marker": {
             "colorbar": {
              "outlinewidth": 0,
              "ticks": ""
             }
            },
            "type": "scatterpolargl"
           }
          ],
          "scatterternary": [
           {
            "marker": {
             "colorbar": {
              "outlinewidth": 0,
              "ticks": ""
             }
            },
            "type": "scatterternary"
           }
          ],
          "surface": [
           {
            "colorbar": {
             "outlinewidth": 0,
             "ticks": ""
            },
            "colorscale": [
             [
              0,
              "#0d0887"
             ],
             [
              0.1111111111111111,
              "#46039f"
             ],
             [
              0.2222222222222222,
              "#7201a8"
             ],
             [
              0.3333333333333333,
              "#9c179e"
             ],
             [
              0.4444444444444444,
              "#bd3786"
             ],
             [
              0.5555555555555556,
              "#d8576b"
             ],
             [
              0.6666666666666666,
              "#ed7953"
             ],
             [
              0.7777777777777778,
              "#fb9f3a"
             ],
             [
              0.8888888888888888,
              "#fdca26"
             ],
             [
              1,
              "#f0f921"
             ]
            ],
            "type": "surface"
           }
          ],
          "table": [
           {
            "cells": {
             "fill": {
              "color": "#EBF0F8"
             },
             "line": {
              "color": "white"
             }
            },
            "header": {
             "fill": {
              "color": "#C8D4E3"
             },
             "line": {
              "color": "white"
             }
            },
            "type": "table"
           }
          ]
         },
         "layout": {
          "annotationdefaults": {
           "arrowcolor": "#2a3f5f",
           "arrowhead": 0,
           "arrowwidth": 1
          },
          "autotypenumbers": "strict",
          "coloraxis": {
           "colorbar": {
            "outlinewidth": 0,
            "ticks": ""
           }
          },
          "colorscale": {
           "diverging": [
            [
             0,
             "#8e0152"
            ],
            [
             0.1,
             "#c51b7d"
            ],
            [
             0.2,
             "#de77ae"
            ],
            [
             0.3,
             "#f1b6da"
            ],
            [
             0.4,
             "#fde0ef"
            ],
            [
             0.5,
             "#f7f7f7"
            ],
            [
             0.6,
             "#e6f5d0"
            ],
            [
             0.7,
             "#b8e186"
            ],
            [
             0.8,
             "#7fbc41"
            ],
            [
             0.9,
             "#4d9221"
            ],
            [
             1,
             "#276419"
            ]
           ],
           "sequential": [
            [
             0,
             "#0d0887"
            ],
            [
             0.1111111111111111,
             "#46039f"
            ],
            [
             0.2222222222222222,
             "#7201a8"
            ],
            [
             0.3333333333333333,
             "#9c179e"
            ],
            [
             0.4444444444444444,
             "#bd3786"
            ],
            [
             0.5555555555555556,
             "#d8576b"
            ],
            [
             0.6666666666666666,
             "#ed7953"
            ],
            [
             0.7777777777777778,
             "#fb9f3a"
            ],
            [
             0.8888888888888888,
             "#fdca26"
            ],
            [
             1,
             "#f0f921"
            ]
           ],
           "sequentialminus": [
            [
             0,
             "#0d0887"
            ],
            [
             0.1111111111111111,
             "#46039f"
            ],
            [
             0.2222222222222222,
             "#7201a8"
            ],
            [
             0.3333333333333333,
             "#9c179e"
            ],
            [
             0.4444444444444444,
             "#bd3786"
            ],
            [
             0.5555555555555556,
             "#d8576b"
            ],
            [
             0.6666666666666666,
             "#ed7953"
            ],
            [
             0.7777777777777778,
             "#fb9f3a"
            ],
            [
             0.8888888888888888,
             "#fdca26"
            ],
            [
             1,
             "#f0f921"
            ]
           ]
          },
          "colorway": [
           "#636efa",
           "#EF553B",
           "#00cc96",
           "#ab63fa",
           "#FFA15A",
           "#19d3f3",
           "#FF6692",
           "#B6E880",
           "#FF97FF",
           "#FECB52"
          ],
          "font": {
           "color": "#2a3f5f"
          },
          "geo": {
           "bgcolor": "white",
           "lakecolor": "white",
           "landcolor": "#E5ECF6",
           "showlakes": true,
           "showland": true,
           "subunitcolor": "white"
          },
          "hoverlabel": {
           "align": "left"
          },
          "hovermode": "closest",
          "mapbox": {
           "style": "light"
          },
          "paper_bgcolor": "white",
          "plot_bgcolor": "#E5ECF6",
          "polar": {
           "angularaxis": {
            "gridcolor": "white",
            "linecolor": "white",
            "ticks": ""
           },
           "bgcolor": "#E5ECF6",
           "radialaxis": {
            "gridcolor": "white",
            "linecolor": "white",
            "ticks": ""
           }
          },
          "scene": {
           "xaxis": {
            "backgroundcolor": "#E5ECF6",
            "gridcolor": "white",
            "gridwidth": 2,
            "linecolor": "white",
            "showbackground": true,
            "ticks": "",
            "zerolinecolor": "white"
           },
           "yaxis": {
            "backgroundcolor": "#E5ECF6",
            "gridcolor": "white",
            "gridwidth": 2,
            "linecolor": "white",
            "showbackground": true,
            "ticks": "",
            "zerolinecolor": "white"
           },
           "zaxis": {
            "backgroundcolor": "#E5ECF6",
            "gridcolor": "white",
            "gridwidth": 2,
            "linecolor": "white",
            "showbackground": true,
            "ticks": "",
            "zerolinecolor": "white"
           }
          },
          "shapedefaults": {
           "line": {
            "color": "#2a3f5f"
           }
          },
          "ternary": {
           "aaxis": {
            "gridcolor": "white",
            "linecolor": "white",
            "ticks": ""
           },
           "baxis": {
            "gridcolor": "white",
            "linecolor": "white",
            "ticks": ""
           },
           "bgcolor": "#E5ECF6",
           "caxis": {
            "gridcolor": "white",
            "linecolor": "white",
            "ticks": ""
           }
          },
          "title": {
           "x": 0.05
          },
          "xaxis": {
           "automargin": true,
           "gridcolor": "white",
           "linecolor": "white",
           "ticks": "",
           "title": {
            "standoff": 15
           },
           "zerolinecolor": "white",
           "zerolinewidth": 2
          },
          "yaxis": {
           "automargin": true,
           "gridcolor": "white",
           "linecolor": "white",
           "ticks": "",
           "title": {
            "standoff": 15
           },
           "zerolinecolor": "white",
           "zerolinewidth": 2
          }
         }
        },
        "title": {
         "text": "2016 Fertility Rate"
        }
       }
      },
      "text/html": [
       "<div>                            <div id=\"e421169b-eb55-46e1-a4cc-e8f82dc352c6\" class=\"plotly-graph-div\" style=\"height:525px; width:100%;\"></div>            <script type=\"text/javascript\">                require([\"plotly\"], function(Plotly) {                    window.PLOTLYENV=window.PLOTLYENV || {};                                    if (document.getElementById(\"e421169b-eb55-46e1-a4cc-e8f82dc352c6\")) {                    Plotly.newPlot(                        \"e421169b-eb55-46e1-a4cc-e8f82dc352c6\",                        [{\"colorbar\": {\"title\": {\"text\": \"Fertility Rate\"}}, \"colorscale\": [[0.0, \"rgb(228, 241, 225)\"], [0.16666666666666666, \"rgb(180, 217, 204)\"], [0.3333333333333333, \"rgb(137, 192, 182)\"], [0.5, \"rgb(99, 166, 160)\"], [0.6666666666666666, \"rgb(68, 140, 138)\"], [0.8333333333333334, \"rgb(40, 114, 116)\"], [1.0, \"rgb(13, 88, 95)\"]], \"locations\": [\"AFG\", \"ALB\", \"DZA\", \"AGO\", \"ATG\", \"Arab World\", \"ARG\", \"ARM\", \"AUS\", \"AUT\", \"AZE\", \"BHM\", \"BHR\", \"BGD\", \"BRB\", \"BLR\", \"BEL\", \"BLZ\", \"BEN\", \"BTN\", \"BOL\", \"BIH\", \"BWA\", \"BRA\", \"BRN\", \"BGR\", \"BFA\", \"BDI\", \"CPV\", \"KHM\", \"CMR\", \"CAN\", \"Caribbean small states\", \"CAF\", \"Central Europe and the Baltics\", \"TCD\", \"CHL\", \"CHN\", \"COL\", \"COM\", \"COD\", \"COG\", \"CRI\", \"CIV\", \"HRV\", \"CUB\", \"CYP\", \"CZE\", \"DNK\", \"DJI\", \"DOM\", \"Early-demographic dividend\", \"East Asia & Pacific\", \"East Asia & Pacific (IDA & IBRD countries)\", \"East Asia & Pacific (excluding high income)\", \"ECU\", \"EGY\", \"SLV\", \"GNQ\", \"EST\", \"SWZ\", \"ETH\", \"Euro area\", \"Europe & Central Asia\", \"Europe & Central Asia (IDA & IBRD countries)\", \"Europe & Central Asia (excluding high income)\", \"European Union\", \"FJI\", \"FIN\", \"Fragile and conflict affected situations\", \"FRA\", \"GAB\", \"GMB\", \"GEO\", \"DEU\", \"GHA\", \"GRC\", \"GRD\", \"GTM\", \"GIN\", \"GNB\", \"GUY\", \"HTI\", \"Heavily indebted poor countries (HIPC)\", \"High income\", \"HND\", \"HUN\", \"ISL\", \"IND\", \"IDN\", \"IRN\", \"IRQ\", \"IRL\", \"ISR\", \"ITA\", \"JAM\", \"JPN\", \"JOR\", \"KAZ\", \"KEN\", \"KIR\", \"PRK\", \"KWT\", \"KGZ\", \"LAO\", \"Late-demographic dividend\", \"Latin America & Caribbean\", \"Latin America & Caribbean (excluding high income)\", \"Latin America & the Caribbean (IDA & IBRD countries)\", \"LVA\", \"Least developed countries: UN classification\", \"LBN\", \"LSO\", \"LBR\", \"LTU\", \"Low & middle income\", \"Low income\", \"Lower middle income\", \"LUX\", \"MDG\", \"MWI\", \"MYS\", \"MDV\", \"MLI\", \"MLT\", \"MRT\", \"MUS\", \"MEX\", \"FSM\", \"Middle East & North Africa\", \"Middle East & North Africa (IDA & IBRD countries)\", \"Middle East & North Africa (excluding high income)\", \"Middle income\", \"MDA\", \"MNG\", \"MAR\", \"MOZ\", \"MMR\", \"NAM\", \"NPL\", \"NLD\", \"NZL\", \"NIC\", \"NER\", \"NGA\", \"North America\", \"MKD\", \"NOR\", \"OECD members\", \"OMN\", \"Other small states\", \"Pacific island small states\", \"PAK\", \"PAN\", \"PNG\", \"PRY\", \"PER\", \"PHL\", \"POL\", \"PRT\", \"Post-demographic dividend\", \"Pre-demographic dividend\", \"QAT\", \"ROU\", \"RUS\", \"RWA\", \"WSM\", \"STP\", \"SAU\", \"SEN\", \"SRB\", \"SYC\", \"SLE\", \"SGP\", \"SVK\", \"SVN\", \"Small states\", \"SLB\", \"ZAF\", \"South Asia\", \"South Asia (IDA & IBRD)\", \"ESP\", \"LKA\", \"LCA\", \"VCT\", \"Sub-Saharan Africa\", \"Sub-Saharan Africa (IDA & IBRD countries)\", \"Sub-Saharan Africa (excluding high income)\", \"SUR\", \"SWE\", \"CHE\", \"TJK\", \"TZA\", \"THA\", \"TLS\", \"TGO\", \"TON\", \"TTO\", \"TUN\", \"TUR\", \"TKM\", \"UGA\", \"UKR\", \"ARE\", \"GBR\", \"USA\", \"Upper middle income\", \"URY\", \"UZB\", \"VUT\", \"VNM\", \"World\", \"ZMB\", \"ZWE\"], \"text\": [\"Afghanistan\", \"Albania\", \"Algeria\", \"Angola\", \"Antigua and Barbuda\", \"Arab World\", \"Argentina\", \"Armenia\", \"Australia\", \"Austria\", \"Azerbaijan\", \"Bahamas, The\", \"Bahrain\", \"Bangladesh\", \"Barbados\", \"Belarus\", \"Belgium\", \"Belize\", \"Benin\", \"Bhutan\", \"Bolivia\", \"Bosnia and Herzegovina\", \"Botswana\", \"Brazil\", \"Brunei Darussalam\", \"Bulgaria\", \"Burkina Faso\", \"Burundi\", \"Cabo Verde\", \"Cambodia\", \"Cameroon\", \"Canada\", \"Caribbean small states\", \"Central African Republic\", \"Central Europe and the Baltics\", \"Chad\", \"Chile\", \"China\", \"Colombia\", \"Comoros\", \"Congo, Dem. Rep.\", \"Congo, Rep.\", \"Costa Rica\", \"Cote d'Ivoire\", \"Croatia\", \"Cuba\", \"Cyprus\", \"Czech Republic\", \"Denmark\", \"Djibouti\", \"Dominican Republic\", \"Early-demographic dividend\", \"East Asia & Pacific\", \"East Asia & Pacific (IDA & IBRD countries)\", \"East Asia & Pacific (excluding high income)\", \"Ecuador\", \"Egypt, Arab Rep.\", \"El Salvador\", \"Equatorial Guinea\", \"Estonia\", \"Eswatini\", \"Ethiopia\", \"Euro area\", \"Europe & Central Asia\", \"Europe & Central Asia (IDA & IBRD countries)\", \"Europe & Central Asia (excluding high income)\", \"European Union\", \"Fiji\", \"Finland\", \"Fragile and conflict affected situations\", \"France\", \"Gabon\", \"Gambia, The\", \"Georgia\", \"Germany\", \"Ghana\", \"Greece\", \"Grenada\", \"Guatemala\", \"Guinea\", \"Guinea-Bissau\", \"Guyana\", \"Haiti\", \"Heavily indebted poor countries (HIPC)\", \"High income\", \"Honduras\", \"Hungary\", \"Iceland\", \"India\", \"Indonesia\", \"Iran, Islamic Rep.\", \"Iraq\", \"Ireland\", \"Israel\", \"Italy\", \"Jamaica\", \"Japan\", \"Jordan\", \"Kazakhstan\", \"Kenya\", \"Kiribati\", \"Korea, Rep.\", \"Kuwait\", \"Kyrgyz Republic\", \"Lao PDR\", \"Late-demographic dividend\", \"Latin America & Caribbean\", \"Latin America & Caribbean (excluding high income)\", \"Latin America & the Caribbean (IDA & IBRD countries)\", \"Latvia\", \"Least developed countries: UN classification\", \"Lebanon\", \"Lesotho\", \"Liberia\", \"Lithuania\", \"Low & middle income\", \"Low income\", \"Lower middle income\", \"Luxembourg\", \"Madagascar\", \"Malawi\", \"Malaysia\", \"Maldives\", \"Mali\", \"Malta\", \"Mauritania\", \"Mauritius\", \"Mexico\", \"Micronesia, Fed. Sts.\", \"Middle East & North Africa\", \"Middle East & North Africa (IDA & IBRD countries)\", \"Middle East & North Africa (excluding high income)\", \"Middle income\", \"Moldova\", \"Mongolia\", \"Morocco\", \"Mozambique\", \"Myanmar\", \"Namibia\", \"Nepal\", \"Netherlands\", \"New Zealand\", \"Nicaragua\", \"Niger\", \"Nigeria\", \"North America\", \"North Macedonia\", \"Norway\", \"OECD members\", \"Oman\", \"Other small states\", \"Pacific island small states\", \"Pakistan\", \"Panama\", \"Papua New Guinea\", \"Paraguay\", \"Peru\", \"Philippines\", \"Poland\", \"Portugal\", \"Post-demographic dividend\", \"Pre-demographic dividend\", \"Qatar\", \"Romania\", \"Russian Federation\", \"Rwanda\", \"Samoa\", \"Sao Tome and Principe\", \"Saudi Arabia\", \"Senegal\", \"Serbia\", \"Seychelles\", \"Sierra Leone\", \"Singapore\", \"Slovak Republic\", \"Slovenia\", \"Small states\", \"Solomon Islands\", \"South Africa\", \"South Asia\", \"South Asia (IDA & IBRD)\", \"Spain\", \"Sri Lanka\", \"St. Lucia\", \"St. Vincent and the Grenadines\", \"Sub-Saharan Africa\", \"Sub-Saharan Africa (IDA & IBRD countries)\", \"Sub-Saharan Africa (excluding high income)\", \"Suriname\", \"Sweden\", \"Switzerland\", \"Tajikistan\", \"Tanzania\", \"Thailand\", \"Timor-Leste\", \"Togo\", \"Tonga\", \"Trinidad and Tobago\", \"Tunisia\", \"Turkey\", \"Turkmenistan\", \"Uganda\", \"Ukraine\", \"United Arab Emirates\", \"United Kingdom\", \"United States\", \"Upper middle income\", \"Uruguay\", \"Uzbekistan\", \"Vanuatu\", \"Vietnam\", \"World\", \"Zambia\", \"Zimbabwe\"], \"type\": \"choropleth\", \"z\": [4.8, 1.659, 3.052, 5.686, 2.003, 3.32246533147491, 2.288, 1.744, 1.752, 1.53, 1.9, 1.771, 2.033, 2.09, 1.613, 1.733, 1.68, 2.391, 4.977, 2.014, 2.829, 1.286, 2.942, 1.747, 1.915, 1.54, 5.353, 5.599, 2.346, 2.559, 4.708, 1.5433, 2.02764540052152, 4.87, 1.52216388042765, 5.947, 1.713, 1.675, 1.843, 4.347, 6.112, 4.536, 1.789, 4.759, 1.43, 1.656, 1.345, 1.63, 1.79, 2.846, 2.387, 2.54152157507218, 1.82961160241107, 1.87578391580701, 1.87629990470195, 2.475, 3.41, 2.079, 4.686, 1.6, 3.041, 4.456, 1.56899980444345, 1.77186037717403, 1.91502352167903, 1.97831814116841, 1.56624109139292, 2.797, 1.57, 4.64152473727277, 1.92, 4.039, 5.338, 2.059, 1.6, 3.984, 1.38, 2.104, 2.973, 4.854, 4.631, 2.509, 3.041, 4.8623332415855, 1.6595367197349, 2.536, 1.53, 1.74, 2.266, 2.362, 2.083, 3.864, 1.81, 3.11, 1.34, 2.009, 1.44, 2.954, 2.77, 3.663, 3.651, 1.172, 2.082, 3.1, 2.751, 1.74628172543982, 2.06541339658598, 2.07852085349687, 2.07666954141067, 1.74, 4.11695694260902, 2.104, 3.197, 4.461, 1.69, 2.58220784913751, 4.76162256373156, 2.82009773297274, 1.41, 4.184, 4.407, 2.037, 1.947, 6.057, 1.37, 4.679, 1.4, 2.186, 3.145, 2.86693254292582, 2.93126518162217, 2.94138968212105, 2.36096081045658, 1.259, 2.923, 2.489, 4.992, 2.182, 3.496, 2.027, 1.66, 1.87, 2.455, 7.087, 5.526, 1.7925235840092, 1.506, 1.71, 1.74063262840637, 2.937, 3.10506634845747, 3.55535270948386, 3.612, 2.514, 3.657, 2.479, 2.297, 2.718, 1.39, 1.36, 1.62335541175064, 5.10432139095006, 1.907, 1.69, 1.762, 4.123, 3.976, 4.426, 2.435, 4.77, 1.46, 2.39, 4.457, 1.2, 1.48, 1.58, 2.91937662174616, 4.452, 2.457, 2.43806111280007, 2.43806111280007, 1.34, 2.211, 1.461, 1.931, 4.83866068447274, 4.83866068447274, 4.84344627089137, 2.469, 1.85, 1.54, 3.618, 5.015, 1.537, 4.156, 4.449, 3.636, 1.753, 2.238, 2.092, 2.887, 5.242, 1.466, 1.491, 1.79, 1.8205, 1.91058925025361, 1.991, 2.455, 3.859, 2.03, 2.44561855092919, 4.814, 3.804]}],                        {\"geo\": {\"projection\": {\"type\": \"natural earth\"}, \"showframe\": false}, \"template\": {\"data\": {\"bar\": [{\"error_x\": {\"color\": \"#2a3f5f\"}, \"error_y\": {\"color\": \"#2a3f5f\"}, \"marker\": {\"line\": {\"color\": \"#E5ECF6\", \"width\": 0.5}}, \"type\": \"bar\"}], \"barpolar\": [{\"marker\": {\"line\": {\"color\": \"#E5ECF6\", \"width\": 0.5}}, \"type\": \"barpolar\"}], \"carpet\": [{\"aaxis\": {\"endlinecolor\": \"#2a3f5f\", \"gridcolor\": \"white\", \"linecolor\": \"white\", \"minorgridcolor\": \"white\", \"startlinecolor\": \"#2a3f5f\"}, \"baxis\": {\"endlinecolor\": \"#2a3f5f\", \"gridcolor\": \"white\", \"linecolor\": \"white\", \"minorgridcolor\": \"white\", \"startlinecolor\": \"#2a3f5f\"}, \"type\": \"carpet\"}], \"choropleth\": [{\"colorbar\": {\"outlinewidth\": 0, \"ticks\": \"\"}, \"type\": \"choropleth\"}], \"contour\": [{\"colorbar\": {\"outlinewidth\": 0, \"ticks\": \"\"}, \"colorscale\": [[0.0, \"#0d0887\"], [0.1111111111111111, \"#46039f\"], [0.2222222222222222, \"#7201a8\"], [0.3333333333333333, \"#9c179e\"], [0.4444444444444444, \"#bd3786\"], [0.5555555555555556, \"#d8576b\"], [0.6666666666666666, \"#ed7953\"], [0.7777777777777778, \"#fb9f3a\"], [0.8888888888888888, \"#fdca26\"], [1.0, \"#f0f921\"]], \"type\": \"contour\"}], \"contourcarpet\": [{\"colorbar\": {\"outlinewidth\": 0, \"ticks\": \"\"}, \"type\": \"contourcarpet\"}], \"heatmap\": [{\"colorbar\": {\"outlinewidth\": 0, \"ticks\": \"\"}, \"colorscale\": [[0.0, \"#0d0887\"], [0.1111111111111111, \"#46039f\"], [0.2222222222222222, \"#7201a8\"], [0.3333333333333333, \"#9c179e\"], [0.4444444444444444, \"#bd3786\"], [0.5555555555555556, \"#d8576b\"], [0.6666666666666666, \"#ed7953\"], [0.7777777777777778, \"#fb9f3a\"], [0.8888888888888888, \"#fdca26\"], [1.0, \"#f0f921\"]], \"type\": \"heatmap\"}], \"heatmapgl\": [{\"colorbar\": {\"outlinewidth\": 0, \"ticks\": \"\"}, \"colorscale\": [[0.0, \"#0d0887\"], [0.1111111111111111, \"#46039f\"], [0.2222222222222222, \"#7201a8\"], [0.3333333333333333, \"#9c179e\"], [0.4444444444444444, \"#bd3786\"], [0.5555555555555556, \"#d8576b\"], [0.6666666666666666, \"#ed7953\"], [0.7777777777777778, \"#fb9f3a\"], [0.8888888888888888, \"#fdca26\"], [1.0, \"#f0f921\"]], \"type\": \"heatmapgl\"}], \"histogram\": [{\"marker\": {\"colorbar\": {\"outlinewidth\": 0, \"ticks\": \"\"}}, \"type\": \"histogram\"}], \"histogram2d\": [{\"colorbar\": {\"outlinewidth\": 0, \"ticks\": \"\"}, \"colorscale\": [[0.0, \"#0d0887\"], [0.1111111111111111, \"#46039f\"], [0.2222222222222222, \"#7201a8\"], [0.3333333333333333, \"#9c179e\"], [0.4444444444444444, \"#bd3786\"], [0.5555555555555556, \"#d8576b\"], [0.6666666666666666, \"#ed7953\"], [0.7777777777777778, \"#fb9f3a\"], [0.8888888888888888, \"#fdca26\"], [1.0, \"#f0f921\"]], \"type\": \"histogram2d\"}], \"histogram2dcontour\": [{\"colorbar\": {\"outlinewidth\": 0, \"ticks\": \"\"}, \"colorscale\": [[0.0, \"#0d0887\"], [0.1111111111111111, \"#46039f\"], [0.2222222222222222, \"#7201a8\"], [0.3333333333333333, \"#9c179e\"], [0.4444444444444444, \"#bd3786\"], [0.5555555555555556, \"#d8576b\"], [0.6666666666666666, \"#ed7953\"], [0.7777777777777778, \"#fb9f3a\"], [0.8888888888888888, \"#fdca26\"], [1.0, \"#f0f921\"]], \"type\": \"histogram2dcontour\"}], \"mesh3d\": [{\"colorbar\": {\"outlinewidth\": 0, \"ticks\": \"\"}, \"type\": \"mesh3d\"}], \"parcoords\": [{\"line\": {\"colorbar\": {\"outlinewidth\": 0, \"ticks\": \"\"}}, \"type\": \"parcoords\"}], \"pie\": [{\"automargin\": true, \"type\": \"pie\"}], \"scatter\": [{\"marker\": {\"colorbar\": {\"outlinewidth\": 0, \"ticks\": \"\"}}, \"type\": \"scatter\"}], \"scatter3d\": [{\"line\": {\"colorbar\": {\"outlinewidth\": 0, \"ticks\": \"\"}}, \"marker\": {\"colorbar\": {\"outlinewidth\": 0, \"ticks\": \"\"}}, \"type\": \"scatter3d\"}], \"scattercarpet\": [{\"marker\": {\"colorbar\": {\"outlinewidth\": 0, \"ticks\": \"\"}}, \"type\": \"scattercarpet\"}], \"scattergeo\": [{\"marker\": {\"colorbar\": {\"outlinewidth\": 0, \"ticks\": \"\"}}, \"type\": \"scattergeo\"}], \"scattergl\": [{\"marker\": {\"colorbar\": {\"outlinewidth\": 0, \"ticks\": \"\"}}, \"type\": \"scattergl\"}], \"scattermapbox\": [{\"marker\": {\"colorbar\": {\"outlinewidth\": 0, \"ticks\": \"\"}}, \"type\": \"scattermapbox\"}], \"scatterpolar\": [{\"marker\": {\"colorbar\": {\"outlinewidth\": 0, \"ticks\": \"\"}}, \"type\": \"scatterpolar\"}], \"scatterpolargl\": [{\"marker\": {\"colorbar\": {\"outlinewidth\": 0, \"ticks\": \"\"}}, \"type\": \"scatterpolargl\"}], \"scatterternary\": [{\"marker\": {\"colorbar\": {\"outlinewidth\": 0, \"ticks\": \"\"}}, \"type\": \"scatterternary\"}], \"surface\": [{\"colorbar\": {\"outlinewidth\": 0, \"ticks\": \"\"}, \"colorscale\": [[0.0, \"#0d0887\"], [0.1111111111111111, \"#46039f\"], [0.2222222222222222, \"#7201a8\"], [0.3333333333333333, \"#9c179e\"], [0.4444444444444444, \"#bd3786\"], [0.5555555555555556, \"#d8576b\"], [0.6666666666666666, \"#ed7953\"], [0.7777777777777778, \"#fb9f3a\"], [0.8888888888888888, \"#fdca26\"], [1.0, \"#f0f921\"]], \"type\": \"surface\"}], \"table\": [{\"cells\": {\"fill\": {\"color\": \"#EBF0F8\"}, \"line\": {\"color\": \"white\"}}, \"header\": {\"fill\": {\"color\": \"#C8D4E3\"}, \"line\": {\"color\": \"white\"}}, \"type\": \"table\"}]}, \"layout\": {\"annotationdefaults\": {\"arrowcolor\": \"#2a3f5f\", \"arrowhead\": 0, \"arrowwidth\": 1}, \"autotypenumbers\": \"strict\", \"coloraxis\": {\"colorbar\": {\"outlinewidth\": 0, \"ticks\": \"\"}}, \"colorscale\": {\"diverging\": [[0, \"#8e0152\"], [0.1, \"#c51b7d\"], [0.2, \"#de77ae\"], [0.3, \"#f1b6da\"], [0.4, \"#fde0ef\"], [0.5, \"#f7f7f7\"], [0.6, \"#e6f5d0\"], [0.7, \"#b8e186\"], [0.8, \"#7fbc41\"], [0.9, \"#4d9221\"], [1, \"#276419\"]], \"sequential\": [[0.0, \"#0d0887\"], [0.1111111111111111, \"#46039f\"], [0.2222222222222222, \"#7201a8\"], [0.3333333333333333, \"#9c179e\"], [0.4444444444444444, \"#bd3786\"], [0.5555555555555556, \"#d8576b\"], [0.6666666666666666, \"#ed7953\"], [0.7777777777777778, \"#fb9f3a\"], [0.8888888888888888, \"#fdca26\"], [1.0, \"#f0f921\"]], \"sequentialminus\": [[0.0, \"#0d0887\"], [0.1111111111111111, \"#46039f\"], [0.2222222222222222, \"#7201a8\"], [0.3333333333333333, \"#9c179e\"], [0.4444444444444444, \"#bd3786\"], [0.5555555555555556, \"#d8576b\"], [0.6666666666666666, \"#ed7953\"], [0.7777777777777778, \"#fb9f3a\"], [0.8888888888888888, \"#fdca26\"], [1.0, \"#f0f921\"]]}, \"colorway\": [\"#636efa\", \"#EF553B\", \"#00cc96\", \"#ab63fa\", \"#FFA15A\", \"#19d3f3\", \"#FF6692\", \"#B6E880\", \"#FF97FF\", \"#FECB52\"], \"font\": {\"color\": \"#2a3f5f\"}, \"geo\": {\"bgcolor\": \"white\", \"lakecolor\": \"white\", \"landcolor\": \"#E5ECF6\", \"showlakes\": true, \"showland\": true, \"subunitcolor\": \"white\"}, \"hoverlabel\": {\"align\": \"left\"}, \"hovermode\": \"closest\", \"mapbox\": {\"style\": \"light\"}, \"paper_bgcolor\": \"white\", \"plot_bgcolor\": \"#E5ECF6\", \"polar\": {\"angularaxis\": {\"gridcolor\": \"white\", \"linecolor\": \"white\", \"ticks\": \"\"}, \"bgcolor\": \"#E5ECF6\", \"radialaxis\": {\"gridcolor\": \"white\", \"linecolor\": \"white\", \"ticks\": \"\"}}, \"scene\": {\"xaxis\": {\"backgroundcolor\": \"#E5ECF6\", \"gridcolor\": \"white\", \"gridwidth\": 2, \"linecolor\": \"white\", \"showbackground\": true, \"ticks\": \"\", \"zerolinecolor\": \"white\"}, \"yaxis\": {\"backgroundcolor\": \"#E5ECF6\", \"gridcolor\": \"white\", \"gridwidth\": 2, \"linecolor\": \"white\", \"showbackground\": true, \"ticks\": \"\", \"zerolinecolor\": \"white\"}, \"zaxis\": {\"backgroundcolor\": \"#E5ECF6\", \"gridcolor\": \"white\", \"gridwidth\": 2, \"linecolor\": \"white\", \"showbackground\": true, \"ticks\": \"\", \"zerolinecolor\": \"white\"}}, \"shapedefaults\": {\"line\": {\"color\": \"#2a3f5f\"}}, \"ternary\": {\"aaxis\": {\"gridcolor\": \"white\", \"linecolor\": \"white\", \"ticks\": \"\"}, \"baxis\": {\"gridcolor\": \"white\", \"linecolor\": \"white\", \"ticks\": \"\"}, \"bgcolor\": \"#E5ECF6\", \"caxis\": {\"gridcolor\": \"white\", \"linecolor\": \"white\", \"ticks\": \"\"}}, \"title\": {\"x\": 0.05}, \"xaxis\": {\"automargin\": true, \"gridcolor\": \"white\", \"linecolor\": \"white\", \"ticks\": \"\", \"title\": {\"standoff\": 15}, \"zerolinecolor\": \"white\", \"zerolinewidth\": 2}, \"yaxis\": {\"automargin\": true, \"gridcolor\": \"white\", \"linecolor\": \"white\", \"ticks\": \"\", \"title\": {\"standoff\": 15}, \"zerolinecolor\": \"white\", \"zerolinewidth\": 2}}}, \"title\": {\"text\": \"2016 Fertility Rate\"}},                        {\"responsive\": true}                    ).then(function(){\n",
       "                            \n",
       "var gd = document.getElementById('e421169b-eb55-46e1-a4cc-e8f82dc352c6');\n",
       "var x = new MutationObserver(function (mutations, observer) {{\n",
       "        var display = window.getComputedStyle(gd).display;\n",
       "        if (!display || display === 'none') {{\n",
       "            console.log([gd, 'removed!']);\n",
       "            Plotly.purge(gd);\n",
       "            observer.disconnect();\n",
       "        }}\n",
       "}});\n",
       "\n",
       "// Listen for the removal of the full notebook cells\n",
       "var notebookContainer = gd.closest('#notebook-container');\n",
       "if (notebookContainer) {{\n",
       "    x.observe(notebookContainer, {childList: true});\n",
       "}}\n",
       "\n",
       "// Listen for the clearing of the current output cell\n",
       "var outputEl = gd.closest('.output');\n",
       "if (outputEl) {{\n",
       "    x.observe(outputEl, {childList: true});\n",
       "}}\n",
       "\n",
       "                        })                };                });            </script>        </div>"
      ]
     },
     "metadata": {},
     "output_type": "display_data"
    }
   ],
   "source": [
    "iplot(choromap_fertility)"
   ]
  },
  {
   "cell_type": "code",
   "execution_count": 47,
   "id": "amateur-sunday",
   "metadata": {},
   "outputs": [
    {
     "data": {
      "image/png": "[encoded data removed]",
      "text/plain": [
       "<Figure size 936x432 with 1 Axes>"
      ]
     },
     "metadata": {},
     "output_type": "display_data"
    }
   ],
   "source": [
    "# Health expenditure by region \n",
    "figure = (13, 6)\n",
    "fig, ax = plt.subplots(figsize=figure)\n",
    "ax = sns.boxplot(x='Region', y=\"Government_health_expenditure\", palette='Set2', data=result_df)"
   ]
  },
  {
   "cell_type": "code",
   "execution_count": 48,
   "id": "overhead-jordan",
   "metadata": {},
   "outputs": [
    {
     "data": {
      "image/png": "[encoded data removed]",
      "text/plain": [
       "<Figure size 936x432 with 1 Axes>"
      ]
     },
     "metadata": {},
     "output_type": "display_data"
    }
   ],
   "source": [
    "# Highest ten government health expenditure\n",
    "figure = (13, 6)\n",
    "fig, ax = plt.subplots(figsize=figure)\n",
    "ax = sns.barplot(x=\"country\", y=\"Government_health_expenditure\", data=result_df.nlargest(10, 'Government_health_expenditure'), \n",
    "                palette='Set3', hue='Region')"
   ]
  },
  {
   "cell_type": "code",
   "execution_count": 49,
   "id": "arbitrary-sucking",
   "metadata": {},
   "outputs": [
    {
     "data": {
      "image/png": "[encoded data removed]",
      "text/plain": [
       "<Figure size 936x432 with 1 Axes>"
      ]
     },
     "metadata": {},
     "output_type": "display_data"
    }
   ],
   "source": [
    "# Lowest ten government health expenditure\n",
    "figure = (13, 6)\n",
    "fig, ax = plt.subplots(figsize=figure)\n",
    "ax = sns.barplot(x=\"country\", y=\"Government_health_expenditure\", data=result_df.nsmallest(10, 'Government_health_expenditure'), \n",
    "                palette='Set3', hue='Region')"
   ]
  },
  {
   "cell_type": "code",
   "execution_count": 50,
   "id": "competent-temple",
   "metadata": {},
   "outputs": [
    {
     "data": {
      "text/plain": [
       "array(['South Asia', 'Europe and Central Asia',\n",
       "       'Middle East and North Africa', 'Sub-saharan Africa',\n",
       "       'Latin America and Caribbean', 'Arab World',\n",
       "       'East Asia and Pacific', 'North America', 'Caribbean small states',\n",
       "       'Central Europe and the Baltics', 'Congo, Rep.',\n",
       "       'Early-demographic dividend', 'East Asia & Pacific',\n",
       "       'East Asia & Pacific (IDA & IBRD countries)',\n",
       "       'East Asia & Pacific (excluding high income)', 'Euro area',\n",
       "       'Europe & Central Asia',\n",
       "       'Europe & Central Asia (IDA & IBRD countries)',\n",
       "       'Europe & Central Asia (excluding high income)', 'European Union',\n",
       "       'Fragile and conflict affected situations',\n",
       "       'Heavily indebted poor countries (HIPC)', 'High income',\n",
       "       'Late-demographic dividend', 'Latin America & Caribbean',\n",
       "       'Latin America & Caribbean (excluding high income)',\n",
       "       'Latin America & the Caribbean (IDA & IBRD countries)',\n",
       "       'Least developed countries: UN classification',\n",
       "       'Low & middle income', 'Low income', 'Lower middle income',\n",
       "       'Micronesia, Fed. Sts.', 'Middle East & North Africa',\n",
       "       'Middle East & North Africa (IDA & IBRD countries)',\n",
       "       'Middle East & North Africa (excluding high income)',\n",
       "       'Middle income', 'OECD members', 'Other small states',\n",
       "       'Pacific island small states', 'Post-demographic dividend',\n",
       "       'Pre-demographic dividend', 'Slovak Republic', 'Small states',\n",
       "       'South Asia (IDA & IBRD)', 'St. Vincent and the Grenadines',\n",
       "       'Sub-Saharan Africa', 'Sub-Saharan Africa (IDA & IBRD countries)',\n",
       "       'Sub-Saharan Africa (excluding high income)',\n",
       "       'Upper middle income', 'World'], dtype=object)"
      ]
     },
     "execution_count": 50,
     "metadata": {},
     "output_type": "execute_result"
    }
   ],
   "source": [
    "df.Region.unique()"
   ]
  },
  {
   "cell_type": "code",
   "execution_count": 51,
   "id": "therapeutic-supplier",
   "metadata": {},
   "outputs": [],
   "source": [
    "sub_saharan_africa = df[df['Region']=='Sub-saharan Africa']"
   ]
  },
  {
   "cell_type": "code",
   "execution_count": 52,
   "id": "structural-start",
   "metadata": {},
   "outputs": [],
   "source": [
    "south_asia = df[df['Region']=='South Asia']"
   ]
  },
  {
   "cell_type": "code",
   "execution_count": 53,
   "id": "unexpected-karaoke",
   "metadata": {},
   "outputs": [],
   "source": [
    "europe_and_central_asia = df[df['Region']=='Europe and Central Asia']"
   ]
  },
  {
   "cell_type": "code",
   "execution_count": 54,
   "id": "solved-faculty",
   "metadata": {},
   "outputs": [],
   "source": [
    "middle_east_and_north_africa = df[df['Region']=='Middle East and North Africa']"
   ]
  },
  {
   "cell_type": "code",
   "execution_count": 55,
   "id": "conditional-appeal",
   "metadata": {},
   "outputs": [],
   "source": [
    "latin_america_and_caribbean = df[df['Region']=='Latin America and Caribbean']"
   ]
  },
  {
   "cell_type": "code",
   "execution_count": 56,
   "id": "military-qatar",
   "metadata": {},
   "outputs": [],
   "source": [
    "east_asia_and_pacific = df[df['Region']=='East Asia and Pacific']"
   ]
  },
  {
   "cell_type": "code",
   "execution_count": 57,
   "id": "caroline-listing",
   "metadata": {},
   "outputs": [],
   "source": [
    "north_america = df[df['Region']=='North America']"
   ]
  },
  {
   "cell_type": "code",
   "execution_count": 58,
   "id": "optical-amount",
   "metadata": {},
   "outputs": [
    {
     "data": {
      "text/plain": [
       "Infant_mortality_per1000         0.999999\n",
       "Maternal_mortality_per100000     0.999432\n",
       "Life_expectancy                 -0.999718\n",
       "Adult_obesity                    0.999616\n",
       "Fertility_rate                   0.999713\n",
       "Death_per1000                    0.999720\n",
       "Government_health_expenditure    1.000000\n",
       "Name: Government_health_expenditure, dtype: float64"
      ]
     },
     "execution_count": 58,
     "metadata": {},
     "output_type": "execute_result"
    }
   ],
   "source": [
    "north_america[['Infant_mortality_per1000', 'Maternal_mortality_per100000','Life_expectancy', 'Adult_obesity', \n",
    "               'Fertility_rate', 'Death_per1000', 'Government_health_expenditure']].corr()['Government_health_expenditure'][:]"
   ]
  },
  {
   "cell_type": "code",
   "execution_count": 59,
   "id": "second-summer",
   "metadata": {},
   "outputs": [
    {
     "data": {
      "text/plain": [
       "Infant_mortality_per1000        -0.298998\n",
       "Maternal_mortality_per100000    -0.361947\n",
       "Life_expectancy                  0.545440\n",
       "Adult_obesity                    0.199940\n",
       "Fertility_rate                  -0.249354\n",
       "Death_per1000                    0.344031\n",
       "Government_health_expenditure    1.000000\n",
       "Name: Government_health_expenditure, dtype: float64"
      ]
     },
     "execution_count": 59,
     "metadata": {},
     "output_type": "execute_result"
    }
   ],
   "source": [
    "east_asia_and_pacific[['Infant_mortality_per1000', 'Maternal_mortality_per100000','Life_expectancy', 'Adult_obesity', \n",
    "               'Fertility_rate', 'Death_per1000', 'Government_health_expenditure']].corr()['Government_health_expenditure'][:]"
   ]
  },
  {
   "cell_type": "code",
   "execution_count": 60,
   "id": "second-browser",
   "metadata": {},
   "outputs": [
    {
     "data": {
      "text/plain": [
       "Infant_mortality_per1000        -0.175586\n",
       "Maternal_mortality_per100000    -0.024106\n",
       "Life_expectancy                  0.252312\n",
       "Adult_obesity                    0.362073\n",
       "Fertility_rate                  -0.126527\n",
       "Death_per1000                    0.151869\n",
       "Government_health_expenditure    1.000000\n",
       "Name: Government_health_expenditure, dtype: float64"
      ]
     },
     "execution_count": 60,
     "metadata": {},
     "output_type": "execute_result"
    }
   ],
   "source": [
    "latin_america_and_caribbean[['Infant_mortality_per1000', 'Maternal_mortality_per100000','Life_expectancy', 'Adult_obesity', \n",
    "               'Fertility_rate', 'Death_per1000', 'Government_health_expenditure']].corr()['Government_health_expenditure'][:]"
   ]
  },
  {
   "cell_type": "code",
   "execution_count": 61,
   "id": "opening-interference",
   "metadata": {},
   "outputs": [
    {
     "data": {
      "text/plain": [
       "Infant_mortality_per1000        -0.359787\n",
       "Maternal_mortality_per100000    -0.331633\n",
       "Life_expectancy                  0.503501\n",
       "Adult_obesity                    0.190991\n",
       "Fertility_rate                  -0.214408\n",
       "Death_per1000                    0.398003\n",
       "Government_health_expenditure    1.000000\n",
       "Name: Government_health_expenditure, dtype: float64"
      ]
     },
     "execution_count": 61,
     "metadata": {},
     "output_type": "execute_result"
    }
   ],
   "source": [
    "middle_east_and_north_africa[['Infant_mortality_per1000', 'Maternal_mortality_per100000','Life_expectancy', 'Adult_obesity', \n",
    "               'Fertility_rate', 'Death_per1000', 'Government_health_expenditure']].corr()['Government_health_expenditure'][:]"
   ]
  },
  {
   "cell_type": "code",
   "execution_count": 62,
   "id": "photographic-mitchell",
   "metadata": {},
   "outputs": [
    {
     "data": {
      "text/plain": [
       "Infant_mortality_per1000        -0.376671\n",
       "Maternal_mortality_per100000    -0.372871\n",
       "Life_expectancy                  0.612623\n",
       "Adult_obesity                    0.060208\n",
       "Fertility_rate                  -0.286240\n",
       "Death_per1000                    0.073984\n",
       "Government_health_expenditure    1.000000\n",
       "Name: Government_health_expenditure, dtype: float64"
      ]
     },
     "execution_count": 62,
     "metadata": {},
     "output_type": "execute_result"
    }
   ],
   "source": [
    "europe_and_central_asia[['Infant_mortality_per1000', 'Maternal_mortality_per100000','Life_expectancy', 'Adult_obesity', \n",
    "               'Fertility_rate', 'Death_per1000', 'Government_health_expenditure']].corr()['Government_health_expenditure'][:]"
   ]
  },
  {
   "cell_type": "code",
   "execution_count": 63,
   "id": "reduced-wealth",
   "metadata": {},
   "outputs": [
    {
     "data": {
      "text/plain": [
       "Infant_mortality_per1000        -0.087380\n",
       "Maternal_mortality_per100000     0.525063\n",
       "Life_expectancy                  0.000720\n",
       "Adult_obesity                    0.327235\n",
       "Fertility_rate                   0.409115\n",
       "Death_per1000                   -0.483408\n",
       "Government_health_expenditure    1.000000\n",
       "Name: Government_health_expenditure, dtype: float64"
      ]
     },
     "execution_count": 63,
     "metadata": {},
     "output_type": "execute_result"
    }
   ],
   "source": [
    "south_asia[['Infant_mortality_per1000', 'Maternal_mortality_per100000','Life_expectancy', 'Adult_obesity', \n",
    "               'Fertility_rate', 'Death_per1000', 'Government_health_expenditure']].corr()['Government_health_expenditure'][:]"
   ]
  },
  {
   "cell_type": "code",
   "execution_count": 64,
   "id": "bigger-turner",
   "metadata": {},
   "outputs": [
    {
     "data": {
      "text/plain": [
       "Infant_mortality_per1000         0.131363\n",
       "Maternal_mortality_per100000     0.213078\n",
       "Life_expectancy                 -0.172812\n",
       "Adult_obesity                    0.067432\n",
       "Fertility_rate                  -0.184253\n",
       "Death_per1000                    0.192718\n",
       "Government_health_expenditure    1.000000\n",
       "Name: Government_health_expenditure, dtype: float64"
      ]
     },
     "execution_count": 64,
     "metadata": {},
     "output_type": "execute_result"
    }
   ],
   "source": [
    "sub_saharan_africa[['Infant_mortality_per1000', 'Maternal_mortality_per100000','Life_expectancy', 'Adult_obesity', \n",
    "               'Fertility_rate', 'Death_per1000', 'Government_health_expenditure']].corr()['Government_health_expenditure'][:]"
   ]
  }
 ],
 "metadata": {
  "kernelspec": {
   "display_name": "Python 3",
   "language": "python",
   "name": "python3"
  },
  "language_info": {
   "codemirror_mode": {
    "name": "ipython",
    "version": 3
   },
   "file_extension": ".py",
   "mimetype": "text/x-python",
   "name": "python",
   "nbconvert_exporter": "python",
   "pygments_lexer": "ipython3",
   "version": "3.9.4"
  }
 },
 "nbformat": 4,
 "nbformat_minor": 5
}
